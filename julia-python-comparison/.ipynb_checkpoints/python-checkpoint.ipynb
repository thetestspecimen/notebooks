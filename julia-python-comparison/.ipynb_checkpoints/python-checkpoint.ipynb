{
 "cells": [
  {
   "cell_type": "code",
   "execution_count": 1,
   "metadata": {
    "cell_id": "75ce704f73024b87a3a337cb168841dc",
    "colab": {
     "base_uri": "https://localhost:8080/"
    },
    "deepnote_cell_type": "code",
    "deepnote_to_be_reexecuted": false,
    "execution_millis": 3,
    "execution_start": 1667728199850,
    "id": "kJaRf22kjY-r",
    "outputId": "5efbf6e2-90bf-4a68-eb0e-aa1b3c17e2ff",
    "source_hash": "5dbfb675"
   },
   "outputs": [
    {
     "name": "stdout",
     "output_type": "stream",
     "text": [
      "Architecture:        x86_64\n",
      "CPU op-mode(s):      32-bit, 64-bit\n",
      "Byte Order:          Little Endian\n",
      "Address sizes:       46 bits physical, 48 bits virtual\n",
      "CPU(s):              4\n",
      "On-line CPU(s) list: 0-3\n",
      "Thread(s) per core:  2\n",
      "Core(s) per socket:  2\n",
      "Socket(s):           1\n",
      "NUMA node(s):        1\n",
      "Vendor ID:           GenuineIntel\n",
      "CPU family:          6\n",
      "Model:               106\n",
      "Model name:          Intel(R) Xeon(R) Platinum 8375C CPU @ 2.90GHz\n",
      "Stepping:            6\n",
      "CPU MHz:             3499.983\n",
      "BogoMIPS:            5799.99\n",
      "Hypervisor vendor:   KVM\n",
      "Virtualization type: full\n",
      "L1d cache:           48K\n",
      "L1i cache:           32K\n",
      "L2 cache:            1280K\n",
      "L3 cache:            55296K\n",
      "NUMA node0 CPU(s):   0-3\n",
      "Flags:               fpu vme de pse tsc msr pae mce cx8 apic sep mtrr pge mca cmov pat pse36 clflush mmx fxsr sse sse2 ss ht syscall nx pdpe1gb rdtscp lm constant_tsc rep_good nopl xtopology nonstop_tsc cpuid aperfmperf tsc_known_freq pni pclmulqdq ssse3 fma cx16 pcid sse4_1 sse4_2 x2apic movbe popcnt tsc_deadline_timer aes xsave avx f16c rdrand hypervisor lahf_lm abm 3dnowprefetch invpcid_single ssbd ibrs ibpb stibp ibrs_enhanced fsgsbase tsc_adjust bmi1 avx2 smep bmi2 erms invpcid avx512f avx512dq rdseed adx smap avx512ifma clflushopt clwb avx512cd sha_ni avx512bw avx512vl xsaveopt xsavec xgetbv1 xsaves wbnoinvd ida arat avx512vbmi pku ospke avx512_vbmi2 gfni vaes vpclmulqdq avx512_vnni avx512_bitalg tme avx512_vpopcntdq rdpid md_clear flush_l1d arch_capabilities\n"
     ]
    }
   ],
   "source": [
    "# check CPU information\n",
    "cpu_info = !lscpu\n",
    "for inf_item in cpu_info.get_list():\n",
    "  print(inf_item)"
   ]
  },
  {
   "cell_type": "code",
   "execution_count": 2,
   "metadata": {
    "cell_id": "f96c25b9cb374a7eabae3649789f2ca8",
    "deepnote_cell_type": "code",
    "deepnote_to_be_reexecuted": false,
    "execution_millis": 0,
    "execution_start": 1667728199851,
    "id": "39be5221-68b7-41f3-9559-afcf99ed07fa",
    "source_hash": "83aca120"
   },
   "outputs": [],
   "source": [
    "import numpy as np\n",
    "import pandas as pd\n",
    "import timeit"
   ]
  },
  {
   "cell_type": "code",
   "execution_count": 3,
   "metadata": {
    "cell_id": "b8ff0878134e41568a5774b2afe9c856",
    "deepnote_cell_type": "code",
    "deepnote_to_be_reexecuted": false,
    "execution_millis": 3,
    "execution_start": 1667728199851,
    "id": "15fde098-485b-496f-89fe-e9286d32c1cb",
    "source_hash": "efcf7120"
   },
   "outputs": [],
   "source": [
    "# a very simple arithmetic based method\n",
    "\n",
    "def sum_nums(a, b):\n",
    "    return a + b"
   ]
  },
  {
   "cell_type": "code",
   "execution_count": 4,
   "metadata": {
    "cell_id": "ffb9ce21ff4f4071b6bfbe028cb1807b",
    "deepnote_cell_type": "code",
    "deepnote_to_be_reexecuted": false,
    "execution_millis": 73,
    "execution_start": 1667728199854,
    "id": "c4b67761-24bf-437c-a298-64a40d920eaa",
    "source_hash": "5513ec94"
   },
   "outputs": [],
   "source": [
    "df = pd.DataFrame({'series1':np.random.randn(1000000), 'series2':np.random.randn(1000000)})"
   ]
  },
  {
   "cell_type": "code",
   "execution_count": 5,
   "metadata": {
    "cell_id": "11a9196e239443df81c44e1d9f021054",
    "colab": {
     "base_uri": "https://localhost:8080/",
     "height": 424
    },
    "deepnote_cell_type": "code",
    "deepnote_to_be_reexecuted": false,
    "execution_millis": 26,
    "execution_start": 1667728199930,
    "id": "021332d5-cf95-4302-a962-4758fee718bb",
    "outputId": "8a4feb6f-bad8-4765-eea7-3cc479af11d3",
    "source_hash": "f804c160"
   },
   "outputs": [
    {
     "data": {
      "application/vnd.deepnote.dataframe.v3+json": {
       "column_count": 2,
       "columns": [
        {
         "dtype": "float64",
         "name": "series1"
        },
        {
         "dtype": "float64",
         "name": "series2"
        },
        {
         "dtype": "int64",
         "name": "_deepnote_index_column"
        }
       ],
       "row_count": 1000000,
       "rows": [
        {
         "_deepnote_index_column": "0",
         "series1": "-0.5925139506578577",
         "series2": "-0.632610455821395"
        },
        {
         "_deepnote_index_column": "1",
         "series1": "0.5559450918859042",
         "series2": "1.9276916491086158"
        },
        {
         "_deepnote_index_column": "2",
         "series1": "1.741297169361197",
         "series2": "1.1169809232676002"
        },
        {
         "_deepnote_index_column": "3",
         "series1": "0.2536105637005073",
         "series2": "-0.30172188568145714"
        },
        {
         "_deepnote_index_column": "4",
         "series1": "1.0286220008559483",
         "series2": "-1.7429397989414999"
        },
        {
         "_deepnote_index_column": "5",
         "series1": "-0.21261232940395647",
         "series2": "-0.3026707499820965"
        },
        {
         "_deepnote_index_column": "6",
         "series1": "-1.8243114426066163",
         "series2": "0.6715122032574351"
        },
        {
         "_deepnote_index_column": "7",
         "series1": "0.2550281310616395",
         "series2": "-0.08038456483223273"
        },
        {
         "_deepnote_index_column": "8",
         "series1": "0.5953556209710378",
         "series2": "1.8745295841543341"
        },
        {
         "_deepnote_index_column": "9",
         "series1": "0.9754103288944782",
         "series2": "-0.32803890450922696"
        }
       ]
      },
      "text/html": [
       "<div>\n",
       "<style scoped>\n",
       "    .dataframe tbody tr th:only-of-type {\n",
       "        vertical-align: middle;\n",
       "    }\n",
       "\n",
       "    .dataframe tbody tr th {\n",
       "        vertical-align: top;\n",
       "    }\n",
       "\n",
       "    .dataframe thead th {\n",
       "        text-align: right;\n",
       "    }\n",
       "</style>\n",
       "<table border=\"1\" class=\"dataframe\">\n",
       "  <thead>\n",
       "    <tr style=\"text-align: right;\">\n",
       "      <th></th>\n",
       "      <th>series1</th>\n",
       "      <th>series2</th>\n",
       "    </tr>\n",
       "  </thead>\n",
       "  <tbody>\n",
       "    <tr>\n",
       "      <th>0</th>\n",
       "      <td>-0.592514</td>\n",
       "      <td>-0.632610</td>\n",
       "    </tr>\n",
       "    <tr>\n",
       "      <th>1</th>\n",
       "      <td>0.555945</td>\n",
       "      <td>1.927692</td>\n",
       "    </tr>\n",
       "    <tr>\n",
       "      <th>2</th>\n",
       "      <td>1.741297</td>\n",
       "      <td>1.116981</td>\n",
       "    </tr>\n",
       "    <tr>\n",
       "      <th>3</th>\n",
       "      <td>0.253611</td>\n",
       "      <td>-0.301722</td>\n",
       "    </tr>\n",
       "    <tr>\n",
       "      <th>4</th>\n",
       "      <td>1.028622</td>\n",
       "      <td>-1.742940</td>\n",
       "    </tr>\n",
       "    <tr>\n",
       "      <th>...</th>\n",
       "      <td>...</td>\n",
       "      <td>...</td>\n",
       "    </tr>\n",
       "    <tr>\n",
       "      <th>999995</th>\n",
       "      <td>1.328523</td>\n",
       "      <td>0.117499</td>\n",
       "    </tr>\n",
       "    <tr>\n",
       "      <th>999996</th>\n",
       "      <td>-0.984490</td>\n",
       "      <td>0.542356</td>\n",
       "    </tr>\n",
       "    <tr>\n",
       "      <th>999997</th>\n",
       "      <td>-0.298033</td>\n",
       "      <td>1.113037</td>\n",
       "    </tr>\n",
       "    <tr>\n",
       "      <th>999998</th>\n",
       "      <td>-0.597248</td>\n",
       "      <td>-0.742494</td>\n",
       "    </tr>\n",
       "    <tr>\n",
       "      <th>999999</th>\n",
       "      <td>-0.783122</td>\n",
       "      <td>0.099940</td>\n",
       "    </tr>\n",
       "  </tbody>\n",
       "</table>\n",
       "<p>1000000 rows × 2 columns</p>\n",
       "</div>"
      ],
      "text/plain": [
       "         series1   series2\n",
       "0      -0.592514 -0.632610\n",
       "1       0.555945  1.927692\n",
       "2       1.741297  1.116981\n",
       "3       0.253611 -0.301722\n",
       "4       1.028622 -1.742940\n",
       "...          ...       ...\n",
       "999995  1.328523  0.117499\n",
       "999996 -0.984490  0.542356\n",
       "999997 -0.298033  1.113037\n",
       "999998 -0.597248 -0.742494\n",
       "999999 -0.783122  0.099940\n",
       "\n",
       "[1000000 rows x 2 columns]"
      ]
     },
     "execution_count": 5,
     "metadata": {},
     "output_type": "execute_result"
    }
   ],
   "source": [
    "df"
   ]
  },
  {
   "cell_type": "markdown",
   "metadata": {
    "cell_id": "ba54a7d698b3492a8f560f6aad5d8f03",
    "deepnote_cell_type": "markdown",
    "id": "_z1dl4gPUPI5"
   },
   "source": [
    "## Check to see if all methods result in the same output"
   ]
  },
  {
   "cell_type": "code",
   "execution_count": 6,
   "metadata": {
    "cell_id": "95dac7b6f4654c25a069b574f81ec3e1",
    "colab": {
     "base_uri": "https://localhost:8080/"
    },
    "deepnote_cell_type": "code",
    "deepnote_to_be_reexecuted": false,
    "execution_millis": 7107,
    "execution_start": 1667728200004,
    "id": "fa88d449-9e28-4c98-922d-f69ab03ad662",
    "outputId": "fe6899f8-d20a-4776-e5af-086c87d8aada",
    "source_hash": "18629642"
   },
   "outputs": [
    {
     "data": {
      "text/plain": [
       "([-1.2251244064792526,\n",
       "  2.48363674099452,\n",
       "  2.8582780926287974,\n",
       "  -0.04811132198094986,\n",
       "  -0.7143177980855515],\n",
       " [1.446022830998357,\n",
       "  -0.44213311264394073,\n",
       "  0.8150038348480322,\n",
       "  -1.339741748523136,\n",
       "  -0.6831815537853898])"
      ]
     },
     "execution_count": 6,
     "metadata": {},
     "output_type": "execute_result"
    }
   ],
   "source": [
    "series3 = df.apply(lambda df: sum_nums(df['series1'],df['series2']),axis=1)\n",
    "series3[0:5].to_list(), series3[-5:].to_list()"
   ]
  },
  {
   "cell_type": "code",
   "execution_count": 7,
   "metadata": {
    "cell_id": "7c9eb4eb258a4509a8e19c3fa33453c4",
    "colab": {
     "base_uri": "https://localhost:8080/"
    },
    "deepnote_cell_type": "code",
    "deepnote_to_be_reexecuted": false,
    "execution_millis": 530,
    "execution_start": 1667728206784,
    "id": "tS2CHIfNP5Pq",
    "outputId": "613defee-e7ac-4b9f-c3cb-33095ec41e66",
    "source_hash": "94b02099"
   },
   "outputs": [
    {
     "data": {
      "text/plain": [
       "([-1.2251244064792526,\n",
       "  2.48363674099452,\n",
       "  2.8582780926287974,\n",
       "  -0.04811132198094986,\n",
       "  -0.7143177980855515],\n",
       " [1.446022830998357,\n",
       "  -0.44213311264394073,\n",
       "  0.8150038348480322,\n",
       "  -1.339741748523136,\n",
       "  -0.6831815537853898])"
      ]
     },
     "execution_count": 7,
     "metadata": {},
     "output_type": "execute_result"
    }
   ],
   "source": [
    "series3 = [sum_nums(a, b) for a, b in df.itertuples(index=False)]\n",
    "series3[0:5], series3[-5:]"
   ]
  },
  {
   "cell_type": "code",
   "execution_count": 8,
   "metadata": {
    "cell_id": "4c1a18fc06ea47599a5f4a7eb27164af",
    "colab": {
     "base_uri": "https://localhost:8080/"
    },
    "deepnote_cell_type": "code",
    "deepnote_to_be_reexecuted": false,
    "execution_millis": 199,
    "execution_start": 1667728207214,
    "id": "8c87e3c0-bacf-4e84-895f-85445b0abac8",
    "outputId": "a8377c00-f499-4b47-fe96-449d3662c220",
    "source_hash": "2b5e022"
   },
   "outputs": [
    {
     "data": {
      "text/plain": [
       "([-1.2251244064792526,\n",
       "  2.48363674099452,\n",
       "  2.8582780926287974,\n",
       "  -0.04811132198094986,\n",
       "  -0.7143177980855515],\n",
       " [1.446022830998357,\n",
       "  -0.44213311264394073,\n",
       "  0.8150038348480322,\n",
       "  -1.339741748523136,\n",
       "  -0.6831815537853898])"
      ]
     },
     "execution_count": 8,
     "metadata": {},
     "output_type": "execute_result"
    }
   ],
   "source": [
    "series3 = [sum_nums(a, b) for a, b in zip(df['series1'],df['series2'])]\n",
    "series3[0:5], series3[-5:]"
   ]
  },
  {
   "cell_type": "code",
   "execution_count": 9,
   "metadata": {
    "cell_id": "d1368621da8248be8a86f6b953263954",
    "colab": {
     "base_uri": "https://localhost:8080/"
    },
    "deepnote_cell_type": "code",
    "deepnote_to_be_reexecuted": false,
    "execution_millis": 174,
    "execution_start": 1667728207436,
    "id": "8c87e0a4-9c2b-443c-966a-299e24186d63",
    "outputId": "865d28c8-e2b4-4ae6-c012-d569877f0176",
    "source_hash": "64dd147c"
   },
   "outputs": [
    {
     "data": {
      "text/plain": [
       "([-1.2251244064792526,\n",
       "  2.48363674099452,\n",
       "  2.8582780926287974,\n",
       "  -0.04811132198094986,\n",
       "  -0.7143177980855515],\n",
       " [1.446022830998357,\n",
       "  -0.44213311264394073,\n",
       "  0.8150038348480322,\n",
       "  -1.339741748523136,\n",
       "  -0.6831815537853898])"
      ]
     },
     "execution_count": 9,
     "metadata": {},
     "output_type": "execute_result"
    }
   ],
   "source": [
    "series3 = np.vectorize(sum_nums)(df['series1'],df['series2'])\n",
    "series3[0:5].tolist(), series3[-5:].tolist()"
   ]
  },
  {
   "cell_type": "code",
   "execution_count": 10,
   "metadata": {
    "cell_id": "906a7e1794e14bfabb9e18d48038bab1",
    "colab": {
     "base_uri": "https://localhost:8080/"
    },
    "deepnote_cell_type": "code",
    "deepnote_to_be_reexecuted": false,
    "execution_millis": 9,
    "execution_start": 1667728207612,
    "id": "5a4a2eae-c8f0-4930-84c2-22c3d7db49f9",
    "outputId": "368ca569-fc0a-4141-af00-3b2f5f874327",
    "source_hash": "5d0f4725"
   },
   "outputs": [
    {
     "data": {
      "text/plain": [
       "([-1.2251244064792526,\n",
       "  2.48363674099452,\n",
       "  2.8582780926287974,\n",
       "  -0.04811132198094986,\n",
       "  -0.7143177980855515],\n",
       " [1.446022830998357,\n",
       "  -0.44213311264394073,\n",
       "  0.8150038348480322,\n",
       "  -1.339741748523136,\n",
       "  -0.6831815537853898])"
      ]
     },
     "execution_count": 10,
     "metadata": {},
     "output_type": "execute_result"
    }
   ],
   "source": [
    "series3 = df['series1'] + df['series2']\n",
    "series3[0:5].tolist(), series3[-5:].tolist()"
   ]
  },
  {
   "cell_type": "code",
   "execution_count": 11,
   "metadata": {
    "cell_id": "7412b3b9e0214ed5bf02532396a294b8",
    "colab": {
     "base_uri": "https://localhost:8080/"
    },
    "deepnote_cell_type": "code",
    "deepnote_to_be_reexecuted": false,
    "execution_millis": 3,
    "execution_start": 1667728207636,
    "id": "ee92a7f5-02ca-4fc9-946a-f6bba89194b9",
    "outputId": "c9c94e36-ffb9-40dc-8a44-31890e0efa5e",
    "source_hash": "cd3af5aa"
   },
   "outputs": [
    {
     "data": {
      "text/plain": [
       "([-1.2251244064792526,\n",
       "  2.48363674099452,\n",
       "  2.8582780926287974,\n",
       "  -0.04811132198094986,\n",
       "  -0.7143177980855515],\n",
       " [1.446022830998357,\n",
       "  -0.44213311264394073,\n",
       "  0.8150038348480322,\n",
       "  -1.339741748523136,\n",
       "  -0.6831815537853898])"
      ]
     },
     "execution_count": 11,
     "metadata": {},
     "output_type": "execute_result"
    }
   ],
   "source": [
    "series3 = np.add(df['series1'].to_numpy(),df['series2'].to_numpy())\n",
    "series3[0:5].tolist(), series3[-5:].tolist()"
   ]
  },
  {
   "cell_type": "markdown",
   "metadata": {
    "cell_id": "c184cf3486c543fa86a3266fb656034e",
    "deepnote_cell_type": "markdown",
    "id": "oXuYzq4pPsgX"
   },
   "source": [
    "## Timit setup"
   ]
  },
  {
   "cell_type": "code",
   "execution_count": 12,
   "metadata": {
    "cell_id": "89cd7c8e9e0d47e6bda316e2473bf11a",
    "deepnote_cell_type": "code",
    "deepnote_to_be_reexecuted": false,
    "execution_millis": 0,
    "execution_start": 1667728207637,
    "id": "27ee6062-8a73-4a5f-b490-213b9bebb270",
    "source_hash": "775dbdba"
   },
   "outputs": [],
   "source": [
    "setup = '''\n",
    "import numpy as np\n",
    "import pandas as pd\n",
    "series = np.array([np.arange(1,1000000),np.arange(2,1000001)]).T\n",
    "df = pd.DataFrame(series, columns=['series1','series2'])\n",
    "def sum_nums(a, b):\n",
    "    return a + b\n",
    "'''"
   ]
  },
  {
   "cell_type": "code",
   "execution_count": 13,
   "metadata": {
    "cell_id": "1a9fc287ab584edfb895a815cca55000",
    "deepnote_cell_type": "code",
    "deepnote_to_be_reexecuted": false,
    "execution_millis": 1,
    "execution_start": 1667728207637,
    "id": "e10842da-e7d4-416a-8b56-ddbe2fc09e89",
    "source_hash": "978608c5"
   },
   "outputs": [],
   "source": [
    "apply_func = '''\n",
    "series3 = df.apply(lambda df: sum_nums(df['series1'],df['series2']),axis=1)\n",
    "'''"
   ]
  },
  {
   "cell_type": "code",
   "execution_count": 14,
   "metadata": {
    "cell_id": "702d7fb06ba44c32ad4c4af56e7e09f0",
    "deepnote_cell_type": "code",
    "deepnote_to_be_reexecuted": false,
    "execution_millis": 1,
    "execution_start": 1667728207639,
    "id": "4d6ec681-6a30-4c32-a227-4d3092d8dbe8",
    "source_hash": "2c483e48"
   },
   "outputs": [],
   "source": [
    "iter_tup_func = '''\n",
    "series3 = [sum_nums(a, b) for a, b in df.itertuples(index=False)]\n",
    "'''"
   ]
  },
  {
   "cell_type": "code",
   "execution_count": 15,
   "metadata": {
    "cell_id": "b4afb68a05e74c5597c8a796a9140bee",
    "deepnote_cell_type": "code",
    "deepnote_to_be_reexecuted": false,
    "execution_millis": 3,
    "execution_start": 1667728207641,
    "id": "-p3jvIwTRKQN",
    "source_hash": "1558ac61"
   },
   "outputs": [],
   "source": [
    "list_comp_func = '''\n",
    "series3 = [sum_nums(a, b) for a, b in zip(df['series1'],df['series2'])]\n",
    "'''"
   ]
  },
  {
   "cell_type": "code",
   "execution_count": 16,
   "metadata": {
    "cell_id": "03044da448a24bdfb1c2ff863f6a7e08",
    "deepnote_cell_type": "code",
    "deepnote_to_be_reexecuted": false,
    "execution_millis": 1,
    "execution_start": 1667728207646,
    "id": "07286652-2aa1-46be-8430-01d438bee4f0",
    "source_hash": "ef29f35"
   },
   "outputs": [],
   "source": [
    "vectorize_func = '''\n",
    "series3 = np.vectorize(sum_nums)(df['series1'],df['series2'])\n",
    "'''"
   ]
  },
  {
   "cell_type": "code",
   "execution_count": 17,
   "metadata": {
    "cell_id": "08d3a59b3adc456fa8954c56559a90d2",
    "deepnote_cell_type": "code",
    "deepnote_to_be_reexecuted": false,
    "execution_millis": 0,
    "execution_start": 1667728207689,
    "id": "3e058afa-acbb-4d10-8cd5-020f4c251af5",
    "source_hash": "ce655741"
   },
   "outputs": [],
   "source": [
    "df_func = '''\n",
    "series3 = df['series1'] + df['series2']\n",
    "'''"
   ]
  },
  {
   "cell_type": "code",
   "execution_count": 18,
   "metadata": {
    "cell_id": "d3990636bbb14a5da9271c31ca0057fb",
    "deepnote_cell_type": "code",
    "deepnote_to_be_reexecuted": false,
    "execution_millis": 1,
    "execution_start": 1667728207689,
    "id": "abc7831b-44ac-478b-a78b-ebc66d95d449",
    "source_hash": "c59fd0cb"
   },
   "outputs": [],
   "source": [
    "numpy_func = '''\n",
    "series3 = np.add(df['series1'].to_numpy(),df['series2'].to_numpy())\n",
    "'''"
   ]
  },
  {
   "cell_type": "markdown",
   "metadata": {
    "cell_id": "3e621cbd16674fd38527f12f077e0b08",
    "deepnote_cell_type": "markdown",
    "id": "G-gbu-OUP3vo"
   },
   "source": [
    "## Run timit for different methods"
   ]
  },
  {
   "cell_type": "code",
   "execution_count": 19,
   "metadata": {
    "cell_id": "a35f04ba7c644e3f8b0b193ea204cf08",
    "colab": {
     "base_uri": "https://localhost:8080/"
    },
    "deepnote_cell_type": "code",
    "deepnote_to_be_reexecuted": false,
    "execution_millis": 6903,
    "execution_start": 1667728207690,
    "id": "0edd1bdb-4e23-46cc-9b6a-488897a0b28e",
    "outputId": "caa6f6ea-370c-4b1b-a4e8-b981dc97aca4",
    "source_hash": "7bb4c4f4"
   },
   "outputs": [
    {
     "data": {
      "text/plain": [
       "6.894508293000399"
      ]
     },
     "execution_count": 19,
     "metadata": {},
     "output_type": "execute_result"
    }
   ],
   "source": [
    "timeit.timeit(stmt=apply_func, setup=setup, number=1)"
   ]
  },
  {
   "cell_type": "code",
   "execution_count": 20,
   "metadata": {
    "cell_id": "8d6eff3635b74e3782836cc21de6d848",
    "colab": {
     "base_uri": "https://localhost:8080/"
    },
    "deepnote_cell_type": "code",
    "deepnote_to_be_reexecuted": false,
    "execution_millis": 5072,
    "execution_start": 1667728214594,
    "id": "JuJc4a6bRXTM",
    "outputId": "db08f1ae-d60e-49ae-9c02-2d992d9bc1d3",
    "source_hash": "c04d914"
   },
   "outputs": [
    {
     "data": {
      "text/plain": [
       "4.191379108000547"
      ]
     },
     "execution_count": 20,
     "metadata": {},
     "output_type": "execute_result"
    }
   ],
   "source": [
    "timeit.timeit(stmt=iter_tup_func, setup=setup, number=10)"
   ]
  },
  {
   "cell_type": "code",
   "execution_count": 21,
   "metadata": {
    "cell_id": "f5be87d90e6f46f48d29f02c8499e122",
    "colab": {
     "base_uri": "https://localhost:8080/"
    },
    "deepnote_cell_type": "code",
    "deepnote_to_be_reexecuted": false,
    "execution_millis": 17980,
    "execution_start": 1667728218805,
    "id": "0320e1de-3ed0-4627-878f-7d949f639119",
    "outputId": "6a6fced7-715c-4acc-a26f-d1aa84461658",
    "source_hash": "802738db"
   },
   "outputs": [
    {
     "data": {
      "text/plain": [
       "17.963948019008967"
      ]
     },
     "execution_count": 21,
     "metadata": {},
     "output_type": "execute_result"
    }
   ],
   "source": [
    "timeit.timeit(stmt=list_comp_func, setup=setup, number=100)"
   ]
  },
  {
   "cell_type": "code",
   "execution_count": 22,
   "metadata": {
    "cell_id": "c00eb3b871164043887f59f4398efed3",
    "colab": {
     "base_uri": "https://localhost:8080/"
    },
    "deepnote_cell_type": "code",
    "deepnote_to_be_reexecuted": false,
    "execution_millis": 16314,
    "execution_start": 1667728236788,
    "id": "a3a5968c-40d4-4368-89e0-77c1d1e85fbb",
    "outputId": "83a0ecbd-bd07-4faf-d3db-8bf1390ab78c",
    "source_hash": "1d38a7d2"
   },
   "outputs": [
    {
     "data": {
      "text/plain": [
       "16.306607428006828"
      ]
     },
     "execution_count": 22,
     "metadata": {},
     "output_type": "execute_result"
    }
   ],
   "source": [
    "timeit.timeit(stmt=vectorize_func, setup=setup, number=100)"
   ]
  },
  {
   "cell_type": "code",
   "execution_count": 23,
   "metadata": {
    "cell_id": "a6cdeb7ed6e44cbca4bda9e79f38d115",
    "colab": {
     "base_uri": "https://localhost:8080/"
    },
    "deepnote_cell_type": "code",
    "deepnote_to_be_reexecuted": false,
    "execution_millis": 1671,
    "execution_start": 1667728253104,
    "id": "bf631e9c-36af-4bc1-a967-dab704fc7ece",
    "outputId": "35b9759a-4d35-4744-8eee-17115620bd40",
    "source_hash": "47c843dd"
   },
   "outputs": [
    {
     "data": {
      "text/plain": [
       "0.9586487359920284"
      ]
     },
     "execution_count": 23,
     "metadata": {},
     "output_type": "execute_result"
    }
   ],
   "source": [
    "timeit.timeit(stmt=df_func, setup=setup, number=1000)"
   ]
  },
  {
   "cell_type": "code",
   "execution_count": 24,
   "metadata": {
    "cell_id": "fdc3ba7207ec44c2ae501b37bdcbd0c8",
    "colab": {
     "base_uri": "https://localhost:8080/"
    },
    "deepnote_cell_type": "code",
    "deepnote_to_be_reexecuted": false,
    "execution_millis": 811,
    "execution_start": 1667728254084,
    "id": "41780579-958c-41d7-8d59-ea0c62a63acf",
    "outputId": "f256f4bc-5fb0-43de-aa9d-2403fa1efd65",
    "source_hash": "15e6a773"
   },
   "outputs": [
    {
     "data": {
      "text/plain": [
       "0.8103398569946876"
      ]
     },
     "execution_count": 24,
     "metadata": {},
     "output_type": "execute_result"
    }
   ],
   "source": [
    "timeit.timeit(stmt=numpy_func, setup=setup, number=1000)"
   ]
  },
  {
   "cell_type": "markdown",
   "metadata": {
    "cell_id": "f2b2556588324353a104e72fc7c6355c",
    "deepnote_cell_type": "markdown",
    "id": "444d5bc7-ffed-41c1-b491-951067e814ee"
   },
   "source": [
    "# A more complicated example\n",
    "\n",
    "You could of couse put logic into the function. However, this will negate the use of both a simple numpy operation, and a simple pandas operation as detailed in the section above.\n",
    "\n",
    "This section will therefore consider the potential to speed up conditional methods."
   ]
  },
  {
   "cell_type": "code",
   "execution_count": 25,
   "metadata": {
    "cell_id": "435c079d3a424e82b04edfa2089191f2",
    "deepnote_cell_type": "code",
    "deepnote_to_be_reexecuted": false,
    "execution_millis": 1,
    "execution_start": 1667728254893,
    "id": "0d3bec5e-320b-4d55-8526-8d18fd4fc536",
    "source_hash": "39c65ac8"
   },
   "outputs": [],
   "source": [
    "def categorise(a, b):\n",
    "    if a < 0:\n",
    "        return a * 2 + b\n",
    "    elif b < 0:\n",
    "        return a + 2 * b\n",
    "    else:\n",
    "        return None"
   ]
  },
  {
   "cell_type": "markdown",
   "metadata": {
    "cell_id": "30028205997c4d0f8c6caae9324b6944",
    "deepnote_cell_type": "markdown",
    "id": "ZKS0-c3DRLle"
   },
   "source": [
    "## Check to see if all methods result in the same output"
   ]
  },
  {
   "cell_type": "code",
   "execution_count": 26,
   "metadata": {
    "cell_id": "52128ddd6a514b69804dad5c8d322b2b",
    "colab": {
     "base_uri": "https://localhost:8080/"
    },
    "deepnote_cell_type": "code",
    "deepnote_to_be_reexecuted": false,
    "execution_millis": 6863,
    "execution_start": 1667728254896,
    "id": "HwKKNzOo9erI",
    "outputId": "8dc2fe98-0b29-4923-9b15-1c5eccefde9a",
    "source_hash": "65500f68"
   },
   "outputs": [
    {
     "data": {
      "text/plain": [
       "([-1.8176383571371104, nan, nan, -0.349833207662407, -2.457257597027051],\n",
       " [nan,\n",
       "  -1.426622633205623,\n",
       "  0.5169703831401592,\n",
       "  -1.9369898277201019,\n",
       "  -1.4663032240581628])"
      ]
     },
     "execution_count": 26,
     "metadata": {},
     "output_type": "execute_result"
    }
   ],
   "source": [
    "series3 = df.apply(lambda df: categorise(df['series1'],df['series2']),axis=1)\n",
    "series3[0:5].to_list(), series3[-5:].to_list()"
   ]
  },
  {
   "cell_type": "code",
   "execution_count": 27,
   "metadata": {
    "cell_id": "d697d766f07d4789a1ca4ac932fde415",
    "colab": {
     "base_uri": "https://localhost:8080/"
    },
    "deepnote_cell_type": "code",
    "deepnote_to_be_reexecuted": false,
    "execution_millis": 448,
    "execution_start": 1667728261799,
    "id": "CtwpylmL9nOM",
    "outputId": "61c85976-6ffb-4983-9a99-574a53c9d590",
    "source_hash": "76fd766a"
   },
   "outputs": [
    {
     "data": {
      "text/plain": [
       "([-1.8176383571371104, None, None, -0.349833207662407, -2.457257597027051],\n",
       " [None,\n",
       "  -1.426622633205623,\n",
       "  0.5169703831401592,\n",
       "  -1.9369898277201019,\n",
       "  -1.4663032240581628])"
      ]
     },
     "execution_count": 27,
     "metadata": {},
     "output_type": "execute_result"
    }
   ],
   "source": [
    "series3 = [categorise(a, b) for a, b in df.itertuples(index=False)]\n",
    "series3[0:5], series3[-5:]"
   ]
  },
  {
   "cell_type": "code",
   "execution_count": 28,
   "metadata": {
    "cell_id": "a0bbb1d57c424d1ab94fbb01e9815451",
    "colab": {
     "base_uri": "https://localhost:8080/"
    },
    "deepnote_cell_type": "code",
    "deepnote_to_be_reexecuted": false,
    "execution_millis": 254,
    "execution_start": 1667728262276,
    "id": "b2BuY5_Obpl_",
    "outputId": "afe4234b-624f-4b90-c78f-760a3e928ed5",
    "source_hash": "e4a16da4"
   },
   "outputs": [
    {
     "data": {
      "text/plain": [
       "([-1.8176383571371104, None, None, -0.349833207662407, -2.457257597027051],\n",
       " [None,\n",
       "  -1.426622633205623,\n",
       "  0.5169703831401592,\n",
       "  -1.9369898277201019,\n",
       "  -1.4663032240581628])"
      ]
     },
     "execution_count": 28,
     "metadata": {},
     "output_type": "execute_result"
    }
   ],
   "source": [
    "series3 = [categorise(a, b) for a, b in zip(df['series1'],df['series2'])]\n",
    "series3[0:5], series3[-5:]"
   ]
  },
  {
   "cell_type": "code",
   "execution_count": 29,
   "metadata": {
    "cell_id": "a1824f1d9da543d1aa8f99fb2506473d",
    "colab": {
     "base_uri": "https://localhost:8080/"
    },
    "deepnote_cell_type": "code",
    "deepnote_to_be_reexecuted": false,
    "execution_millis": 257,
    "execution_start": 1667728262532,
    "id": "3C9iQFVR-Ac6",
    "outputId": "3c473abc-e15f-46c6-c435-e7345d61904e",
    "source_hash": "d3f7e7f9"
   },
   "outputs": [
    {
     "data": {
      "text/plain": [
       "([-1.8176383571371104, nan, nan, -0.349833207662407, -2.457257597027051],\n",
       " [nan,\n",
       "  -1.426622633205623,\n",
       "  0.5169703831401592,\n",
       "  -1.9369898277201019,\n",
       "  -1.4663032240581628])"
      ]
     },
     "execution_count": 29,
     "metadata": {},
     "output_type": "execute_result"
    }
   ],
   "source": [
    "series3 = np.vectorize(categorise)(df['series1'],df['series2'])\n",
    "series3[0:5].tolist(), series3[-5:].tolist()"
   ]
  },
  {
   "cell_type": "markdown",
   "metadata": {
    "cell_id": "7d72dd57d02e4e64b5d14ce3a41a0902",
    "deepnote_cell_type": "markdown",
    "id": "6L19WiGfRQA1"
   },
   "source": [
    "## Timeit setup"
   ]
  },
  {
   "cell_type": "code",
   "execution_count": 30,
   "metadata": {
    "cell_id": "91fc44e38f384b90863a7bc17804f830",
    "deepnote_cell_type": "code",
    "deepnote_to_be_reexecuted": false,
    "execution_millis": 1,
    "execution_start": 1667728262789,
    "id": "dUMg4KtP-Mwx",
    "source_hash": "657beebd"
   },
   "outputs": [],
   "source": [
    "setup = '''\n",
    "import numpy as np\n",
    "import pandas as pd\n",
    "series = np.array([np.arange(1,1000000),np.arange(2,1000001)]).T\n",
    "df = pd.DataFrame(series, columns=['series1','series2'])\n",
    "def categorise(a, b):\n",
    "    if a < 0:\n",
    "        return a * 2 + b\n",
    "    elif b < 0:\n",
    "        return a + 2 * b\n",
    "    else:\n",
    "        return None\n",
    "'''"
   ]
  },
  {
   "cell_type": "code",
   "execution_count": 31,
   "metadata": {
    "cell_id": "62503046d5f04ab3b4f4c668cb3bddee",
    "deepnote_cell_type": "code",
    "deepnote_to_be_reexecuted": false,
    "execution_millis": 2,
    "execution_start": 1667728262792,
    "id": "17sBl29HJfWR",
    "source_hash": "b44db953"
   },
   "outputs": [],
   "source": [
    "apply_func = '''\n",
    "series3 = df.apply(lambda df: categorise(df['series1'],df['series2']),axis=1)\n",
    "'''"
   ]
  },
  {
   "cell_type": "code",
   "execution_count": 32,
   "metadata": {
    "cell_id": "d3161ab279fe46b58cae3d8658d92a5a",
    "deepnote_cell_type": "code",
    "deepnote_to_be_reexecuted": false,
    "execution_millis": 2,
    "execution_start": 1667728262796,
    "id": "C5PzSsGEcFzT",
    "source_hash": "a68cc831"
   },
   "outputs": [],
   "source": [
    "iter_tup_func = '''\n",
    "series3 = [categorise(a, b) for a, b in df.itertuples(index=False)]\n",
    "'''"
   ]
  },
  {
   "cell_type": "code",
   "execution_count": 33,
   "metadata": {
    "cell_id": "a47800a1b7d14a07ad08f6ffda67580b",
    "deepnote_cell_type": "code",
    "deepnote_to_be_reexecuted": false,
    "execution_millis": 46,
    "execution_start": 1667728262799,
    "id": "hYoqGL-oJkzL",
    "source_hash": "b4cfd5e1"
   },
   "outputs": [],
   "source": [
    "list_comp_func = '''\n",
    "series3 = [categorise(a, b) for a, b in zip(df['series1'],df['series2'])]\n",
    "'''"
   ]
  },
  {
   "cell_type": "code",
   "execution_count": 34,
   "metadata": {
    "cell_id": "a6f7b16fc5bf41ad871c743e72ef0840",
    "deepnote_cell_type": "code",
    "deepnote_to_be_reexecuted": false,
    "execution_millis": 0,
    "execution_start": 1667728262846,
    "id": "EODxsikmJuWD",
    "source_hash": "f5ab290"
   },
   "outputs": [],
   "source": [
    "vectorize_func = '''\n",
    "series3 = np.vectorize(categorise)(df['series1'],df['series2'])\n",
    "'''"
   ]
  },
  {
   "cell_type": "markdown",
   "metadata": {
    "cell_id": "04b16a69dc01449d88090cfd3d9dde38",
    "deepnote_cell_type": "markdown",
    "id": "DtpzzTa9RU11"
   },
   "source": [
    "## Run timit for different methods"
   ]
  },
  {
   "cell_type": "code",
   "execution_count": 35,
   "metadata": {
    "cell_id": "50df0410da0a4f9d8d32cb8847c22d30",
    "colab": {
     "base_uri": "https://localhost:8080/"
    },
    "deepnote_cell_type": "code",
    "deepnote_to_be_reexecuted": false,
    "execution_millis": 7421,
    "execution_start": 1667728262846,
    "id": "Y-_ubQE7MbG9",
    "outputId": "a704bc0c-8e94-42ec-fa20-bbbf7dc71d81",
    "source_hash": "7bb4c4f4"
   },
   "outputs": [
    {
     "data": {
      "text/plain": [
       "6.753696040002978"
      ]
     },
     "execution_count": 35,
     "metadata": {},
     "output_type": "execute_result"
    }
   ],
   "source": [
    "timeit.timeit(stmt=apply_func, setup=setup, number=1)"
   ]
  },
  {
   "cell_type": "code",
   "execution_count": 36,
   "metadata": {
    "cell_id": "8f57f5196db14b24a9f4a832a93ee280",
    "colab": {
     "base_uri": "https://localhost:8080/"
    },
    "deepnote_cell_type": "code",
    "deepnote_to_be_reexecuted": false,
    "execution_millis": 4204,
    "execution_start": 1667728269587,
    "id": "auRDZg3JcY5j",
    "outputId": "0e4b7b4b-cc22-4e2a-ff72-a9da2b4500b2",
    "source_hash": "c04d914"
   },
   "outputs": [
    {
     "data": {
      "text/plain": [
       "4.192175960997702"
      ]
     },
     "execution_count": 36,
     "metadata": {},
     "output_type": "execute_result"
    }
   ],
   "source": [
    "timeit.timeit(stmt=iter_tup_func, setup=setup, number=10)"
   ]
  },
  {
   "cell_type": "code",
   "execution_count": 37,
   "metadata": {
    "cell_id": "0aa6c6f1fdeb42f99f918d82f0594646",
    "colab": {
     "base_uri": "https://localhost:8080/"
    },
    "deepnote_cell_type": "code",
    "deepnote_to_be_reexecuted": false,
    "execution_millis": 18883,
    "execution_start": 1667728273791,
    "id": "YzJRKOhAMex-",
    "outputId": "1a0fdcc0-e787-422f-84cc-d7d6e2f12a57",
    "source_hash": "802738db"
   },
   "outputs": [
    {
     "data": {
      "text/plain": [
       "18.83312189701246"
      ]
     },
     "execution_count": 37,
     "metadata": {},
     "output_type": "execute_result"
    }
   ],
   "source": [
    "timeit.timeit(stmt=list_comp_func, setup=setup, number=100)"
   ]
  },
  {
   "cell_type": "code",
   "execution_count": 38,
   "metadata": {
    "cell_id": "e8f2a0d1c0c04018b849cd7938885991",
    "colab": {
     "base_uri": "https://localhost:8080/"
    },
    "deepnote_cell_type": "code",
    "deepnote_to_be_reexecuted": false,
    "execution_millis": 14051,
    "execution_start": 1667728292674,
    "id": "1mVkXrzmMgTW",
    "outputId": "ba895785-88e1-4569-b06d-5512aa2d2407",
    "source_hash": "1d38a7d2"
   },
   "outputs": [
    {
     "data": {
      "text/plain": [
       "14.077709199002129"
      ]
     },
     "execution_count": 38,
     "metadata": {},
     "output_type": "execute_result"
    }
   ],
   "source": [
    "timeit.timeit(stmt=vectorize_func, setup=setup, number=100)"
   ]
  }
 ],
 "metadata": {
  "accelerator": "GPU",
  "colab": {
   "collapsed_sections": [],
   "name": "numpy-vectorize.ipynb",
   "provenance": []
  },
  "deepnote": {},
  "deepnote_execution_queue": [],
  "deepnote_notebook_id": "fc86949c6ad94ab99b2aacf0edf27df2",
  "gpuClass": "standard",
  "kernelspec": {
   "display_name": "Python 3 (ipykernel)",
   "language": "python",
   "name": "python3"
  },
  "language_info": {
   "codemirror_mode": {
    "name": "ipython",
    "version": 3
   },
   "file_extension": ".py",
   "mimetype": "text/x-python",
   "name": "python",
   "nbconvert_exporter": "python",
   "pygments_lexer": "ipython3",
   "version": "3.11.3"
  }
 },
 "nbformat": 4,
 "nbformat_minor": 4
}
