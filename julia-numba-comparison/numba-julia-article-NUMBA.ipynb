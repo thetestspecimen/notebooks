{
 "cells": [
  {
   "cell_type": "markdown",
   "metadata": {},
   "source": [
    "# Imports"
   ]
  },
  {
   "cell_type": "code",
   "execution_count": 1,
   "metadata": {},
   "outputs": [],
   "source": [
    "from numba import njit, prange\n",
    "import numpy as np\n",
    "import pandas as pd\n",
    "import timeit"
   ]
  },
  {
   "cell_type": "markdown",
   "metadata": {
    "id": "npvui6HOOy1u"
   },
   "source": [
    "# Check CPU info"
   ]
  },
  {
   "cell_type": "code",
   "execution_count": 2,
   "metadata": {
    "cell_id": "75ce704f73024b87a3a337cb168841dc",
    "colab": {
     "base_uri": "https://localhost:8080/"
    },
    "deepnote_cell_type": "code",
    "deepnote_to_be_reexecuted": false,
    "execution_millis": 3,
    "execution_start": 1667728199850,
    "id": "kJaRf22kjY-r",
    "outputId": "79da9586-3689-4972-fe9b-9561b4f1450b",
    "source_hash": "5dbfb675"
   },
   "outputs": [
    {
     "name": "stdout",
     "output_type": "stream",
     "text": [
      "Architecture:                    x86_64\n",
      "CPU op-mode(s):                  32-bit, 64-bit\n",
      "Address sizes:                   39 bits physical, 48 bits virtual\n",
      "Byte Order:                      Little Endian\n",
      "CPU(s):                          8\n",
      "On-line CPU(s) list:             0-7\n",
      "Vendor ID:                       GenuineIntel\n",
      "Model name:                      Intel(R) Core(TM) i7-4790K CPU @ 4.00GHz\n",
      "CPU family:                      6\n",
      "Model:                           60\n",
      "Thread(s) per core:              2\n",
      "Core(s) per socket:              4\n",
      "Socket(s):                       1\n",
      "Stepping:                        3\n",
      "CPU(s) scaling MHz:              90%\n",
      "CPU max MHz:                     4700.0000\n",
      "CPU min MHz:                     800.0000\n",
      "BogoMIPS:                        8003.44\n",
      "Flags:                           fpu vme de pse tsc msr pae mce cx8 apic sep mtrr pge mca cmov pat pse36 clflush dts acpi mmx fxsr sse sse2 ss ht tm pbe syscall nx pdpe1gb rdtscp lm constant_tsc arch_perfmon pebs bts rep_good nopl xtopology nonstop_tsc cpuid aperfmperf pni pclmulqdq dtes64 monitor ds_cpl vmx est tm2 ssse3 sdbg fma cx16 xtpr pdcm pcid sse4_1 sse4_2 x2apic movbe popcnt tsc_deadline_timer aes xsave avx f16c rdrand lahf_lm abm cpuid_fault invpcid_single pti ssbd ibrs ibpb stibp tpr_shadow flexpriority ept vpid ept_ad fsgsbase tsc_adjust bmi1 avx2 smep bmi2 erms invpcid xsaveopt dtherm ida arat pln pts vnmi md_clear flush_l1d\n",
      "Virtualization:                  VT-x\n",
      "L1d cache:                       128 KiB (4 instances)\n",
      "L1i cache:                       128 KiB (4 instances)\n",
      "L2 cache:                        1 MiB (4 instances)\n",
      "L3 cache:                        8 MiB (1 instance)\n",
      "NUMA node(s):                    1\n",
      "NUMA node0 CPU(s):               0-7\n",
      "Vulnerability Itlb multihit:     KVM: Mitigation: VMX disabled\n",
      "Vulnerability L1tf:              Mitigation; PTE Inversion; VMX conditional cache flushes, SMT vulnerable\n",
      "Vulnerability Mds:               Mitigation; Clear CPU buffers; SMT vulnerable\n",
      "Vulnerability Meltdown:          Mitigation; PTI\n",
      "Vulnerability Mmio stale data:   Unknown: No mitigations\n",
      "Vulnerability Retbleed:          Not affected\n",
      "Vulnerability Spec store bypass: Mitigation; Speculative Store Bypass disabled via prctl\n",
      "Vulnerability Spectre v1:        Mitigation; usercopy/swapgs barriers and __user pointer sanitization\n",
      "Vulnerability Spectre v2:        Mitigation; Retpolines, IBPB conditional, IBRS_FW, STIBP conditional, RSB filling, PBRSB-eIBRS Not affected\n",
      "Vulnerability Srbds:             Mitigation; Microcode\n",
      "Vulnerability Tsx async abort:   Not affected\n"
     ]
    }
   ],
   "source": [
    "cpu_info = !lscpu\n",
    "for inf_item in cpu_info.get_list():\n",
    "  print(inf_item)"
   ]
  },
  {
   "cell_type": "markdown",
   "metadata": {
    "id": "crvryFMhPaud"
   },
   "source": [
    "## Raw data\n",
    "\n",
    "The raw data will consist of two numpy \"Series\" (i.e. 1D arrays) of 1 million random numbers selected from a normal distribution"
   ]
  },
  {
   "cell_type": "code",
   "execution_count": 3,
   "metadata": {
    "colab": {
     "base_uri": "https://localhost:8080/"
    },
    "id": "G60ffDjGPXSE",
    "outputId": "9d69a2a7-89d9-4fb0-e95b-3fba33d7be7d"
   },
   "outputs": [
    {
     "data": {
      "text/plain": [
       "array([ 0.5694377, -2.11488  ,  0.6751292, ...,  0.568219 , -1.5195571,\n",
       "       -1.0794889], dtype=float32)"
      ]
     },
     "execution_count": 3,
     "metadata": {},
     "output_type": "execute_result"
    }
   ],
   "source": [
    "series1 = np.random.randn(1000000).astype(np.float32)\n",
    "series1"
   ]
  },
  {
   "cell_type": "code",
   "execution_count": 4,
   "metadata": {
    "colab": {
     "base_uri": "https://localhost:8080/"
    },
    "id": "P6f2M5D8Pitc",
    "outputId": "13819d06-ec33-472b-ad7f-f221e38ad916"
   },
   "outputs": [
    {
     "data": {
      "text/plain": [
       "array([-1.0263077 , -0.89608634,  2.496726  , ..., -1.2716848 ,\n",
       "        0.01034788, -0.512277  ], dtype=float32)"
      ]
     },
     "execution_count": 4,
     "metadata": {},
     "output_type": "execute_result"
    }
   ],
   "source": [
    "series2 = np.random.randn(1000000).astype(np.float32)\n",
    "series2"
   ]
  },
  {
   "cell_type": "markdown",
   "metadata": {
    "id": "vW3KuvAJO97k"
   },
   "source": [
    "## A very simple arithmetic based method\n",
    "\n",
    "The aim of the following methods is a very simple summation of the two arrays.\n",
    "\n",
    "As the inputs are numpy arrays, this is an operation that numpy is already heavily optimised for, and extremely quick at executing."
   ]
  },
  {
   "cell_type": "code",
   "execution_count": 5,
   "metadata": {
    "cell_id": "b8ff0878134e41568a5774b2afe9c856",
    "deepnote_cell_type": "code",
    "deepnote_to_be_reexecuted": false,
    "execution_millis": 3,
    "execution_start": 1667728199851,
    "id": "15fde098-485b-496f-89fe-e9286d32c1cb",
    "source_hash": "efcf7120"
   },
   "outputs": [],
   "source": [
    "# plain python (numpy)\n",
    "def sum_nums(a, b):\n",
    "    return a + b\n",
    "\n",
    "# the same method decorated to use numba\n",
    "@njit\n",
    "def sum_nums_numba(a, b):\n",
    "    return a + b"
   ]
  },
  {
   "cell_type": "markdown",
   "metadata": {
    "id": "B2E7dKXQWATo"
   },
   "source": [
    "## Check\n",
    "\n",
    "Let's see if the methods return the same output."
   ]
  },
  {
   "cell_type": "code",
   "execution_count": 6,
   "metadata": {
    "colab": {
     "base_uri": "https://localhost:8080/"
    },
    "id": "J73sylYaVMBa",
    "outputId": "cf15c781-d46c-4639-f307-a64c55ee85dc"
   },
   "outputs": [
    {
     "data": {
      "text/plain": [
       "array([-0.45687002, -3.0109663 ,  3.1718552 , ..., -0.70346576,\n",
       "       -1.5092093 , -1.5917659 ], dtype=float32)"
      ]
     },
     "execution_count": 6,
     "metadata": {},
     "output_type": "execute_result"
    }
   ],
   "source": [
    "test1 = sum_nums(series1, series2)\n",
    "test1"
   ]
  },
  {
   "cell_type": "code",
   "execution_count": 7,
   "metadata": {
    "colab": {
     "base_uri": "https://localhost:8080/"
    },
    "id": "tFkB6dlnTSoR",
    "outputId": "5661fc98-46d1-4ffa-c060-78e5d19ffd8c"
   },
   "outputs": [
    {
     "data": {
      "text/plain": [
       "array([-0.45687002, -3.0109663 ,  3.1718552 , ..., -0.70346576,\n",
       "       -1.5092093 , -1.5917659 ], dtype=float32)"
      ]
     },
     "execution_count": 7,
     "metadata": {},
     "output_type": "execute_result"
    }
   ],
   "source": [
    "test2 = sum_nums_numba(series1, series2)\n",
    "test2"
   ]
  },
  {
   "cell_type": "code",
   "execution_count": 8,
   "metadata": {
    "colab": {
     "base_uri": "https://localhost:8080/"
    },
    "id": "2quK2iKesOWY",
    "outputId": "6d9f0735-b58e-4862-f322-31093aefe0cb"
   },
   "outputs": [
    {
     "data": {
      "text/plain": [
       "True"
      ]
     },
     "execution_count": 8,
     "metadata": {},
     "output_type": "execute_result"
    }
   ],
   "source": [
    "np.array_equal(test1, test2, equal_nan=False)"
   ]
  },
  {
   "cell_type": "markdown",
   "metadata": {
    "cell_id": "c184cf3486c543fa86a3266fb656034e",
    "deepnote_cell_type": "markdown",
    "id": "oXuYzq4pPsgX"
   },
   "source": [
    "## Timit setup\n",
    "\n",
    "To ensure that the comparison of execution is consistent and fair (or as fair as possible), the timit module will be used.\n",
    "\n",
    "This allows the explicit separation of the setup (not timed) and execution (timed) phases of the test."
   ]
  },
  {
   "cell_type": "code",
   "execution_count": 130,
   "metadata": {
    "cell_id": "89cd7c8e9e0d47e6bda316e2473bf11a",
    "deepnote_cell_type": "code",
    "deepnote_to_be_reexecuted": false,
    "execution_millis": 0,
    "execution_start": 1667728207637,
    "id": "27ee6062-8a73-4a5f-b490-213b9bebb270",
    "source_hash": "775dbdba"
   },
   "outputs": [],
   "source": [
    "# setup without the pre-compilation of the numba function\n",
    "setup = '''\n",
    "from numba import njit\n",
    "import numpy as np\n",
    "\n",
    "series1 = np.random.randn(1000000).astype(np.float32)\n",
    "series2 = np.random.randn(1000000).astype(np.float32)\n",
    "\n",
    "def sum_nums(a, b):\n",
    "    return a + b\n",
    "\n",
    "@njit\n",
    "def sum_nums_numba(a, b):\n",
    "    return a + b\n",
    "'''"
   ]
  },
  {
   "cell_type": "code",
   "execution_count": 131,
   "metadata": {
    "id": "87sy-hThLDAg"
   },
   "outputs": [],
   "source": [
    "# setup including the pre-compilation of the numba function.\n",
    "# By runnning the numba function once it is compiled and therefore\n",
    "# every future execution uses the compiled version\n",
    "setup_with_comp = '''\n",
    "from numba import njit\n",
    "import numpy as np\n",
    "\n",
    "series1 = np.random.randn(1000000).astype(np.float32)\n",
    "series2 = np.random.randn(1000000).astype(np.float32)\n",
    "\n",
    "def sum_nums(a, b):\n",
    "    return a + b\n",
    "\n",
    "@njit\n",
    "def sum_nums_numba(a, b):\n",
    "    return a + b\n",
    "\n",
    "sum_nums_numba(series1, series2)\n",
    "'''"
   ]
  },
  {
   "cell_type": "code",
   "execution_count": 132,
   "metadata": {
    "cell_id": "1a9fc287ab584edfb895a815cca55000",
    "deepnote_cell_type": "code",
    "deepnote_to_be_reexecuted": false,
    "execution_millis": 1,
    "execution_start": 1667728207637,
    "id": "e10842da-e7d4-416a-8b56-ddbe2fc09e89",
    "source_hash": "978608c5"
   },
   "outputs": [],
   "source": [
    "# the timed numpy code\n",
    "numpy_func = '''\n",
    "sum_nums(series1, series2)\n",
    "'''"
   ]
  },
  {
   "cell_type": "code",
   "execution_count": 133,
   "metadata": {
    "cell_id": "702d7fb06ba44c32ad4c4af56e7e09f0",
    "deepnote_cell_type": "code",
    "deepnote_to_be_reexecuted": false,
    "execution_millis": 1,
    "execution_start": 1667728207639,
    "id": "4d6ec681-6a30-4c32-a227-4d3092d8dbe8",
    "source_hash": "2c483e48"
   },
   "outputs": [],
   "source": [
    "# the timed numba code\n",
    "numba_func = '''\n",
    "sum_nums_numba(series1, series2)\n",
    "'''"
   ]
  },
  {
   "cell_type": "markdown",
   "metadata": {},
   "source": [
    "## Define a method to print the exection time in milliseconds"
   ]
  },
  {
   "cell_type": "code",
   "execution_count": 134,
   "metadata": {},
   "outputs": [],
   "source": [
    "def print_millis(time, iterations):\n",
    "    time_millis = (time / iterations) * 1000.0\n",
    "    print(f\"Mean execution time: {time_millis:.2f}ms (for {iterations} iteration(s))\")"
   ]
  },
  {
   "cell_type": "markdown",
   "metadata": {
    "cell_id": "3e621cbd16674fd38527f12f077e0b08",
    "deepnote_cell_type": "markdown",
    "id": "G-gbu-OUP3vo"
   },
   "source": [
    "## Run timit for different methods\n",
    "\n",
    "### A single iternation"
   ]
  },
  {
   "cell_type": "code",
   "execution_count": 161,
   "metadata": {
    "id": "Rc3zAtcHthC-"
   },
   "outputs": [],
   "source": [
    "iterations = 1"
   ]
  },
  {
   "cell_type": "code",
   "execution_count": 167,
   "metadata": {
    "colab": {
     "base_uri": "https://localhost:8080/"
    },
    "id": "Dn90HcATb8it",
    "outputId": "d974d425-c6d9-4997-aeb8-3265606f5043"
   },
   "outputs": [
    {
     "name": "stdout",
     "output_type": "stream",
     "text": [
      "Mean execution time: 0.78ms (for 1 iteration(s))\n"
     ]
    }
   ],
   "source": [
    "# numpy\n",
    "print_millis(timeit.timeit(stmt=numpy_func, setup=setup, number=iterations),iterations)"
   ]
  },
  {
   "cell_type": "code",
   "execution_count": 155,
   "metadata": {
    "colab": {
     "base_uri": "https://localhost:8080/"
    },
    "id": "tqynY8H5b7_3",
    "outputId": "58d2b7bb-670f-4b34-8288-033bea1a0f03"
   },
   "outputs": [
    {
     "name": "stdout",
     "output_type": "stream",
     "text": [
      "Mean execution time: 84.10ms (for 1 iteration(s))\n"
     ]
    }
   ],
   "source": [
    "# numba including timing for the compilation\n",
    "print_millis(timeit.timeit(stmt=numba_func, setup=setup, number=iterations),iterations)"
   ]
  },
  {
   "cell_type": "code",
   "execution_count": 156,
   "metadata": {
    "colab": {
     "base_uri": "https://localhost:8080/"
    },
    "id": "JqpgVIu2Y4Nt",
    "outputId": "bd0cb1d1-f3ef-4c3b-9142-f8e8121433b6"
   },
   "outputs": [
    {
     "name": "stdout",
     "output_type": "stream",
     "text": [
      "Mean execution time: 0.83ms (for 1 iteration(s))\n"
     ]
    }
   ],
   "source": [
    "# numba not including timing for the compilation\n",
    "print_millis(timeit.timeit(stmt=numba_func, setup=setup_with_comp, number=iterations),iterations)"
   ]
  },
  {
   "cell_type": "markdown",
   "metadata": {
    "id": "AvweqJBatLS4"
   },
   "source": [
    "### 10000 iterations"
   ]
  },
  {
   "cell_type": "code",
   "execution_count": 157,
   "metadata": {
    "id": "meWAINw3tnk0"
   },
   "outputs": [],
   "source": [
    "iterations = 10000"
   ]
  },
  {
   "cell_type": "code",
   "execution_count": 158,
   "metadata": {
    "colab": {
     "base_uri": "https://localhost:8080/"
    },
    "id": "wNiK-N_ttahr",
    "outputId": "bba2cae6-fc80-4f94-a7f8-3443836f2119"
   },
   "outputs": [
    {
     "name": "stdout",
     "output_type": "stream",
     "text": [
      "Mean execution time: 0.51ms (for 10000 iteration(s))\n"
     ]
    }
   ],
   "source": [
    "# numpy\n",
    "print_millis(timeit.timeit(stmt=numpy_func, setup=setup, number=iterations),iterations)"
   ]
  },
  {
   "cell_type": "code",
   "execution_count": 159,
   "metadata": {
    "colab": {
     "base_uri": "https://localhost:8080/"
    },
    "id": "KzQIsWF1tcfN",
    "outputId": "a5cf62ab-b8f7-44ef-ba4e-754ae7559dcc"
   },
   "outputs": [
    {
     "name": "stdout",
     "output_type": "stream",
     "text": [
      "Mean execution time: 0.54ms (for 10000 iteration(s))\n"
     ]
    }
   ],
   "source": [
    "# numba including timing for the compilation\n",
    "print_millis(timeit.timeit(stmt=numba_func, setup=setup, number=iterations),iterations)"
   ]
  },
  {
   "cell_type": "code",
   "execution_count": 160,
   "metadata": {
    "colab": {
     "base_uri": "https://localhost:8080/"
    },
    "id": "56cwKhPptdI6",
    "outputId": "d96cde38-4e2d-4098-f6ba-84d651855567"
   },
   "outputs": [
    {
     "name": "stdout",
     "output_type": "stream",
     "text": [
      "Mean execution time: 0.53ms (for 10000 iteration(s))\n"
     ]
    }
   ],
   "source": [
    "# numba not including timing for the compilation\n",
    "print_millis(timeit.timeit(stmt=numba_func, setup=setup_with_comp, number=iterations),iterations)"
   ]
  },
  {
   "cell_type": "markdown",
   "metadata": {
    "id": "bDtZqVxjuCWa"
   },
   "source": [
    "## Python loops\n",
    "\n",
    "Where numba really comes into play is with looping.\n",
    "\n",
    "The functions below still use numpy arrays and methods, but are part of a looped operation.\n",
    "\n",
    "There are three funcitons defined below:\n",
    "\n",
    "1. loop_function: standard python loop using numpy mathematical functions\n",
    "2. loop_function_numba: same as 1 but with numba applied\n",
    "3. loop_function_numba_par: same as 2 with parallel processing applied (in this case 8 threads)"
   ]
  },
  {
   "cell_type": "code",
   "execution_count": 88,
   "metadata": {
    "id": "_Ck_riI43eZn"
   },
   "outputs": [],
   "source": [
    "def loop_function(a, b):\n",
    "    c = np.zeros(a.shape, dtype=np.float32)\n",
    "    for i in np.arange(c.shape[0]):\n",
    "        if a[i] < b[i]:\n",
    "            c[i] = 1.0\n",
    "        else:\n",
    "            c[i] = 2.0\n",
    "    return c, a + b\n",
    "\n",
    "@njit\n",
    "def loop_function_numba(a, b):\n",
    "    c = np.zeros(a.shape, dtype=np.float32)\n",
    "    for i in np.arange(c.shape[0]):\n",
    "        if a[i] < b[i]:\n",
    "            c[i] = 1.0\n",
    "        else:\n",
    "            c[i] = 2.0\n",
    "    return c, a + b\n",
    "\n",
    "@njit(parallel=True)\n",
    "def loop_function_numba_par(a, b):\n",
    "    c = np.zeros(a.shape, dtype=np.float32)\n",
    "    for i in prange(c.shape[0]):\n",
    "        if a[i] < b[i]:\n",
    "            c[i] = 1.0\n",
    "        else:\n",
    "            c[i] = 2.0\n",
    "    return c, a + b"
   ]
  },
  {
   "cell_type": "markdown",
   "metadata": {
    "id": "8hfKwX_zuucx"
   },
   "source": [
    "### Test the function output"
   ]
  },
  {
   "cell_type": "code",
   "execution_count": 89,
   "metadata": {
    "colab": {
     "base_uri": "https://localhost:8080/"
    },
    "id": "dPihOt_gNF2D",
    "outputId": "07939509-cde1-426b-b553-1ba2f736913a"
   },
   "outputs": [
    {
     "data": {
      "text/plain": [
       "(array([2., 1., 1., ..., 2., 1., 1.], dtype=float32),\n",
       " array([-0.45687002, -3.0109663 ,  3.1718552 , ..., -0.70346576,\n",
       "        -1.5092093 , -1.5917659 ], dtype=float32))"
      ]
     },
     "execution_count": 89,
     "metadata": {},
     "output_type": "execute_result"
    }
   ],
   "source": [
    "test3 = loop_function(series1, series2)\n",
    "test3"
   ]
  },
  {
   "cell_type": "code",
   "execution_count": 90,
   "metadata": {
    "colab": {
     "base_uri": "https://localhost:8080/"
    },
    "id": "O8LdMu3l4o21",
    "outputId": "adffd1f3-c845-4eba-96a6-6c41901fab57"
   },
   "outputs": [
    {
     "data": {
      "text/plain": [
       "(array([2., 1., 1., ..., 2., 1., 1.], dtype=float32),\n",
       " array([-0.45687002, -3.0109663 ,  3.1718552 , ..., -0.70346576,\n",
       "        -1.5092093 , -1.5917659 ], dtype=float32))"
      ]
     },
     "execution_count": 90,
     "metadata": {},
     "output_type": "execute_result"
    }
   ],
   "source": [
    "test4 = loop_function_numba(series1, series2)\n",
    "test4"
   ]
  },
  {
   "cell_type": "code",
   "execution_count": 91,
   "metadata": {
    "colab": {
     "base_uri": "https://localhost:8080/"
    },
    "id": "YR9wb85348ke",
    "outputId": "56a219ed-b63b-4036-be6f-c8132a978797"
   },
   "outputs": [
    {
     "data": {
      "text/plain": [
       "(array([2., 1., 1., ..., 2., 1., 1.], dtype=float32),\n",
       " array([-0.45687002, -3.0109663 ,  3.1718552 , ..., -0.70346576,\n",
       "        -1.5092093 , -1.5917659 ], dtype=float32))"
      ]
     },
     "execution_count": 91,
     "metadata": {},
     "output_type": "execute_result"
    }
   ],
   "source": [
    "test5 = loop_function_numba_par(series1, series2)\n",
    "test5"
   ]
  },
  {
   "cell_type": "code",
   "execution_count": 92,
   "metadata": {
    "colab": {
     "base_uri": "https://localhost:8080/"
    },
    "id": "edtWC6p74jyr",
    "outputId": "00a455d6-6c42-4269-a645-51a8f0f89454"
   },
   "outputs": [
    {
     "data": {
      "text/plain": [
       "True"
      ]
     },
     "execution_count": 92,
     "metadata": {},
     "output_type": "execute_result"
    }
   ],
   "source": [
    "np.array_equal(test3, test4, equal_nan=False)"
   ]
  },
  {
   "cell_type": "code",
   "execution_count": 93,
   "metadata": {
    "colab": {
     "base_uri": "https://localhost:8080/"
    },
    "id": "TDxJRRuG5Bna",
    "outputId": "56b26adf-7606-4916-9e33-00b952a5c08a"
   },
   "outputs": [
    {
     "data": {
      "text/plain": [
       "True"
      ]
     },
     "execution_count": 93,
     "metadata": {},
     "output_type": "execute_result"
    }
   ],
   "source": [
    "np.array_equal(test3, test5, equal_nan=False)"
   ]
  },
  {
   "cell_type": "markdown",
   "metadata": {
    "id": "RWBd1Cj7u09w"
   },
   "source": [
    "### Setup code with and without compilation of the numba functions"
   ]
  },
  {
   "cell_type": "code",
   "execution_count": 168,
   "metadata": {
    "id": "GKpkbC6_NPoW"
   },
   "outputs": [],
   "source": [
    "setup_loop = '''\n",
    "from numba import njit, prange\n",
    "import numpy as np\n",
    "series1 = np.random.randn(1000000).astype(np.float32)\n",
    "series2 = np.random.randn(1000000).astype(np.float32)\n",
    "\n",
    "def loop_function(a, b):\n",
    "    c = np.zeros(a.shape, dtype=np.float32)\n",
    "    for i in np.arange(c.shape[0]):\n",
    "        if a[i] < b[i]:\n",
    "            c[i] = 1.0\n",
    "        else:\n",
    "            c[i] = 2.0\n",
    "    return c, a + b\n",
    "\n",
    "@njit\n",
    "def loop_function_numba(a, b):\n",
    "    c = np.zeros(a.shape, dtype=np.float32)\n",
    "    for i in np.arange(c.shape[0]):\n",
    "        if a[i] < b[i]:\n",
    "            c[i] = 1.0\n",
    "        else:\n",
    "            c[i] = 2.0\n",
    "    return c, a + b\n",
    "\n",
    "@njit(parallel=True)\n",
    "def loop_function_numba_par(a, b):\n",
    "    c = np.zeros(a.shape, dtype=np.float32)\n",
    "    for i in prange(c.shape[0]):\n",
    "        if a[i] < b[i]:\n",
    "            c[i] = 1.0\n",
    "        else:\n",
    "            c[i] = 2.0\n",
    "    return c, a + b\n",
    "'''"
   ]
  },
  {
   "cell_type": "code",
   "execution_count": 169,
   "metadata": {
    "id": "_FB_frd6PxhU"
   },
   "outputs": [],
   "source": [
    "setup_loop_with_comp = '''\n",
    "from numba import njit, prange\n",
    "import numpy as np\n",
    "series1 = np.random.randn(1000000).astype(np.float32)\n",
    "series2 = np.random.randn(1000000).astype(np.float32)\n",
    "\n",
    "@njit\n",
    "def loop_function_numba(a, b):\n",
    "    c = np.zeros(a.shape, dtype=np.float32)\n",
    "    for i in np.arange(c.shape[0]):\n",
    "        if a[i] < b[i]:\n",
    "            c[i] = 1.0\n",
    "        else:\n",
    "            c[i] = 2.0\n",
    "    return c, a + b\n",
    "\n",
    "@njit(parallel=True)\n",
    "def loop_function_numba_par(a, b):\n",
    "    c = np.zeros(a.shape, dtype=np.float32)\n",
    "    for i in prange(c.shape[0]):\n",
    "        if a[i] < b[i]:\n",
    "            c[i] = 1.0\n",
    "        else:\n",
    "            c[i] = 2.0\n",
    "    return c, a + b\n",
    "\n",
    "loop_function_numba(series1, series2)\n",
    "loop_function_numba_par(series1, series2)\n",
    "'''"
   ]
  },
  {
   "cell_type": "markdown",
   "metadata": {
    "id": "w7vUzaRLvceo"
   },
   "source": [
    "### The timed functions"
   ]
  },
  {
   "cell_type": "code",
   "execution_count": 170,
   "metadata": {
    "id": "2CMwdfOOPMMq"
   },
   "outputs": [],
   "source": [
    "numpy_func_loop = '''\n",
    "loop_function(series1, series2)\n",
    "'''"
   ]
  },
  {
   "cell_type": "code",
   "execution_count": 171,
   "metadata": {
    "id": "mvGhiSWhPULn"
   },
   "outputs": [],
   "source": [
    "numba_func_loop = '''\n",
    "loop_function_numba(series1, series2)\n",
    "'''"
   ]
  },
  {
   "cell_type": "code",
   "execution_count": 172,
   "metadata": {
    "id": "A-gjwsAXj3Gw"
   },
   "outputs": [],
   "source": [
    "numba_func_loop_par = '''\n",
    "loop_function_numba_par(series1, series2)\n",
    "'''"
   ]
  },
  {
   "cell_type": "markdown",
   "metadata": {
    "id": "mTEQp3pkvsLX"
   },
   "source": [
    "### A single iteration"
   ]
  },
  {
   "cell_type": "code",
   "execution_count": 173,
   "metadata": {
    "id": "SLxoaX7dvvSr"
   },
   "outputs": [],
   "source": [
    "iterations = 1"
   ]
  },
  {
   "cell_type": "markdown",
   "metadata": {
    "id": "iyfP_-1PwCFO"
   },
   "source": [
    "#### numpy"
   ]
  },
  {
   "cell_type": "code",
   "execution_count": 174,
   "metadata": {
    "colab": {
     "base_uri": "https://localhost:8080/"
    },
    "id": "LTSshsBmPa9h",
    "outputId": "56df6a21-df81-4923-e077-76653f64642a"
   },
   "outputs": [
    {
     "name": "stdout",
     "output_type": "stream",
     "text": [
      "Mean execution time: 264.04ms (for 1 iteration(s))\n"
     ]
    }
   ],
   "source": [
    "# numpy\n",
    "print_millis(timeit.timeit(stmt=numpy_func_loop, setup=setup_loop, number=iterations),iterations)"
   ]
  },
  {
   "cell_type": "markdown",
   "metadata": {
    "id": "D6J418o9wET4"
   },
   "source": [
    "#### numba"
   ]
  },
  {
   "cell_type": "code",
   "execution_count": 175,
   "metadata": {
    "colab": {
     "base_uri": "https://localhost:8080/"
    },
    "id": "Pm7ze8BDPiPw",
    "outputId": "575270b8-2fde-4f21-9720-80e5f74d9030"
   },
   "outputs": [
    {
     "name": "stdout",
     "output_type": "stream",
     "text": [
      "Mean execution time: 120.18ms (for 1 iteration(s))\n"
     ]
    }
   ],
   "source": [
    "# numba including timing for the compilation\n",
    "print_millis(timeit.timeit(stmt=numba_func_loop, setup=setup_loop, number=iterations),iterations)"
   ]
  },
  {
   "cell_type": "code",
   "execution_count": 176,
   "metadata": {
    "colab": {
     "base_uri": "https://localhost:8080/"
    },
    "id": "Xejm7QnoPsbU",
    "outputId": "0557b2a0-5174-44b1-b631-c431d77db67a"
   },
   "outputs": [
    {
     "name": "stdout",
     "output_type": "stream",
     "text": [
      "Mean execution time: 2.67ms (for 1 iteration(s))\n"
     ]
    }
   ],
   "source": [
    "# numba not including timing for the compilation\n",
    "print_millis(timeit.timeit(stmt=numba_func_loop, setup=setup_loop_with_comp, number=iterations),iterations)"
   ]
  },
  {
   "cell_type": "markdown",
   "metadata": {
    "id": "CD2O18MfwIgZ"
   },
   "source": [
    "#### numba (parallelised)"
   ]
  },
  {
   "cell_type": "code",
   "execution_count": 177,
   "metadata": {
    "colab": {
     "base_uri": "https://localhost:8080/"
    },
    "id": "W081cLM4wI9Z",
    "outputId": "11390ab9-a299-40b6-c1dd-0afca51c0480"
   },
   "outputs": [
    {
     "name": "stdout",
     "output_type": "stream",
     "text": [
      "Mean execution time: 259.88ms (for 1 iteration(s))\n"
     ]
    }
   ],
   "source": [
    "# numba (parallelised) including timing for the compilation\n",
    "print_millis(timeit.timeit(stmt=numba_func_loop_par, setup=setup_loop, number=iterations),iterations)"
   ]
  },
  {
   "cell_type": "code",
   "execution_count": 178,
   "metadata": {
    "colab": {
     "base_uri": "https://localhost:8080/"
    },
    "id": "iu9o4mD5wM-x",
    "outputId": "d63e5e7c-4b18-4761-b1db-30bea38eba90"
   },
   "outputs": [
    {
     "name": "stdout",
     "output_type": "stream",
     "text": [
      "Mean execution time: 1.09ms (for 1 iteration(s))\n"
     ]
    }
   ],
   "source": [
    "# numba (parallelised) not including timing for the compilation\n",
    "print_millis(timeit.timeit(stmt=numba_func_loop_par, setup=setup_loop_with_comp, number=iterations),iterations)"
   ]
  },
  {
   "cell_type": "markdown",
   "metadata": {
    "id": "eyR2Ys6mivZS"
   },
   "source": [
    "### 100 iterations"
   ]
  },
  {
   "cell_type": "code",
   "execution_count": 179,
   "metadata": {
    "id": "Uh7obDmaw-XR"
   },
   "outputs": [],
   "source": [
    "iterations = 100"
   ]
  },
  {
   "cell_type": "markdown",
   "metadata": {
    "id": "i0wKpmxEwyBv"
   },
   "source": [
    "#### numpy"
   ]
  },
  {
   "cell_type": "code",
   "execution_count": 180,
   "metadata": {
    "colab": {
     "base_uri": "https://localhost:8080/"
    },
    "id": "F62m1zEHQDEo",
    "outputId": "fb598ebd-017e-4ef1-cbb3-3785c440e460"
   },
   "outputs": [
    {
     "name": "stdout",
     "output_type": "stream",
     "text": [
      "Mean execution time: 267.63ms (for 100 iteration(s))\n"
     ]
    }
   ],
   "source": [
    "# numpy\n",
    "print_millis(timeit.timeit(stmt=numpy_func_loop, setup=setup_loop, number=iterations),iterations)"
   ]
  },
  {
   "cell_type": "markdown",
   "metadata": {
    "id": "_1c-shPvw17H"
   },
   "source": [
    "#### numba"
   ]
  },
  {
   "cell_type": "code",
   "execution_count": 181,
   "metadata": {
    "colab": {
     "base_uri": "https://localhost:8080/"
    },
    "id": "Xo_vK3dSQX5D",
    "outputId": "085304f4-158e-4ce0-ab29-2ab72f416cd7"
   },
   "outputs": [
    {
     "name": "stdout",
     "output_type": "stream",
     "text": [
      "Mean execution time: 3.81ms (for 100 iteration(s))\n"
     ]
    }
   ],
   "source": [
    "# numba including timing for the compilation\n",
    "print_millis(timeit.timeit(stmt=numba_func_loop, setup=setup_loop, number=iterations),iterations)"
   ]
  },
  {
   "cell_type": "code",
   "execution_count": 182,
   "metadata": {
    "colab": {
     "base_uri": "https://localhost:8080/"
    },
    "id": "uKBCaX1piuwL",
    "outputId": "71d57daa-3671-4941-f3d1-d0a6b0e0f2c8"
   },
   "outputs": [
    {
     "name": "stdout",
     "output_type": "stream",
     "text": [
      "Mean execution time: 2.52ms (for 100 iteration(s))\n"
     ]
    }
   ],
   "source": [
    "# numba not including timing for the compilation\n",
    "print_millis(timeit.timeit(stmt=numba_func_loop, setup=setup_loop_with_comp, number=iterations),iterations)"
   ]
  },
  {
   "cell_type": "markdown",
   "metadata": {
    "id": "wXb8ktBgw41D"
   },
   "source": [
    "#### numba parallelised"
   ]
  },
  {
   "cell_type": "code",
   "execution_count": 183,
   "metadata": {
    "colab": {
     "base_uri": "https://localhost:8080/"
    },
    "id": "bzNOZU4LkbTY",
    "outputId": "4929ad73-fd94-47c4-f0e1-484d822f7e4e"
   },
   "outputs": [
    {
     "name": "stdout",
     "output_type": "stream",
     "text": [
      "Mean execution time: 3.56ms (for 100 iteration(s))\n"
     ]
    }
   ],
   "source": [
    "# numba (parallelised) including timing for the compilation\n",
    "print_millis(timeit.timeit(stmt=numba_func_loop_par, setup=setup_loop, number=iterations),iterations)"
   ]
  },
  {
   "cell_type": "code",
   "execution_count": 184,
   "metadata": {
    "colab": {
     "base_uri": "https://localhost:8080/"
    },
    "id": "Cqs_UgMwJ_EM",
    "outputId": "92057996-1591-4ac2-8d86-dd8de8a28884"
   },
   "outputs": [
    {
     "name": "stdout",
     "output_type": "stream",
     "text": [
      "Mean execution time: 1.02ms (for 100 iteration(s))\n"
     ]
    }
   ],
   "source": [
    "# numba (parallelised) not including timing for the compilation\n",
    "print_millis(timeit.timeit(stmt=numba_func_loop_par, setup=setup_loop_with_comp, number=iterations),iterations)"
   ]
  },
  {
   "cell_type": "markdown",
   "metadata": {
    "id": "b_6GhgmJKDCs"
   },
   "source": [
    "# numba fastmath"
   ]
  },
  {
   "cell_type": "code",
   "execution_count": 185,
   "metadata": {
    "id": "cA4Ul6BJx4vX"
   },
   "outputs": [],
   "source": [
    "@njit(parallel=True, fastmath=True)\n",
    "def loop_function_numba_par_fast(a, b):\n",
    "    c = np.zeros(a.shape, dtype=np.float32)\n",
    "    for i in prange(c.shape[0]):\n",
    "        if a[i] < b[i]:\n",
    "            c[i] = 1.0\n",
    "        else:\n",
    "            c[i] = 2.0\n",
    "    return c, a + b"
   ]
  },
  {
   "cell_type": "code",
   "execution_count": 186,
   "metadata": {
    "colab": {
     "base_uri": "https://localhost:8080/"
    },
    "id": "W3glNQaWx8Sp",
    "outputId": "eab517e7-dd63-42ba-c4a3-9a61ff61d095"
   },
   "outputs": [
    {
     "data": {
      "text/plain": [
       "(array([2., 1., 1., ..., 2., 1., 1.], dtype=float32),\n",
       " array([-0.45687002, -3.0109663 ,  3.1718552 , ..., -0.70346576,\n",
       "        -1.5092093 , -1.5917659 ], dtype=float32))"
      ]
     },
     "execution_count": 186,
     "metadata": {},
     "output_type": "execute_result"
    }
   ],
   "source": [
    "test6 = loop_function_numba_par_fast(series1, series2)\n",
    "test6"
   ]
  },
  {
   "cell_type": "code",
   "execution_count": 187,
   "metadata": {
    "id": "_iCgKMwTyINH"
   },
   "outputs": [],
   "source": [
    "setup_loop_with_comp_fast = '''\n",
    "from numba import njit, prange\n",
    "import numpy as np\n",
    "series1 = np.random.randn(1000000).astype(np.float32)\n",
    "series2 = np.random.randn(1000000).astype(np.float32)\n",
    "\n",
    "@njit(parallel=True, fastmath=True)\n",
    "def loop_function_numba_par_fast(a, b):\n",
    "    c = np.zeros(a.shape, dtype=np.float32)\n",
    "    for i in prange(c.shape[0]):\n",
    "        if a[i] < b[i]:\n",
    "            c[i] = 1.0\n",
    "        else:\n",
    "            c[i] = 2.0\n",
    "    return c, a + b\n",
    "\n",
    "loop_function_numba_par_fast(series1, series2)\n",
    "'''"
   ]
  },
  {
   "cell_type": "code",
   "execution_count": 188,
   "metadata": {
    "id": "sJ56Cc1-ysI4"
   },
   "outputs": [],
   "source": [
    "numba_func_loop_par_fast = '''\n",
    "loop_function_numba_par_fast(series1, series2)\n",
    "'''"
   ]
  },
  {
   "cell_type": "code",
   "execution_count": 189,
   "metadata": {
    "id": "MhjJUaAOzO1p"
   },
   "outputs": [],
   "source": [
    "iterations=100"
   ]
  },
  {
   "cell_type": "code",
   "execution_count": 190,
   "metadata": {
    "colab": {
     "base_uri": "https://localhost:8080/"
    },
    "id": "D6Q6MDpwy20x",
    "outputId": "8851d835-aa4f-462a-98bf-685829530718"
   },
   "outputs": [
    {
     "name": "stdout",
     "output_type": "stream",
     "text": [
      "Mean execution time: 0.89ms (for 100 iteration(s))\n"
     ]
    }
   ],
   "source": [
    "# numba (parallelised) not including timing for the compilation with fastmath\n",
    "print_millis(timeit.timeit(stmt=numba_func_loop_par_fast, setup=setup_loop_with_comp_fast, number=iterations),iterations)"
   ]
  },
  {
   "cell_type": "markdown",
   "metadata": {},
   "source": [
    "# Matrix Manipulation"
   ]
  },
  {
   "cell_type": "code",
   "execution_count": 117,
   "metadata": {},
   "outputs": [
    {
     "data": {
      "text/plain": [
       "array([[ 0.6994453 ,  0.2300376 , -0.8554918 , ...,  1.1232344 ,\n",
       "        -1.2047416 ,  1.0120332 ],\n",
       "       [-1.0471845 ,  0.25232664,  0.6871004 , ...,  0.88497835,\n",
       "        -1.7322128 , -1.6650851 ],\n",
       "       [-0.2829231 , -1.4381075 ,  1.6043217 , ..., -0.71000993,\n",
       "        -0.46195322,  0.39009646],\n",
       "       ...,\n",
       "       [-1.1141001 , -1.1735047 ,  1.2007486 , ...,  1.5294341 ,\n",
       "         1.2630433 , -0.34106147],\n",
       "       [ 0.6928011 , -1.6441373 , -0.8479871 , ...,  1.5839043 ,\n",
       "        -0.3604045 ,  1.894234  ],\n",
       "       [-0.44210443, -0.1456523 ,  0.839356  , ...,  1.522994  ,\n",
       "        -1.4823914 ,  1.1663219 ]], dtype=float32)"
      ]
     },
     "execution_count": 117,
     "metadata": {},
     "output_type": "execute_result"
    }
   ],
   "source": [
    "matrix1 = np.random.randn(100,100).astype(np.float32)\n",
    "matrix1"
   ]
  },
  {
   "cell_type": "code",
   "execution_count": 118,
   "metadata": {},
   "outputs": [
    {
     "data": {
      "text/plain": [
       "array([[ 2.2313402 ,  0.26028275, -0.12664457, ...,  0.09477077,\n",
       "        -0.10181196,  0.7260126 ],\n",
       "       [ 0.47332847, -0.42653593,  0.21119395, ..., -0.71329194,\n",
       "         0.3489029 , -0.7703111 ],\n",
       "       [ 0.960177  ,  0.9044148 ,  0.47771898, ...,  0.92847383,\n",
       "         0.7864348 , -1.1062806 ],\n",
       "       ...,\n",
       "       [ 1.414894  , -0.7967963 ,  0.89885014, ..., -1.1275258 ,\n",
       "         0.68309695,  0.5034767 ],\n",
       "       [-0.75443333,  0.3018513 , -0.6630143 , ..., -0.8253597 ,\n",
       "        -1.9101845 , -3.328567  ],\n",
       "       [ 2.0630724 , -0.950598  , -1.4393753 , ..., -0.21714285,\n",
       "         0.3809049 , -0.5428667 ]], dtype=float32)"
      ]
     },
     "execution_count": 118,
     "metadata": {},
     "output_type": "execute_result"
    }
   ],
   "source": [
    "matrix2 = np.random.randn(100,100).astype(np.float32)\n",
    "matrix2"
   ]
  },
  {
   "cell_type": "code",
   "execution_count": 119,
   "metadata": {},
   "outputs": [],
   "source": [
    "@njit\n",
    "def matrix_func(mat_a, mat_b):\n",
    "    a = mat_a.T\n",
    "    c = np.dot(mat_b,a)\n",
    "    d = c.reshape(50,50,4)\n",
    "    e = mat_b.reshape(50,4,50)\n",
    "    f = d.reshape(200,50)\n",
    "    g = e.reshape(50,200)\n",
    "    h = np.dot(f,g)\n",
    "    i = h.reshape(40000)\n",
    "    result = 0.0\n",
    "    for j in np.arange(i.shape[0]):\n",
    "        result = result + (i[j] - np.sum(i)) / np.sqrt(abs(np.average(i)))\n",
    "    return result"
   ]
  },
  {
   "cell_type": "code",
   "execution_count": 120,
   "metadata": {},
   "outputs": [
    {
     "data": {
      "text/plain": [
       "752197253.9857084"
      ]
     },
     "execution_count": 120,
     "metadata": {},
     "output_type": "execute_result"
    }
   ],
   "source": [
    "matrix_func(matrix1,matrix2)"
   ]
  },
  {
   "cell_type": "code",
   "execution_count": 121,
   "metadata": {},
   "outputs": [],
   "source": [
    "setup_loop = '''\n",
    "from numba import njit, prange\n",
    "import numpy as np\n",
    "matrix1 = np.random.randn(100,100).astype(np.float32)\n",
    "matrix2 = np.random.randn(100,100).astype(np.float32)\n",
    "\n",
    "@njit\n",
    "def matrix_func(mat_a, mat_b):\n",
    "    a = mat_a.T\n",
    "    c = np.dot(mat_b,a)\n",
    "    d = c.reshape(50,50,4)\n",
    "    e = mat_b.reshape(50,4,50)\n",
    "    f = d.reshape(200,50)\n",
    "    g = e.reshape(50,200)\n",
    "    h = np.dot(f,g)\n",
    "    i = h.reshape(40000)\n",
    "    result = 0.0\n",
    "    for j in np.arange(i.shape[0]):\n",
    "        result = result + (i[j] - np.sum(i)) / np.sqrt(abs(np.average(i)))\n",
    "    return result\n",
    "\n",
    "@njit(parallel=True)\n",
    "def matrix_func_para(mat_a, mat_b):\n",
    "    a = mat_a.T\n",
    "    c = np.dot(mat_b,a)\n",
    "    d = c.reshape(50,50,4)\n",
    "    e = mat_b.reshape(50,4,50)\n",
    "    f = d.reshape(200,50)\n",
    "    g = e.reshape(50,200)\n",
    "    h = np.dot(f,g)\n",
    "    i = h.reshape(40000)\n",
    "    result = 0.0\n",
    "    for j in prange(i.shape[0]):\n",
    "        result = result + (i[j] - np.sum(i)) / np.sqrt(abs(np.average(i)))\n",
    "    return result\n",
    "'''"
   ]
  },
  {
   "cell_type": "code",
   "execution_count": 122,
   "metadata": {},
   "outputs": [],
   "source": [
    "setup_loop_comp = '''\n",
    "from numba import njit, prange\n",
    "import numpy as np\n",
    "matrix1 = np.random.randn(100,100).astype(np.float32)\n",
    "matrix2 = np.random.randn(100,100).astype(np.float32)\n",
    "\n",
    "@njit\n",
    "def matrix_func(mat_a, mat_b):\n",
    "    a = mat_a.T\n",
    "    c = np.dot(mat_b,a)\n",
    "    d = c.reshape(50,50,4)\n",
    "    e = mat_b.reshape(50,4,50)\n",
    "    f = d.reshape(200,50)\n",
    "    g = e.reshape(50,200)\n",
    "    h = np.dot(f,g)\n",
    "    i = h.reshape(40000)\n",
    "    result = 0.0\n",
    "    for j in np.arange(i.shape[0]):\n",
    "        result = result + (i[j] - np.sum(i)) / np.sqrt(abs(np.average(i)))\n",
    "    return result\n",
    "\n",
    "@njit(parallel=True)\n",
    "def matrix_func_para(mat_a, mat_b):\n",
    "    a = mat_a.T\n",
    "    c = np.dot(mat_b,a)\n",
    "    d = c.reshape(50,50,4)\n",
    "    e = mat_b.reshape(50,4,50)\n",
    "    f = d.reshape(200,50)\n",
    "    g = e.reshape(50,200)\n",
    "    h = np.dot(f,g)\n",
    "    i = h.reshape(40000)\n",
    "    result = 0.0\n",
    "    for j in prange(i.shape[0]):\n",
    "        result = result + (i[j] - np.sum(i)) / np.sqrt(abs(np.average(i)))\n",
    "    return result\n",
    "\n",
    "matrix_func(matrix1, matrix2)\n",
    "matrix_func_para(matrix1, matrix2)\n",
    "'''"
   ]
  },
  {
   "cell_type": "code",
   "execution_count": 123,
   "metadata": {},
   "outputs": [],
   "source": [
    "matrix_numba = '''\n",
    "matrix_func(matrix1, matrix2)\n",
    "'''"
   ]
  },
  {
   "cell_type": "code",
   "execution_count": 124,
   "metadata": {},
   "outputs": [],
   "source": [
    "matrix_numba_para = '''\n",
    "matrix_func_para(matrix1, matrix2)\n",
    "'''"
   ]
  },
  {
   "cell_type": "code",
   "execution_count": 125,
   "metadata": {},
   "outputs": [],
   "source": [
    "iterations=20"
   ]
  },
  {
   "cell_type": "code",
   "execution_count": 126,
   "metadata": {},
   "outputs": [
    {
     "name": "stdout",
     "output_type": "stream",
     "text": [
      "Mean execution time: 2069.57ms (for 20 iteration(s))\n"
     ]
    }
   ],
   "source": [
    "# numba including timing for the compilation\n",
    "print_millis(timeit.timeit(stmt=matrix_numba, setup=setup_loop, number=iterations),iterations)"
   ]
  },
  {
   "cell_type": "code",
   "execution_count": 127,
   "metadata": {},
   "outputs": [
    {
     "name": "stdout",
     "output_type": "stream",
     "text": [
      "Mean execution time: 2059.81ms (for 20 iteration(s))\n"
     ]
    }
   ],
   "source": [
    "# numba not including timing for the compilation\n",
    "print_millis(timeit.timeit(stmt=matrix_numba, setup=setup_loop_comp, number=iterations),iterations)"
   ]
  },
  {
   "cell_type": "code",
   "execution_count": 128,
   "metadata": {},
   "outputs": [
    {
     "name": "stdout",
     "output_type": "stream",
     "text": [
      "Mean execution time: 316.76ms (for 20 iteration(s))\n"
     ]
    }
   ],
   "source": [
    "# numba (parallelised) including timing for the compilation\n",
    "print_millis(timeit.timeit(stmt=matrix_numba_para, setup=setup_loop, number=iterations),iterations)"
   ]
  },
  {
   "cell_type": "code",
   "execution_count": 129,
   "metadata": {},
   "outputs": [
    {
     "name": "stdout",
     "output_type": "stream",
     "text": [
      "Mean execution time: 303.46ms (for 20 iteration(s))\n"
     ]
    }
   ],
   "source": [
    "# numba (parallelised) not including timing for the compilation\n",
    "print_millis(timeit.timeit(stmt=matrix_numba_para, setup=setup_loop_comp, number=iterations),iterations)"
   ]
  },
  {
   "cell_type": "markdown",
   "metadata": {},
   "source": [
    "# Encountered errors for the article\n",
    "\n",
    "With the last benchmarks conducted on matrices there were various adjustments that had to be made just to get the function to run when using Numba.\n",
    "\n",
    "It should be noted that none of the following are a problem when using straight Python/NumPy without Numba."
   ]
  },
  {
   "cell_type": "markdown",
   "metadata": {},
   "source": [
    "1. Cannot use reshape with second arguement (i.e. cannot specify the re-order type 'F', 'C' etc.)\n",
    "2. np.matmul is not supported and therefore you have to use np.dot\n",
    "3. [Open bug](https://github.com/numba/numba/issues/5433) - using reshape after transpose requires a copy to be taken or it fails.\n",
    "4. [Open bug](https://github.com/numba/numba/issues/6714) - no support for integer arrays with np.dot"
   ]
  },
  {
   "cell_type": "code",
   "execution_count": null,
   "metadata": {},
   "outputs": [],
   "source": []
  }
 ],
 "metadata": {
  "colab": {
   "provenance": []
  },
  "deepnote": {},
  "deepnote_execution_queue": [],
  "deepnote_notebook_id": "fc86949c6ad94ab99b2aacf0edf27df2",
  "gpuClass": "standard",
  "kernelspec": {
   "display_name": "Python 3 (ipykernel)",
   "language": "python",
   "name": "python3"
  },
  "language_info": {
   "codemirror_mode": {
    "name": "ipython",
    "version": 3
   },
   "file_extension": ".py",
   "mimetype": "text/x-python",
   "name": "python",
   "nbconvert_exporter": "python",
   "pygments_lexer": "ipython3",
   "version": "3.11.4"
  }
 },
 "nbformat": 4,
 "nbformat_minor": 4
}
