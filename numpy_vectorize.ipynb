{
  "cells": [
    {
      "cell_type": "code",
      "source": [
        "!nvidia-smi"
      ],
      "metadata": {
        "colab": {
          "base_uri": "https://localhost:8080/"
        },
        "id": "kJaRf22kjY-r",
        "outputId": "5efbf6e2-90bf-4a68-eb0e-aa1b3c17e2ff"
      },
      "id": "kJaRf22kjY-r",
      "execution_count": null,
      "outputs": [
        {
          "output_type": "stream",
          "name": "stdout",
          "text": [
            "Thu Aug 25 05:50:51 2022       \n",
            "+-----------------------------------------------------------------------------+\n",
            "| NVIDIA-SMI 460.32.03    Driver Version: 460.32.03    CUDA Version: 11.2     |\n",
            "|-------------------------------+----------------------+----------------------+\n",
            "| GPU  Name        Persistence-M| Bus-Id        Disp.A | Volatile Uncorr. ECC |\n",
            "| Fan  Temp  Perf  Pwr:Usage/Cap|         Memory-Usage | GPU-Util  Compute M. |\n",
            "|                               |                      |               MIG M. |\n",
            "|===============================+======================+======================|\n",
            "|   0  Tesla T4            Off  | 00000000:00:04.0 Off |                    0 |\n",
            "| N/A   57C    P8    10W /  70W |      0MiB / 15109MiB |      0%      Default |\n",
            "|                               |                      |                  N/A |\n",
            "+-------------------------------+----------------------+----------------------+\n",
            "                                                                               \n",
            "+-----------------------------------------------------------------------------+\n",
            "| Processes:                                                                  |\n",
            "|  GPU   GI   CI        PID   Type   Process name                  GPU Memory |\n",
            "|        ID   ID                                                   Usage      |\n",
            "|=============================================================================|\n",
            "|  No running processes found                                                 |\n",
            "+-----------------------------------------------------------------------------+\n"
          ]
        }
      ]
    },
    {
      "cell_type": "code",
      "execution_count": null,
      "id": "39be5221-68b7-41f3-9559-afcf99ed07fa",
      "metadata": {
        "id": "39be5221-68b7-41f3-9559-afcf99ed07fa"
      },
      "outputs": [],
      "source": [
        "import numpy as np\n",
        "import pandas as pd\n",
        "import timeit"
      ]
    },
    {
      "cell_type": "code",
      "execution_count": null,
      "id": "15fde098-485b-496f-89fe-e9286d32c1cb",
      "metadata": {
        "id": "15fde098-485b-496f-89fe-e9286d32c1cb"
      },
      "outputs": [],
      "source": [
        "# a very simple arithmetic based method\n",
        "\n",
        "def sum_nums(a, b):\n",
        "    return a + b"
      ]
    },
    {
      "cell_type": "code",
      "execution_count": null,
      "id": "c4b67761-24bf-437c-a298-64a40d920eaa",
      "metadata": {
        "id": "c4b67761-24bf-437c-a298-64a40d920eaa"
      },
      "outputs": [],
      "source": [
        "df = pd.DataFrame({'series1':np.random.randn(1000000), 'series2':np.random.randn(1000000)})"
      ]
    },
    {
      "cell_type": "code",
      "execution_count": null,
      "id": "021332d5-cf95-4302-a962-4758fee718bb",
      "metadata": {
        "colab": {
          "base_uri": "https://localhost:8080/",
          "height": 424
        },
        "id": "021332d5-cf95-4302-a962-4758fee718bb",
        "outputId": "8a4feb6f-bad8-4765-eea7-3cc479af11d3"
      },
      "outputs": [
        {
          "output_type": "execute_result",
          "data": {
            "text/plain": [
              "         series1   series2\n",
              "0      -0.097334 -0.628245\n",
              "1      -0.952810 -0.606038\n",
              "2       0.492993 -0.542700\n",
              "3       0.862114 -0.573252\n",
              "4       1.504483 -0.664344\n",
              "...          ...       ...\n",
              "999995 -0.497209 -1.271519\n",
              "999996 -0.168351  0.113553\n",
              "999997  2.295218  0.574387\n",
              "999998  0.090730  0.472631\n",
              "999999  2.339272 -0.475708\n",
              "\n",
              "[1000000 rows x 2 columns]"
            ],
            "text/html": [
              "\n",
              "  <div id=\"df-63cf570e-d15c-4fc2-9ca5-f407ca0972b3\">\n",
              "    <div class=\"colab-df-container\">\n",
              "      <div>\n",
              "<style scoped>\n",
              "    .dataframe tbody tr th:only-of-type {\n",
              "        vertical-align: middle;\n",
              "    }\n",
              "\n",
              "    .dataframe tbody tr th {\n",
              "        vertical-align: top;\n",
              "    }\n",
              "\n",
              "    .dataframe thead th {\n",
              "        text-align: right;\n",
              "    }\n",
              "</style>\n",
              "<table border=\"1\" class=\"dataframe\">\n",
              "  <thead>\n",
              "    <tr style=\"text-align: right;\">\n",
              "      <th></th>\n",
              "      <th>series1</th>\n",
              "      <th>series2</th>\n",
              "    </tr>\n",
              "  </thead>\n",
              "  <tbody>\n",
              "    <tr>\n",
              "      <th>0</th>\n",
              "      <td>-0.097334</td>\n",
              "      <td>-0.628245</td>\n",
              "    </tr>\n",
              "    <tr>\n",
              "      <th>1</th>\n",
              "      <td>-0.952810</td>\n",
              "      <td>-0.606038</td>\n",
              "    </tr>\n",
              "    <tr>\n",
              "      <th>2</th>\n",
              "      <td>0.492993</td>\n",
              "      <td>-0.542700</td>\n",
              "    </tr>\n",
              "    <tr>\n",
              "      <th>3</th>\n",
              "      <td>0.862114</td>\n",
              "      <td>-0.573252</td>\n",
              "    </tr>\n",
              "    <tr>\n",
              "      <th>4</th>\n",
              "      <td>1.504483</td>\n",
              "      <td>-0.664344</td>\n",
              "    </tr>\n",
              "    <tr>\n",
              "      <th>...</th>\n",
              "      <td>...</td>\n",
              "      <td>...</td>\n",
              "    </tr>\n",
              "    <tr>\n",
              "      <th>999995</th>\n",
              "      <td>-0.497209</td>\n",
              "      <td>-1.271519</td>\n",
              "    </tr>\n",
              "    <tr>\n",
              "      <th>999996</th>\n",
              "      <td>-0.168351</td>\n",
              "      <td>0.113553</td>\n",
              "    </tr>\n",
              "    <tr>\n",
              "      <th>999997</th>\n",
              "      <td>2.295218</td>\n",
              "      <td>0.574387</td>\n",
              "    </tr>\n",
              "    <tr>\n",
              "      <th>999998</th>\n",
              "      <td>0.090730</td>\n",
              "      <td>0.472631</td>\n",
              "    </tr>\n",
              "    <tr>\n",
              "      <th>999999</th>\n",
              "      <td>2.339272</td>\n",
              "      <td>-0.475708</td>\n",
              "    </tr>\n",
              "  </tbody>\n",
              "</table>\n",
              "<p>1000000 rows × 2 columns</p>\n",
              "</div>\n",
              "      <button class=\"colab-df-convert\" onclick=\"convertToInteractive('df-63cf570e-d15c-4fc2-9ca5-f407ca0972b3')\"\n",
              "              title=\"Convert this dataframe to an interactive table.\"\n",
              "              style=\"display:none;\">\n",
              "        \n",
              "  <svg xmlns=\"http://www.w3.org/2000/svg\" height=\"24px\"viewBox=\"0 0 24 24\"\n",
              "       width=\"24px\">\n",
              "    <path d=\"M0 0h24v24H0V0z\" fill=\"none\"/>\n",
              "    <path d=\"M18.56 5.44l.94 2.06.94-2.06 2.06-.94-2.06-.94-.94-2.06-.94 2.06-2.06.94zm-11 1L8.5 8.5l.94-2.06 2.06-.94-2.06-.94L8.5 2.5l-.94 2.06-2.06.94zm10 10l.94 2.06.94-2.06 2.06-.94-2.06-.94-.94-2.06-.94 2.06-2.06.94z\"/><path d=\"M17.41 7.96l-1.37-1.37c-.4-.4-.92-.59-1.43-.59-.52 0-1.04.2-1.43.59L10.3 9.45l-7.72 7.72c-.78.78-.78 2.05 0 2.83L4 21.41c.39.39.9.59 1.41.59.51 0 1.02-.2 1.41-.59l7.78-7.78 2.81-2.81c.8-.78.8-2.07 0-2.86zM5.41 20L4 18.59l7.72-7.72 1.47 1.35L5.41 20z\"/>\n",
              "  </svg>\n",
              "      </button>\n",
              "      \n",
              "  <style>\n",
              "    .colab-df-container {\n",
              "      display:flex;\n",
              "      flex-wrap:wrap;\n",
              "      gap: 12px;\n",
              "    }\n",
              "\n",
              "    .colab-df-convert {\n",
              "      background-color: #E8F0FE;\n",
              "      border: none;\n",
              "      border-radius: 50%;\n",
              "      cursor: pointer;\n",
              "      display: none;\n",
              "      fill: #1967D2;\n",
              "      height: 32px;\n",
              "      padding: 0 0 0 0;\n",
              "      width: 32px;\n",
              "    }\n",
              "\n",
              "    .colab-df-convert:hover {\n",
              "      background-color: #E2EBFA;\n",
              "      box-shadow: 0px 1px 2px rgba(60, 64, 67, 0.3), 0px 1px 3px 1px rgba(60, 64, 67, 0.15);\n",
              "      fill: #174EA6;\n",
              "    }\n",
              "\n",
              "    [theme=dark] .colab-df-convert {\n",
              "      background-color: #3B4455;\n",
              "      fill: #D2E3FC;\n",
              "    }\n",
              "\n",
              "    [theme=dark] .colab-df-convert:hover {\n",
              "      background-color: #434B5C;\n",
              "      box-shadow: 0px 1px 3px 1px rgba(0, 0, 0, 0.15);\n",
              "      filter: drop-shadow(0px 1px 2px rgba(0, 0, 0, 0.3));\n",
              "      fill: #FFFFFF;\n",
              "    }\n",
              "  </style>\n",
              "\n",
              "      <script>\n",
              "        const buttonEl =\n",
              "          document.querySelector('#df-63cf570e-d15c-4fc2-9ca5-f407ca0972b3 button.colab-df-convert');\n",
              "        buttonEl.style.display =\n",
              "          google.colab.kernel.accessAllowed ? 'block' : 'none';\n",
              "\n",
              "        async function convertToInteractive(key) {\n",
              "          const element = document.querySelector('#df-63cf570e-d15c-4fc2-9ca5-f407ca0972b3');\n",
              "          const dataTable =\n",
              "            await google.colab.kernel.invokeFunction('convertToInteractive',\n",
              "                                                     [key], {});\n",
              "          if (!dataTable) return;\n",
              "\n",
              "          const docLinkHtml = 'Like what you see? Visit the ' +\n",
              "            '<a target=\"_blank\" href=https://colab.research.google.com/notebooks/data_table.ipynb>data table notebook</a>'\n",
              "            + ' to learn more about interactive tables.';\n",
              "          element.innerHTML = '';\n",
              "          dataTable['output_type'] = 'display_data';\n",
              "          await google.colab.output.renderOutput(dataTable, element);\n",
              "          const docLink = document.createElement('div');\n",
              "          docLink.innerHTML = docLinkHtml;\n",
              "          element.appendChild(docLink);\n",
              "        }\n",
              "      </script>\n",
              "    </div>\n",
              "  </div>\n",
              "  "
            ]
          },
          "metadata": {},
          "execution_count": 5
        }
      ],
      "source": [
        "df"
      ]
    },
    {
      "cell_type": "markdown",
      "source": [
        "## Check to see if all methods result in the same output"
      ],
      "metadata": {
        "id": "_z1dl4gPUPI5"
      },
      "id": "_z1dl4gPUPI5"
    },
    {
      "cell_type": "code",
      "execution_count": null,
      "id": "fa88d449-9e28-4c98-922d-f69ab03ad662",
      "metadata": {
        "colab": {
          "base_uri": "https://localhost:8080/"
        },
        "id": "fa88d449-9e28-4c98-922d-f69ab03ad662",
        "outputId": "fe6899f8-d20a-4776-e5af-086c87d8aada"
      },
      "outputs": [
        {
          "output_type": "execute_result",
          "data": {
            "text/plain": [
              "([-0.7255789514925267,\n",
              "  -1.558847935596728,\n",
              "  -0.04970686690096088,\n",
              "  0.28886155115905787,\n",
              "  0.8401395883248813],\n",
              " [-1.7687276854821357,\n",
              "  -0.05479793332391117,\n",
              "  2.8696052118064332,\n",
              "  0.5633608662624958,\n",
              "  1.8635641046562685])"
            ]
          },
          "metadata": {},
          "execution_count": 6
        }
      ],
      "source": [
        "series3 = df.apply(lambda df: sum_nums(df['series1'],df['series2']),axis=1)\n",
        "series3[0:5].to_list(), series3[-5:].to_list()"
      ]
    },
    {
      "cell_type": "code",
      "source": [
        "series3 = [sum_nums(a, b) for a, b in df.itertuples(index=False)]\n",
        "series3[0:5], series3[-5:]"
      ],
      "metadata": {
        "colab": {
          "base_uri": "https://localhost:8080/"
        },
        "id": "tS2CHIfNP5Pq",
        "outputId": "613defee-e7ac-4b9f-c3cb-33095ec41e66"
      },
      "id": "tS2CHIfNP5Pq",
      "execution_count": null,
      "outputs": [
        {
          "output_type": "execute_result",
          "data": {
            "text/plain": [
              "([-0.7255789514925267,\n",
              "  -1.558847935596728,\n",
              "  -0.04970686690096088,\n",
              "  0.28886155115905787,\n",
              "  0.8401395883248813],\n",
              " [-1.7687276854821357,\n",
              "  -0.05479793332391117,\n",
              "  2.8696052118064332,\n",
              "  0.5633608662624958,\n",
              "  1.8635641046562685])"
            ]
          },
          "metadata": {},
          "execution_count": 7
        }
      ]
    },
    {
      "cell_type": "code",
      "execution_count": null,
      "id": "8c87e3c0-bacf-4e84-895f-85445b0abac8",
      "metadata": {
        "colab": {
          "base_uri": "https://localhost:8080/"
        },
        "id": "8c87e3c0-bacf-4e84-895f-85445b0abac8",
        "outputId": "a8377c00-f499-4b47-fe96-449d3662c220"
      },
      "outputs": [
        {
          "output_type": "execute_result",
          "data": {
            "text/plain": [
              "([-0.7255789514925267,\n",
              "  -1.558847935596728,\n",
              "  -0.04970686690096088,\n",
              "  0.28886155115905787,\n",
              "  0.8401395883248813],\n",
              " [-1.7687276854821357,\n",
              "  -0.05479793332391117,\n",
              "  2.8696052118064332,\n",
              "  0.5633608662624958,\n",
              "  1.8635641046562685])"
            ]
          },
          "metadata": {},
          "execution_count": 8
        }
      ],
      "source": [
        "series3 = [sum_nums(a, b) for a, b in zip(df['series1'],df['series2'])]\n",
        "series3[0:5], series3[-5:]"
      ]
    },
    {
      "cell_type": "code",
      "execution_count": null,
      "id": "8c87e0a4-9c2b-443c-966a-299e24186d63",
      "metadata": {
        "colab": {
          "base_uri": "https://localhost:8080/"
        },
        "id": "8c87e0a4-9c2b-443c-966a-299e24186d63",
        "outputId": "865d28c8-e2b4-4ae6-c012-d569877f0176"
      },
      "outputs": [
        {
          "output_type": "execute_result",
          "data": {
            "text/plain": [
              "([-0.7255789514925267,\n",
              "  -1.558847935596728,\n",
              "  -0.04970686690096088,\n",
              "  0.28886155115905787,\n",
              "  0.8401395883248813],\n",
              " [-1.7687276854821357,\n",
              "  -0.05479793332391117,\n",
              "  2.8696052118064332,\n",
              "  0.5633608662624958,\n",
              "  1.8635641046562685])"
            ]
          },
          "metadata": {},
          "execution_count": 9
        }
      ],
      "source": [
        "series3 = np.vectorize(sum_nums)(df['series1'],df['series2'])\n",
        "series3[0:5].tolist(), series3[-5:].tolist()"
      ]
    },
    {
      "cell_type": "code",
      "execution_count": null,
      "id": "5a4a2eae-c8f0-4930-84c2-22c3d7db49f9",
      "metadata": {
        "colab": {
          "base_uri": "https://localhost:8080/"
        },
        "id": "5a4a2eae-c8f0-4930-84c2-22c3d7db49f9",
        "outputId": "368ca569-fc0a-4141-af00-3b2f5f874327"
      },
      "outputs": [
        {
          "output_type": "execute_result",
          "data": {
            "text/plain": [
              "([-0.7255789514925267,\n",
              "  -1.558847935596728,\n",
              "  -0.04970686690096088,\n",
              "  0.28886155115905787,\n",
              "  0.8401395883248813],\n",
              " [-1.7687276854821357,\n",
              "  -0.05479793332391117,\n",
              "  2.8696052118064332,\n",
              "  0.5633608662624958,\n",
              "  1.8635641046562685])"
            ]
          },
          "metadata": {},
          "execution_count": 10
        }
      ],
      "source": [
        "series3 = df['series1'] + df['series2']\n",
        "series3[0:5].tolist(), series3[-5:].tolist()"
      ]
    },
    {
      "cell_type": "code",
      "execution_count": null,
      "id": "ee92a7f5-02ca-4fc9-946a-f6bba89194b9",
      "metadata": {
        "colab": {
          "base_uri": "https://localhost:8080/"
        },
        "id": "ee92a7f5-02ca-4fc9-946a-f6bba89194b9",
        "outputId": "c9c94e36-ffb9-40dc-8a44-31890e0efa5e"
      },
      "outputs": [
        {
          "output_type": "execute_result",
          "data": {
            "text/plain": [
              "([-0.7255789514925267,\n",
              "  -1.558847935596728,\n",
              "  -0.04970686690096088,\n",
              "  0.28886155115905787,\n",
              "  0.8401395883248813],\n",
              " [-1.7687276854821357,\n",
              "  -0.05479793332391117,\n",
              "  2.8696052118064332,\n",
              "  0.5633608662624958,\n",
              "  1.8635641046562685])"
            ]
          },
          "metadata": {},
          "execution_count": 11
        }
      ],
      "source": [
        "series3 = np.add(df['series1'].to_numpy(),df['series2'].to_numpy())\n",
        "series3[0:5].tolist(), series3[-5:].tolist()"
      ]
    },
    {
      "cell_type": "markdown",
      "source": [
        "## Timit setup"
      ],
      "metadata": {
        "id": "oXuYzq4pPsgX"
      },
      "id": "oXuYzq4pPsgX"
    },
    {
      "cell_type": "code",
      "execution_count": null,
      "id": "27ee6062-8a73-4a5f-b490-213b9bebb270",
      "metadata": {
        "id": "27ee6062-8a73-4a5f-b490-213b9bebb270"
      },
      "outputs": [],
      "source": [
        "setup = '''\n",
        "import numpy as np\n",
        "import pandas as pd\n",
        "series = np.array([np.arange(1,1000000),np.arange(2,1000001)]).T\n",
        "df = pd.DataFrame(series, columns=['series1','series2'])\n",
        "def sum_nums(a, b):\n",
        "    return a + b\n",
        "'''"
      ]
    },
    {
      "cell_type": "code",
      "execution_count": null,
      "id": "e10842da-e7d4-416a-8b56-ddbe2fc09e89",
      "metadata": {
        "id": "e10842da-e7d4-416a-8b56-ddbe2fc09e89"
      },
      "outputs": [],
      "source": [
        "apply_func = '''\n",
        "series3 = df.apply(lambda df: sum_nums(df['series1'],df['series2']),axis=1)\n",
        "'''"
      ]
    },
    {
      "cell_type": "code",
      "execution_count": null,
      "id": "4d6ec681-6a30-4c32-a227-4d3092d8dbe8",
      "metadata": {
        "id": "4d6ec681-6a30-4c32-a227-4d3092d8dbe8"
      },
      "outputs": [],
      "source": [
        "iter_tup_func = '''\n",
        "series3 = [sum_nums(a, b) for a, b in df.itertuples(index=False)]\n",
        "'''"
      ]
    },
    {
      "cell_type": "code",
      "source": [
        "list_comp_func = '''\n",
        "series3 = [sum_nums(a, b) for a, b in zip(df['series1'],df['series2'])]\n",
        "'''"
      ],
      "metadata": {
        "id": "-p3jvIwTRKQN"
      },
      "id": "-p3jvIwTRKQN",
      "execution_count": null,
      "outputs": []
    },
    {
      "cell_type": "code",
      "execution_count": null,
      "id": "07286652-2aa1-46be-8430-01d438bee4f0",
      "metadata": {
        "id": "07286652-2aa1-46be-8430-01d438bee4f0"
      },
      "outputs": [],
      "source": [
        "vectorize_func = '''\n",
        "series3 = np.vectorize(sum_nums)(df['series1'],df['series2'])\n",
        "'''"
      ]
    },
    {
      "cell_type": "code",
      "execution_count": null,
      "id": "3e058afa-acbb-4d10-8cd5-020f4c251af5",
      "metadata": {
        "id": "3e058afa-acbb-4d10-8cd5-020f4c251af5"
      },
      "outputs": [],
      "source": [
        "df_func = '''\n",
        "series3 = df['series1'] + df['series2']\n",
        "'''"
      ]
    },
    {
      "cell_type": "code",
      "execution_count": null,
      "id": "abc7831b-44ac-478b-a78b-ebc66d95d449",
      "metadata": {
        "id": "abc7831b-44ac-478b-a78b-ebc66d95d449"
      },
      "outputs": [],
      "source": [
        "numpy_func = '''\n",
        "series3 = np.add(df['series1'].to_numpy(),df['series2'].to_numpy())\n",
        "'''"
      ]
    },
    {
      "cell_type": "markdown",
      "source": [
        "## Run timit for different methods"
      ],
      "metadata": {
        "id": "G-gbu-OUP3vo"
      },
      "id": "G-gbu-OUP3vo"
    },
    {
      "cell_type": "code",
      "execution_count": null,
      "id": "0edd1bdb-4e23-46cc-9b6a-488897a0b28e",
      "metadata": {
        "colab": {
          "base_uri": "https://localhost:8080/"
        },
        "id": "0edd1bdb-4e23-46cc-9b6a-488897a0b28e",
        "outputId": "caa6f6ea-370c-4b1b-a4e8-b981dc97aca4"
      },
      "outputs": [
        {
          "output_type": "execute_result",
          "data": {
            "text/plain": [
              "11.60054962800001"
            ]
          },
          "metadata": {},
          "execution_count": 19
        }
      ],
      "source": [
        "timeit.timeit(stmt=apply_func, setup=setup, number=1)"
      ]
    },
    {
      "cell_type": "code",
      "source": [
        "timeit.timeit(stmt=iter_tup_func, setup=setup, number=10)"
      ],
      "metadata": {
        "colab": {
          "base_uri": "https://localhost:8080/"
        },
        "id": "JuJc4a6bRXTM",
        "outputId": "db08f1ae-d60e-49ae-9c02-2d992d9bc1d3"
      },
      "id": "JuJc4a6bRXTM",
      "execution_count": null,
      "outputs": [
        {
          "output_type": "execute_result",
          "data": {
            "text/plain": [
              "6.1248978530000215"
            ]
          },
          "metadata": {},
          "execution_count": 20
        }
      ]
    },
    {
      "cell_type": "code",
      "execution_count": null,
      "id": "0320e1de-3ed0-4627-878f-7d949f639119",
      "metadata": {
        "colab": {
          "base_uri": "https://localhost:8080/"
        },
        "id": "0320e1de-3ed0-4627-878f-7d949f639119",
        "outputId": "6a6fced7-715c-4acc-a26f-d1aa84461658"
      },
      "outputs": [
        {
          "output_type": "execute_result",
          "data": {
            "text/plain": [
              "29.314812690999986"
            ]
          },
          "metadata": {},
          "execution_count": 21
        }
      ],
      "source": [
        "timeit.timeit(stmt=list_comp_func, setup=setup, number=100)"
      ]
    },
    {
      "cell_type": "code",
      "execution_count": null,
      "id": "a3a5968c-40d4-4368-89e0-77c1d1e85fbb",
      "metadata": {
        "colab": {
          "base_uri": "https://localhost:8080/"
        },
        "id": "a3a5968c-40d4-4368-89e0-77c1d1e85fbb",
        "outputId": "83a0ecbd-bd07-4faf-d3db-8bf1390ab78c"
      },
      "outputs": [
        {
          "output_type": "execute_result",
          "data": {
            "text/plain": [
              "22.125779193"
            ]
          },
          "metadata": {},
          "execution_count": 22
        }
      ],
      "source": [
        "timeit.timeit(stmt=vectorize_func, setup=setup, number=100)"
      ]
    },
    {
      "cell_type": "code",
      "execution_count": null,
      "id": "bf631e9c-36af-4bc1-a967-dab704fc7ece",
      "metadata": {
        "colab": {
          "base_uri": "https://localhost:8080/"
        },
        "id": "bf631e9c-36af-4bc1-a967-dab704fc7ece",
        "outputId": "35b9759a-4d35-4744-8eee-17115620bd40"
      },
      "outputs": [
        {
          "output_type": "execute_result",
          "data": {
            "text/plain": [
              "1.66047883600001"
            ]
          },
          "metadata": {},
          "execution_count": 23
        }
      ],
      "source": [
        "timeit.timeit(stmt=df_func, setup=setup, number=1000)"
      ]
    },
    {
      "cell_type": "code",
      "execution_count": null,
      "id": "41780579-958c-41d7-8d59-ea0c62a63acf",
      "metadata": {
        "colab": {
          "base_uri": "https://localhost:8080/"
        },
        "id": "41780579-958c-41d7-8d59-ea0c62a63acf",
        "outputId": "f256f4bc-5fb0-43de-aa9d-2403fa1efd65"
      },
      "outputs": [
        {
          "output_type": "execute_result",
          "data": {
            "text/plain": [
              "1.421019316000013"
            ]
          },
          "metadata": {},
          "execution_count": 24
        }
      ],
      "source": [
        "timeit.timeit(stmt=numpy_func, setup=setup, number=1000)"
      ]
    },
    {
      "cell_type": "markdown",
      "id": "444d5bc7-ffed-41c1-b491-951067e814ee",
      "metadata": {
        "id": "444d5bc7-ffed-41c1-b491-951067e814ee"
      },
      "source": [
        "# A more complicated example\n",
        "\n",
        "You could of couse put logic into the function. However, this will negate the use of both a simple numpy operation, and a simple pandas operation as detailed in the section above.\n",
        "\n",
        "This section will therefore consider the potential to speed up conditional methods."
      ]
    },
    {
      "cell_type": "code",
      "execution_count": null,
      "id": "0d3bec5e-320b-4d55-8526-8d18fd4fc536",
      "metadata": {
        "id": "0d3bec5e-320b-4d55-8526-8d18fd4fc536"
      },
      "outputs": [],
      "source": [
        "def categorise(a, b):\n",
        "    if a < 0:\n",
        "        return a * 2 + b\n",
        "    elif b < 0:\n",
        "        return a + 2 * b\n",
        "    else:\n",
        "        return None"
      ]
    },
    {
      "cell_type": "markdown",
      "source": [
        "## Check to see if all methods result in the same output"
      ],
      "metadata": {
        "id": "ZKS0-c3DRLle"
      },
      "id": "ZKS0-c3DRLle"
    },
    {
      "cell_type": "code",
      "source": [
        "series3 = df.apply(lambda df: categorise(df['series1'],df['series2']),axis=1)\n",
        "series3[0:5].to_list(), series3[-5:].to_list()"
      ],
      "metadata": {
        "colab": {
          "base_uri": "https://localhost:8080/"
        },
        "id": "HwKKNzOo9erI",
        "outputId": "8dc2fe98-0b29-4923-9b15-1c5eccefde9a"
      },
      "id": "HwKKNzOo9erI",
      "execution_count": null,
      "outputs": [
        {
          "output_type": "execute_result",
          "data": {
            "text/plain": [
              "([-0.8229132567991985,\n",
              "  -2.511657437159238,\n",
              "  -0.5924064086399732,\n",
              "  -0.28439056906206195,\n",
              "  0.17579605620671224],\n",
              " [-2.265936193593988, -0.2231485315173992, nan, nan, 1.3878564038272145])"
            ]
          },
          "metadata": {},
          "execution_count": 26
        }
      ]
    },
    {
      "cell_type": "code",
      "source": [
        "series3 = [categorise(a, b) for a, b in df.itertuples(index=False)]\n",
        "series3[0:5], series3[-5:]"
      ],
      "metadata": {
        "colab": {
          "base_uri": "https://localhost:8080/"
        },
        "id": "CtwpylmL9nOM",
        "outputId": "61c85976-6ffb-4983-9a99-574a53c9d590"
      },
      "id": "CtwpylmL9nOM",
      "execution_count": null,
      "outputs": [
        {
          "output_type": "execute_result",
          "data": {
            "text/plain": [
              "([-0.8229132567991985,\n",
              "  -2.511657437159238,\n",
              "  -0.5924064086399732,\n",
              "  -0.28439056906206195,\n",
              "  0.17579605620671224],\n",
              " [-2.265936193593988, -0.2231485315173992, None, None, 1.3878564038272145])"
            ]
          },
          "metadata": {},
          "execution_count": 27
        }
      ]
    },
    {
      "cell_type": "code",
      "source": [
        "series3 = [categorise(a, b) for a, b in zip(df['series1'],df['series2'])]\n",
        "series3[0:5], series3[-5:]"
      ],
      "metadata": {
        "colab": {
          "base_uri": "https://localhost:8080/"
        },
        "id": "b2BuY5_Obpl_",
        "outputId": "afe4234b-624f-4b90-c78f-760a3e928ed5"
      },
      "id": "b2BuY5_Obpl_",
      "execution_count": null,
      "outputs": [
        {
          "output_type": "execute_result",
          "data": {
            "text/plain": [
              "([-0.8229132567991985,\n",
              "  -2.511657437159238,\n",
              "  -0.5924064086399732,\n",
              "  -0.28439056906206195,\n",
              "  0.17579605620671224],\n",
              " [-2.265936193593988, -0.2231485315173992, None, None, 1.3878564038272145])"
            ]
          },
          "metadata": {},
          "execution_count": 28
        }
      ]
    },
    {
      "cell_type": "code",
      "source": [
        "series3 = np.vectorize(categorise)(df['series1'],df['series2'])\n",
        "series3[0:5].tolist(), series3[-5:].tolist()"
      ],
      "metadata": {
        "colab": {
          "base_uri": "https://localhost:8080/"
        },
        "id": "3C9iQFVR-Ac6",
        "outputId": "3c473abc-e15f-46c6-c435-e7345d61904e"
      },
      "id": "3C9iQFVR-Ac6",
      "execution_count": null,
      "outputs": [
        {
          "output_type": "execute_result",
          "data": {
            "text/plain": [
              "([-0.8229132567991985,\n",
              "  -2.511657437159238,\n",
              "  -0.5924064086399732,\n",
              "  -0.28439056906206195,\n",
              "  0.17579605620671224],\n",
              " [-2.265936193593988, -0.2231485315173992, nan, nan, 1.3878564038272145])"
            ]
          },
          "metadata": {},
          "execution_count": 29
        }
      ]
    },
    {
      "cell_type": "markdown",
      "source": [
        "## Timeit setup"
      ],
      "metadata": {
        "id": "6L19WiGfRQA1"
      },
      "id": "6L19WiGfRQA1"
    },
    {
      "cell_type": "code",
      "source": [
        "setup = '''\n",
        "import numpy as np\n",
        "import pandas as pd\n",
        "series = np.array([np.arange(1,1000000),np.arange(2,1000001)]).T\n",
        "df = pd.DataFrame(series, columns=['series1','series2'])\n",
        "def categorise(a, b):\n",
        "    if a < 0:\n",
        "        return a * 2 + b\n",
        "    elif b < 0:\n",
        "        return a + 2 * b\n",
        "    else:\n",
        "        return None\n",
        "'''"
      ],
      "metadata": {
        "id": "dUMg4KtP-Mwx"
      },
      "id": "dUMg4KtP-Mwx",
      "execution_count": null,
      "outputs": []
    },
    {
      "cell_type": "code",
      "source": [
        "apply_func = '''\n",
        "series3 = df.apply(lambda df: categorise(df['series1'],df['series2']),axis=1)\n",
        "'''"
      ],
      "metadata": {
        "id": "17sBl29HJfWR"
      },
      "id": "17sBl29HJfWR",
      "execution_count": null,
      "outputs": []
    },
    {
      "cell_type": "code",
      "source": [
        "iter_tup_func = '''\n",
        "series3 = [categorise(a, b) for a, b in df.itertuples(index=False)]\n",
        "'''"
      ],
      "metadata": {
        "id": "C5PzSsGEcFzT"
      },
      "id": "C5PzSsGEcFzT",
      "execution_count": null,
      "outputs": []
    },
    {
      "cell_type": "code",
      "source": [
        "list_comp_func = '''\n",
        "series3 = [categorise(a, b) for a, b in zip(df['series1'],df['series2'])]\n",
        "'''"
      ],
      "metadata": {
        "id": "hYoqGL-oJkzL"
      },
      "id": "hYoqGL-oJkzL",
      "execution_count": null,
      "outputs": []
    },
    {
      "cell_type": "code",
      "source": [
        "vectorize_func = '''\n",
        "series3 = np.vectorize(categorise)(df['series1'],df['series2'])\n",
        "'''"
      ],
      "metadata": {
        "id": "EODxsikmJuWD"
      },
      "id": "EODxsikmJuWD",
      "execution_count": null,
      "outputs": []
    },
    {
      "cell_type": "markdown",
      "source": [
        "## Run timit for different methods"
      ],
      "metadata": {
        "id": "DtpzzTa9RU11"
      },
      "id": "DtpzzTa9RU11"
    },
    {
      "cell_type": "code",
      "source": [
        "timeit.timeit(stmt=apply_func, setup=setup, number=1)"
      ],
      "metadata": {
        "colab": {
          "base_uri": "https://localhost:8080/"
        },
        "id": "Y-_ubQE7MbG9",
        "outputId": "a704bc0c-8e94-42ec-fa20-bbbf7dc71d81"
      },
      "id": "Y-_ubQE7MbG9",
      "execution_count": null,
      "outputs": [
        {
          "output_type": "execute_result",
          "data": {
            "text/plain": [
              "11.575162051999996"
            ]
          },
          "metadata": {},
          "execution_count": 35
        }
      ]
    },
    {
      "cell_type": "code",
      "source": [
        "timeit.timeit(stmt=iter_tup_func, setup=setup, number=10)"
      ],
      "metadata": {
        "colab": {
          "base_uri": "https://localhost:8080/"
        },
        "id": "auRDZg3JcY5j",
        "outputId": "0e4b7b4b-cc22-4e2a-ff72-a9da2b4500b2"
      },
      "id": "auRDZg3JcY5j",
      "execution_count": null,
      "outputs": [
        {
          "output_type": "execute_result",
          "data": {
            "text/plain": [
              "6.410262793000015"
            ]
          },
          "metadata": {},
          "execution_count": 36
        }
      ]
    },
    {
      "cell_type": "code",
      "source": [
        "timeit.timeit(stmt=list_comp_func, setup=setup, number=100)"
      ],
      "metadata": {
        "colab": {
          "base_uri": "https://localhost:8080/"
        },
        "id": "YzJRKOhAMex-",
        "outputId": "1a0fdcc0-e787-422f-84cc-d7d6e2f12a57"
      },
      "id": "YzJRKOhAMex-",
      "execution_count": null,
      "outputs": [
        {
          "output_type": "execute_result",
          "data": {
            "text/plain": [
              "31.12600953399999"
            ]
          },
          "metadata": {},
          "execution_count": 37
        }
      ]
    },
    {
      "cell_type": "code",
      "source": [
        "timeit.timeit(stmt=vectorize_func, setup=setup, number=100)"
      ],
      "metadata": {
        "colab": {
          "base_uri": "https://localhost:8080/"
        },
        "id": "1mVkXrzmMgTW",
        "outputId": "ba895785-88e1-4569-b06d-5512aa2d2407"
      },
      "id": "1mVkXrzmMgTW",
      "execution_count": null,
      "outputs": [
        {
          "output_type": "execute_result",
          "data": {
            "text/plain": [
              "21.41128515600002"
            ]
          },
          "metadata": {},
          "execution_count": 38
        }
      ]
    }
  ],
  "metadata": {
    "kernelspec": {
      "display_name": "Python 3",
      "name": "python3"
    },
    "language_info": {
      "name": "python"
    },
    "colab": {
      "name": "numpy-vectorize.ipynb",
      "provenance": [],
      "collapsed_sections": []
    },
    "accelerator": "GPU",
    "gpuClass": "standard"
  },
  "nbformat": 4,
  "nbformat_minor": 5
}