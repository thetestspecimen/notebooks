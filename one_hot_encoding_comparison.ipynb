{
 "cells": [
  {
   "cell_type": "markdown",
   "metadata": {
    "cell_id": "f4dcb5639e9743d48ae1529fdb3c668e",
    "deepnote_cell_type": "markdown",
    "id": "yeaugVYVhaJB"
   },
   "source": [
    "# An Exploration of One-Hot Encoding Techniques\n",
    "\n",
    "The following methods are going to be compared and discussed:\n",
    "\n",
    "* Pandas - get_dummies()\n",
    "* Scikit-Learn - OneHotEncoder()\n",
    "* Keras - to_categorical()\n",
    "\n",
    "**Note:** Please ensure that you have access to Pandas 1.5.0 or later otherwise some of the methods in this notebook will not run.\n",
    "\n",
    "## Datasource\n",
    "\n",
    "The data used in this notebook has been taken from Kaggle:\n",
    "\n",
    "Aman Chauhan, [Alcohol Effects On Study](https://medium.com/r/?url=https%3A%2F%2Fwww.kaggle.com%2Fdatasets%2Fwhenamancodes%2Falcohol-effects-on-study) (2022), Kaggle\n",
    "\n",
    "The data taken from Kaggle originates from the following two places:\n",
    "\n",
    "Paulo Cortez,  [Student Performance Data Set](https://medium.com/r/?url=https%3A%2F%2Farchive.ics.uci.edu%2Fml%2Fdatasets%2Fstudent%2Bperformance) (2014), UCI Machine Learning Repository\n",
    "\n",
    "P. Cortez and A. Silva, [Using Data Mining to Predict Secondary School Student Performance](https://medium.com/r/?url=http%3A%2F%2Fwww3.dsi.uminho.pt%2Fpcortez%2Fstudent.pdf) (2008), In A. Brito and J. Teixeira Eds., Proceedings of 5th FUture BUsiness TEChnology (FUBUTEC) Conference pp. 5–12, Porto, Portugal, April, 2008, EUROSIS, ISBN 978–9077381–39–7"
   ]
  },
  {
   "cell_type": "code",
   "execution_count": 1,
   "metadata": {
    "cell_id": "862600b80541402f9b2fdabd0d64c6b8",
    "deepnote_cell_type": "code",
    "deepnote_to_be_reexecuted": false,
    "execution_millis": 3769,
    "execution_start": 1666781666638,
    "id": "zB5FgCp5wC0T",
    "source_hash": "dcf2699f"
   },
   "outputs": [
    {
     "name": "stderr",
     "output_type": "stream",
     "text": [
      "2022-10-26 10:54:26.686776: I tensorflow/core/platform/cpu_feature_guard.cc:193] This TensorFlow binary is optimized with oneAPI Deep Neural Network Library (oneDNN) to use the following CPU instructions in performance-critical operations:  AVX2 AVX512F FMA\n",
      "To enable them in other operations, rebuild TensorFlow with the appropriate compiler flags.\n",
      "2022-10-26 10:54:26.845114: W tensorflow/stream_executor/platform/default/dso_loader.cc:64] Could not load dynamic library 'libcudart.so.11.0'; dlerror: libcudart.so.11.0: cannot open shared object file: No such file or directory\n",
      "2022-10-26 10:54:26.845138: I tensorflow/stream_executor/cuda/cudart_stub.cc:29] Ignore above cudart dlerror if you do not have a GPU set up on your machine.\n",
      "2022-10-26 10:54:26.884253: E tensorflow/stream_executor/cuda/cuda_blas.cc:2981] Unable to register cuBLAS factory: Attempting to register factory for plugin cuBLAS when one has already been registered\n",
      "2022-10-26 10:54:28.044756: W tensorflow/stream_executor/platform/default/dso_loader.cc:64] Could not load dynamic library 'libnvinfer.so.7'; dlerror: libnvinfer.so.7: cannot open shared object file: No such file or directory\n",
      "2022-10-26 10:54:28.044893: W tensorflow/stream_executor/platform/default/dso_loader.cc:64] Could not load dynamic library 'libnvinfer_plugin.so.7'; dlerror: libnvinfer_plugin.so.7: cannot open shared object file: No such file or directory\n",
      "2022-10-26 10:54:28.044905: W tensorflow/compiler/tf2tensorrt/utils/py_utils.cc:38] TF-TRT Warning: Cannot dlopen some TensorRT libraries. If you would like to use Nvidia GPU with TensorRT, please make sure the missing libraries mentioned above are installed properly.\n"
     ]
    }
   ],
   "source": [
    "import numpy as np\n",
    "import pandas as pd\n",
    "import tensorflow as tf\n",
    "from sklearn.preprocessing import OneHotEncoder\n",
    "from tensorflow.keras.utils import to_categorical"
   ]
  },
  {
   "cell_type": "markdown",
   "metadata": {
    "cell_id": "4285a8a8885d49b9ba934d41ddb1a391",
    "deepnote_cell_type": "markdown",
    "id": "A2ItshfWw0AC"
   },
   "source": [
    "# Import and select data\n",
    "\n",
    "The dataset actually includes a lot of different columns. For the purpose of this particular experiment I have chosen a set of columns that feature a range of different numerical and categorical types, as follows:\n",
    "\n",
    "* sex - binary string ('M' for male and 'F' for female)\n",
    "* age - standard numerical column (int)\n",
    "* Medu - Mother's education - Multiclass integer representation (0 - none, 1 - primary education, 2 - 5th to 9th grade, 3 - secondary education or 4 - higher education)\n",
    "* Mjob - Mother's job - Multiclass string representation - ('teacher', 'health' care related, civil 'services' (e.g. administrative or police), 'at_home' or 'other')\n",
    "* Dalc - Workday alcohol consumption - Multiclass graduated integer representation (from 1 - very low to 5 - very high)\n",
    "* Walc - Weekend alcohol consumption - Multiclass graduated integer representation (from 1 - very low to 5 - very high)\n",
    "* G3 - Final grade (the label) - Multiclass graduated integer representation (numeric: from 0 to 20) "
   ]
  },
  {
   "cell_type": "code",
   "execution_count": 2,
   "metadata": {
    "cell_id": "ef11a2ef88c54e03818f81b093cc66dd",
    "deepnote_cell_type": "code",
    "deepnote_to_be_reexecuted": false,
    "execution_millis": 124,
    "execution_start": 1666781673612,
    "id": "nO9buIwu2bzL",
    "source_hash": "aa7eda3a"
   },
   "outputs": [],
   "source": [
    "data = pd.read_csv('https://raw.githubusercontent.com/thetestspecimen/notebooks/main/datasets/alcohol_effects_on_study/alcohol-effects-study-maths.csv',\n",
    "                   usecols=['sex', 'age', 'Medu', 'Mjob','Dalc','Walc','G3'])"
   ]
  },
  {
   "cell_type": "code",
   "execution_count": 3,
   "metadata": {
    "allow_embed": "output",
    "cell_id": "31c9967c50f14cbebbeed0a560c87c85",
    "colab": {
     "base_uri": "https://localhost:8080/",
     "height": 206
    },
    "deepnote_cell_type": "code",
    "deepnote_to_be_reexecuted": false,
    "execution_millis": 9,
    "execution_start": 1666781675234,
    "id": "cG7tc8QFuidc",
    "outputId": "63231d79-22e5-42bf-af55-42e6f996085b",
    "source_hash": "41313cfa"
   },
   "outputs": [
    {
     "data": {
      "application/vnd.deepnote.dataframe.v3+json": {
       "column_count": 7,
       "columns": [
        {
         "dtype": "object",
         "name": "sex",
         "stats": {
          "categories": [
           {
            "count": 5,
            "name": "F"
           }
          ],
          "nan_count": 0,
          "unique_count": 1
         }
        },
        {
         "dtype": "int64",
         "name": "age",
         "stats": {
          "histogram": [
           {
            "bin_end": 15.3,
            "bin_start": 15,
            "count": 2
           },
           {
            "bin_end": 15.6,
            "bin_start": 15.3,
            "count": 0
           },
           {
            "bin_end": 15.9,
            "bin_start": 15.6,
            "count": 0
           },
           {
            "bin_end": 16.2,
            "bin_start": 15.9,
            "count": 1
           },
           {
            "bin_end": 16.5,
            "bin_start": 16.2,
            "count": 0
           },
           {
            "bin_end": 16.8,
            "bin_start": 16.5,
            "count": 0
           },
           {
            "bin_end": 17.1,
            "bin_start": 16.8,
            "count": 1
           },
           {
            "bin_end": 17.4,
            "bin_start": 17.1,
            "count": 0
           },
           {
            "bin_end": 17.7,
            "bin_start": 17.4,
            "count": 0
           },
           {
            "bin_end": 18,
            "bin_start": 17.7,
            "count": 1
           }
          ],
          "max": "18",
          "min": "15",
          "nan_count": 0,
          "unique_count": 4
         }
        },
        {
         "dtype": "int64",
         "name": "Medu",
         "stats": {
          "histogram": [
           {
            "bin_end": 1.3,
            "bin_start": 1,
            "count": 2
           },
           {
            "bin_end": 1.6,
            "bin_start": 1.3,
            "count": 0
           },
           {
            "bin_end": 1.9,
            "bin_start": 1.6,
            "count": 0
           },
           {
            "bin_end": 2.2,
            "bin_start": 1.9,
            "count": 0
           },
           {
            "bin_end": 2.5,
            "bin_start": 2.2,
            "count": 0
           },
           {
            "bin_end": 2.8,
            "bin_start": 2.5,
            "count": 0
           },
           {
            "bin_end": 3.1,
            "bin_start": 2.8,
            "count": 1
           },
           {
            "bin_end": 3.4,
            "bin_start": 3.1,
            "count": 0
           },
           {
            "bin_end": 3.6999999999999997,
            "bin_start": 3.4,
            "count": 0
           },
           {
            "bin_end": 4,
            "bin_start": 3.6999999999999997,
            "count": 2
           }
          ],
          "max": "4",
          "min": "1",
          "nan_count": 0,
          "unique_count": 3
         }
        },
        {
         "dtype": "object",
         "name": "Mjob",
         "stats": {
          "categories": [
           {
            "count": 3,
            "name": "at_home"
           },
           {
            "count": 1,
            "name": "health"
           },
           {
            "count": 1,
            "name": "other"
           }
          ],
          "nan_count": 0,
          "unique_count": 3
         }
        },
        {
         "dtype": "int64",
         "name": "Dalc",
         "stats": {
          "histogram": [
           {
            "bin_end": 1.1,
            "bin_start": 1,
            "count": 4
           },
           {
            "bin_end": 1.2,
            "bin_start": 1.1,
            "count": 0
           },
           {
            "bin_end": 1.3,
            "bin_start": 1.2,
            "count": 0
           },
           {
            "bin_end": 1.4,
            "bin_start": 1.3,
            "count": 0
           },
           {
            "bin_end": 1.5,
            "bin_start": 1.4,
            "count": 0
           },
           {
            "bin_end": 1.6,
            "bin_start": 1.5,
            "count": 0
           },
           {
            "bin_end": 1.7000000000000002,
            "bin_start": 1.6,
            "count": 0
           },
           {
            "bin_end": 1.8,
            "bin_start": 1.7000000000000002,
            "count": 0
           },
           {
            "bin_end": 1.9,
            "bin_start": 1.8,
            "count": 0
           },
           {
            "bin_end": 2,
            "bin_start": 1.9,
            "count": 1
           }
          ],
          "max": "2",
          "min": "1",
          "nan_count": 0,
          "unique_count": 2
         }
        },
        {
         "dtype": "int64",
         "name": "Walc",
         "stats": {
          "histogram": [
           {
            "bin_end": 1.2,
            "bin_start": 1,
            "count": 3
           },
           {
            "bin_end": 1.4,
            "bin_start": 1.2,
            "count": 0
           },
           {
            "bin_end": 1.6,
            "bin_start": 1.4,
            "count": 0
           },
           {
            "bin_end": 1.8,
            "bin_start": 1.6,
            "count": 0
           },
           {
            "bin_end": 2,
            "bin_start": 1.8,
            "count": 0
           },
           {
            "bin_end": 2.2,
            "bin_start": 2,
            "count": 1
           },
           {
            "bin_end": 2.4000000000000004,
            "bin_start": 2.2,
            "count": 0
           },
           {
            "bin_end": 2.6,
            "bin_start": 2.4000000000000004,
            "count": 0
           },
           {
            "bin_end": 2.8,
            "bin_start": 2.6,
            "count": 0
           },
           {
            "bin_end": 3,
            "bin_start": 2.8,
            "count": 1
           }
          ],
          "max": "3",
          "min": "1",
          "nan_count": 0,
          "unique_count": 3
         }
        },
        {
         "dtype": "int64",
         "name": "G3",
         "stats": {
          "histogram": [
           {
            "bin_end": 6.9,
            "bin_start": 6,
            "count": 2
           },
           {
            "bin_end": 7.8,
            "bin_start": 6.9,
            "count": 0
           },
           {
            "bin_end": 8.7,
            "bin_start": 7.8,
            "count": 0
           },
           {
            "bin_end": 9.6,
            "bin_start": 8.7,
            "count": 0
           },
           {
            "bin_end": 10.5,
            "bin_start": 9.6,
            "count": 2
           },
           {
            "bin_end": 11.4,
            "bin_start": 10.5,
            "count": 0
           },
           {
            "bin_end": 12.3,
            "bin_start": 11.4,
            "count": 0
           },
           {
            "bin_end": 13.2,
            "bin_start": 12.3,
            "count": 0
           },
           {
            "bin_end": 14.1,
            "bin_start": 13.2,
            "count": 0
           },
           {
            "bin_end": 15,
            "bin_start": 14.1,
            "count": 1
           }
          ],
          "max": "15",
          "min": "6",
          "nan_count": 0,
          "unique_count": 3
         }
        },
        {
         "dtype": "int64",
         "name": "_deepnote_index_column"
        }
       ],
       "row_count": 5,
       "rows": [
        {
         "Dalc": "1",
         "G3": "6",
         "Medu": "4",
         "Mjob": "at_home",
         "Walc": "1",
         "_deepnote_index_column": "0",
         "age": "18",
         "sex": "F"
        },
        {
         "Dalc": "1",
         "G3": "6",
         "Medu": "1",
         "Mjob": "at_home",
         "Walc": "1",
         "_deepnote_index_column": "1",
         "age": "17",
         "sex": "F"
        },
        {
         "Dalc": "2",
         "G3": "10",
         "Medu": "1",
         "Mjob": "at_home",
         "Walc": "3",
         "_deepnote_index_column": "2",
         "age": "15",
         "sex": "F"
        },
        {
         "Dalc": "1",
         "G3": "15",
         "Medu": "4",
         "Mjob": "health",
         "Walc": "1",
         "_deepnote_index_column": "3",
         "age": "15",
         "sex": "F"
        },
        {
         "Dalc": "1",
         "G3": "10",
         "Medu": "3",
         "Mjob": "other",
         "Walc": "2",
         "_deepnote_index_column": "4",
         "age": "16",
         "sex": "F"
        }
       ]
      },
      "text/html": [
       "<div>\n",
       "<style scoped>\n",
       "    .dataframe tbody tr th:only-of-type {\n",
       "        vertical-align: middle;\n",
       "    }\n",
       "\n",
       "    .dataframe tbody tr th {\n",
       "        vertical-align: top;\n",
       "    }\n",
       "\n",
       "    .dataframe thead th {\n",
       "        text-align: right;\n",
       "    }\n",
       "</style>\n",
       "<table border=\"1\" class=\"dataframe\">\n",
       "  <thead>\n",
       "    <tr style=\"text-align: right;\">\n",
       "      <th></th>\n",
       "      <th>sex</th>\n",
       "      <th>age</th>\n",
       "      <th>Medu</th>\n",
       "      <th>Mjob</th>\n",
       "      <th>Dalc</th>\n",
       "      <th>Walc</th>\n",
       "      <th>G3</th>\n",
       "    </tr>\n",
       "  </thead>\n",
       "  <tbody>\n",
       "    <tr>\n",
       "      <th>0</th>\n",
       "      <td>F</td>\n",
       "      <td>18</td>\n",
       "      <td>4</td>\n",
       "      <td>at_home</td>\n",
       "      <td>1</td>\n",
       "      <td>1</td>\n",
       "      <td>6</td>\n",
       "    </tr>\n",
       "    <tr>\n",
       "      <th>1</th>\n",
       "      <td>F</td>\n",
       "      <td>17</td>\n",
       "      <td>1</td>\n",
       "      <td>at_home</td>\n",
       "      <td>1</td>\n",
       "      <td>1</td>\n",
       "      <td>6</td>\n",
       "    </tr>\n",
       "    <tr>\n",
       "      <th>2</th>\n",
       "      <td>F</td>\n",
       "      <td>15</td>\n",
       "      <td>1</td>\n",
       "      <td>at_home</td>\n",
       "      <td>2</td>\n",
       "      <td>3</td>\n",
       "      <td>10</td>\n",
       "    </tr>\n",
       "    <tr>\n",
       "      <th>3</th>\n",
       "      <td>F</td>\n",
       "      <td>15</td>\n",
       "      <td>4</td>\n",
       "      <td>health</td>\n",
       "      <td>1</td>\n",
       "      <td>1</td>\n",
       "      <td>15</td>\n",
       "    </tr>\n",
       "    <tr>\n",
       "      <th>4</th>\n",
       "      <td>F</td>\n",
       "      <td>16</td>\n",
       "      <td>3</td>\n",
       "      <td>other</td>\n",
       "      <td>1</td>\n",
       "      <td>2</td>\n",
       "      <td>10</td>\n",
       "    </tr>\n",
       "  </tbody>\n",
       "</table>\n",
       "</div>"
      ],
      "text/plain": [
       "  sex  age  Medu     Mjob  Dalc  Walc  G3\n",
       "0   F   18     4  at_home     1     1   6\n",
       "1   F   17     1  at_home     1     1   6\n",
       "2   F   15     1  at_home     2     3  10\n",
       "3   F   15     4   health     1     1  15\n",
       "4   F   16     3    other     1     2  10"
      ]
     },
     "execution_count": 3,
     "metadata": {},
     "output_type": "execute_result"
    }
   ],
   "source": [
    "data.head()"
   ]
  },
  {
   "cell_type": "code",
   "execution_count": 4,
   "metadata": {
    "cell_id": "2529cfd706b9497bbd980518c011e1e4",
    "colab": {
     "base_uri": "https://localhost:8080/",
     "height": 300
    },
    "deepnote_cell_type": "code",
    "deepnote_to_be_reexecuted": false,
    "execution_millis": 33,
    "execution_start": 1666781675687,
    "id": "5SHPm3YTujyz",
    "outputId": "cf3320dc-ae06-46b8-ed1f-dd96d150d5b3",
    "source_hash": "d786443f"
   },
   "outputs": [
    {
     "data": {
      "application/vnd.deepnote.dataframe.v3+json": {
       "column_count": 5,
       "columns": [
        {
         "dtype": "float64",
         "name": "age",
         "stats": {
          "histogram": [
           {
            "bin_end": 40.648438452145065,
            "bin_start": 1.2760427246056283,
            "count": 7
           },
           {
            "bin_end": 80.0208341796845,
            "bin_start": 40.648438452145065,
            "count": 0
           },
           {
            "bin_end": 119.39322990722393,
            "bin_start": 80.0208341796845,
            "count": 0
           },
           {
            "bin_end": 158.76562563476335,
            "bin_start": 119.39322990722393,
            "count": 0
           },
           {
            "bin_end": 198.1380213623028,
            "bin_start": 158.76562563476335,
            "count": 0
           },
           {
            "bin_end": 237.5104170898422,
            "bin_start": 198.1380213623028,
            "count": 0
           },
           {
            "bin_end": 276.8828128173817,
            "bin_start": 237.5104170898422,
            "count": 0
           },
           {
            "bin_end": 316.2552085449211,
            "bin_start": 276.8828128173817,
            "count": 0
           },
           {
            "bin_end": 355.62760427246053,
            "bin_start": 316.2552085449211,
            "count": 0
           },
           {
            "bin_end": 395,
            "bin_start": 355.62760427246053,
            "count": 1
           }
          ],
          "max": "395.0",
          "min": "1.2760427246056283",
          "nan_count": 0,
          "unique_count": 8
         }
        },
        {
         "dtype": "float64",
         "name": "Medu",
         "stats": {
          "histogram": [
           {
            "bin_end": 39.5,
            "bin_start": 0,
            "count": 7
           },
           {
            "bin_end": 79,
            "bin_start": 39.5,
            "count": 0
           },
           {
            "bin_end": 118.5,
            "bin_start": 79,
            "count": 0
           },
           {
            "bin_end": 158,
            "bin_start": 118.5,
            "count": 0
           },
           {
            "bin_end": 197.5,
            "bin_start": 158,
            "count": 0
           },
           {
            "bin_end": 237,
            "bin_start": 197.5,
            "count": 0
           },
           {
            "bin_end": 276.5,
            "bin_start": 237,
            "count": 0
           },
           {
            "bin_end": 316,
            "bin_start": 276.5,
            "count": 0
           },
           {
            "bin_end": 355.5,
            "bin_start": 316,
            "count": 0
           },
           {
            "bin_end": 395,
            "bin_start": 355.5,
            "count": 1
           }
          ],
          "max": "395.0",
          "min": "0.0",
          "nan_count": 0,
          "unique_count": 7
         }
        },
        {
         "dtype": "float64",
         "name": "Dalc",
         "stats": {
          "histogram": [
           {
            "bin_end": 40.30166728528187,
            "bin_start": 0.8907414280909669,
            "count": 7
           },
           {
            "bin_end": 79.71259314247277,
            "bin_start": 40.30166728528187,
            "count": 0
           },
           {
            "bin_end": 119.12351899966367,
            "bin_start": 79.71259314247277,
            "count": 0
           },
           {
            "bin_end": 158.53444485685458,
            "bin_start": 119.12351899966367,
            "count": 0
           },
           {
            "bin_end": 197.94537071404548,
            "bin_start": 158.53444485685458,
            "count": 0
           },
           {
            "bin_end": 237.35629657123638,
            "bin_start": 197.94537071404548,
            "count": 0
           },
           {
            "bin_end": 276.76722242842726,
            "bin_start": 237.35629657123638,
            "count": 0
           },
           {
            "bin_end": 316.1781482856182,
            "bin_start": 276.76722242842726,
            "count": 0
           },
           {
            "bin_end": 355.5890741428091,
            "bin_start": 316.1781482856182,
            "count": 0
           },
           {
            "bin_end": 395,
            "bin_start": 355.5890741428091,
            "count": 1
           }
          ],
          "max": "395.0",
          "min": "0.8907414280909669",
          "nan_count": 0,
          "unique_count": 6
         }
        },
        {
         "dtype": "float64",
         "name": "Walc",
         "stats": {
          "histogram": [
           {
            "bin_end": 40.4,
            "bin_start": 1,
            "count": 7
           },
           {
            "bin_end": 79.8,
            "bin_start": 40.4,
            "count": 0
           },
           {
            "bin_end": 119.19999999999999,
            "bin_start": 79.8,
            "count": 0
           },
           {
            "bin_end": 158.6,
            "bin_start": 119.19999999999999,
            "count": 0
           },
           {
            "bin_end": 198,
            "bin_start": 158.6,
            "count": 0
           },
           {
            "bin_end": 237.39999999999998,
            "bin_start": 198,
            "count": 0
           },
           {
            "bin_end": 276.8,
            "bin_start": 237.39999999999998,
            "count": 0
           },
           {
            "bin_end": 316.2,
            "bin_start": 276.8,
            "count": 0
           },
           {
            "bin_end": 355.59999999999997,
            "bin_start": 316.2,
            "count": 0
           },
           {
            "bin_end": 395,
            "bin_start": 355.59999999999997,
            "count": 1
           }
          ],
          "max": "395.0",
          "min": "1.0",
          "nan_count": 0,
          "unique_count": 7
         }
        },
        {
         "dtype": "float64",
         "name": "G3",
         "stats": {
          "histogram": [
           {
            "bin_end": 39.5,
            "bin_start": 0,
            "count": 7
           },
           {
            "bin_end": 79,
            "bin_start": 39.5,
            "count": 0
           },
           {
            "bin_end": 118.5,
            "bin_start": 79,
            "count": 0
           },
           {
            "bin_end": 158,
            "bin_start": 118.5,
            "count": 0
           },
           {
            "bin_end": 197.5,
            "bin_start": 158,
            "count": 0
           },
           {
            "bin_end": 237,
            "bin_start": 197.5,
            "count": 0
           },
           {
            "bin_end": 276.5,
            "bin_start": 237,
            "count": 0
           },
           {
            "bin_end": 316,
            "bin_start": 276.5,
            "count": 0
           },
           {
            "bin_end": 355.5,
            "bin_start": 316,
            "count": 0
           },
           {
            "bin_end": 395,
            "bin_start": 355.5,
            "count": 1
           }
          ],
          "max": "395.0",
          "min": "0.0",
          "nan_count": 0,
          "unique_count": 8
         }
        },
        {
         "dtype": "object",
         "name": "_deepnote_index_column"
        }
       ],
       "row_count": 8,
       "rows": [
        {
         "Dalc": "395.0",
         "G3": "395.0",
         "Medu": "395.0",
         "Walc": "395.0",
         "_deepnote_index_column": "count",
         "age": "395.0"
        },
        {
         "Dalc": "1.481012658227848",
         "G3": "10.415189873417722",
         "Medu": "2.749367088607595",
         "Walc": "2.2911392405063293",
         "_deepnote_index_column": "mean",
         "age": "16.696202531645568"
        },
        {
         "Dalc": "0.8907414280909669",
         "G3": "4.5814426109978434",
         "Medu": "1.0947351414285367",
         "Walc": "1.2878965924510932",
         "_deepnote_index_column": "std",
         "age": "1.2760427246056283"
        },
        {
         "Dalc": "1.0",
         "G3": "0.0",
         "Medu": "0.0",
         "Walc": "1.0",
         "_deepnote_index_column": "min",
         "age": "15.0"
        },
        {
         "Dalc": "1.0",
         "G3": "8.0",
         "Medu": "2.0",
         "Walc": "1.0",
         "_deepnote_index_column": "25%",
         "age": "16.0"
        },
        {
         "Dalc": "1.0",
         "G3": "11.0",
         "Medu": "3.0",
         "Walc": "2.0",
         "_deepnote_index_column": "50%",
         "age": "17.0"
        },
        {
         "Dalc": "2.0",
         "G3": "14.0",
         "Medu": "4.0",
         "Walc": "3.0",
         "_deepnote_index_column": "75%",
         "age": "18.0"
        },
        {
         "Dalc": "5.0",
         "G3": "20.0",
         "Medu": "4.0",
         "Walc": "5.0",
         "_deepnote_index_column": "max",
         "age": "22.0"
        }
       ]
      },
      "text/html": [
       "<div>\n",
       "<style scoped>\n",
       "    .dataframe tbody tr th:only-of-type {\n",
       "        vertical-align: middle;\n",
       "    }\n",
       "\n",
       "    .dataframe tbody tr th {\n",
       "        vertical-align: top;\n",
       "    }\n",
       "\n",
       "    .dataframe thead th {\n",
       "        text-align: right;\n",
       "    }\n",
       "</style>\n",
       "<table border=\"1\" class=\"dataframe\">\n",
       "  <thead>\n",
       "    <tr style=\"text-align: right;\">\n",
       "      <th></th>\n",
       "      <th>age</th>\n",
       "      <th>Medu</th>\n",
       "      <th>Dalc</th>\n",
       "      <th>Walc</th>\n",
       "      <th>G3</th>\n",
       "    </tr>\n",
       "  </thead>\n",
       "  <tbody>\n",
       "    <tr>\n",
       "      <th>count</th>\n",
       "      <td>395.000000</td>\n",
       "      <td>395.000000</td>\n",
       "      <td>395.000000</td>\n",
       "      <td>395.000000</td>\n",
       "      <td>395.000000</td>\n",
       "    </tr>\n",
       "    <tr>\n",
       "      <th>mean</th>\n",
       "      <td>16.696203</td>\n",
       "      <td>2.749367</td>\n",
       "      <td>1.481013</td>\n",
       "      <td>2.291139</td>\n",
       "      <td>10.415190</td>\n",
       "    </tr>\n",
       "    <tr>\n",
       "      <th>std</th>\n",
       "      <td>1.276043</td>\n",
       "      <td>1.094735</td>\n",
       "      <td>0.890741</td>\n",
       "      <td>1.287897</td>\n",
       "      <td>4.581443</td>\n",
       "    </tr>\n",
       "    <tr>\n",
       "      <th>min</th>\n",
       "      <td>15.000000</td>\n",
       "      <td>0.000000</td>\n",
       "      <td>1.000000</td>\n",
       "      <td>1.000000</td>\n",
       "      <td>0.000000</td>\n",
       "    </tr>\n",
       "    <tr>\n",
       "      <th>25%</th>\n",
       "      <td>16.000000</td>\n",
       "      <td>2.000000</td>\n",
       "      <td>1.000000</td>\n",
       "      <td>1.000000</td>\n",
       "      <td>8.000000</td>\n",
       "    </tr>\n",
       "    <tr>\n",
       "      <th>50%</th>\n",
       "      <td>17.000000</td>\n",
       "      <td>3.000000</td>\n",
       "      <td>1.000000</td>\n",
       "      <td>2.000000</td>\n",
       "      <td>11.000000</td>\n",
       "    </tr>\n",
       "    <tr>\n",
       "      <th>75%</th>\n",
       "      <td>18.000000</td>\n",
       "      <td>4.000000</td>\n",
       "      <td>2.000000</td>\n",
       "      <td>3.000000</td>\n",
       "      <td>14.000000</td>\n",
       "    </tr>\n",
       "    <tr>\n",
       "      <th>max</th>\n",
       "      <td>22.000000</td>\n",
       "      <td>4.000000</td>\n",
       "      <td>5.000000</td>\n",
       "      <td>5.000000</td>\n",
       "      <td>20.000000</td>\n",
       "    </tr>\n",
       "  </tbody>\n",
       "</table>\n",
       "</div>"
      ],
      "text/plain": [
       "              age        Medu        Dalc        Walc          G3\n",
       "count  395.000000  395.000000  395.000000  395.000000  395.000000\n",
       "mean    16.696203    2.749367    1.481013    2.291139   10.415190\n",
       "std      1.276043    1.094735    0.890741    1.287897    4.581443\n",
       "min     15.000000    0.000000    1.000000    1.000000    0.000000\n",
       "25%     16.000000    2.000000    1.000000    1.000000    8.000000\n",
       "50%     17.000000    3.000000    1.000000    2.000000   11.000000\n",
       "75%     18.000000    4.000000    2.000000    3.000000   14.000000\n",
       "max     22.000000    4.000000    5.000000    5.000000   20.000000"
      ]
     },
     "execution_count": 4,
     "metadata": {},
     "output_type": "execute_result"
    }
   ],
   "source": [
    "data.describe()"
   ]
  },
  {
   "cell_type": "code",
   "execution_count": 5,
   "metadata": {
    "allow_embed": "output",
    "cell_id": "8d4217d35ba9492784749280586926c6",
    "colab": {
     "base_uri": "https://localhost:8080/"
    },
    "deepnote_cell_type": "code",
    "deepnote_to_be_reexecuted": false,
    "execution_millis": 43,
    "execution_start": 1666781680064,
    "id": "VmUYcimfDfjh",
    "outputId": "6818c110-7a32-426a-ed1a-daf50dd72d97",
    "source_hash": "957547ae"
   },
   "outputs": [
    {
     "name": "stdout",
     "output_type": "stream",
     "text": [
      "<class 'pandas.core.frame.DataFrame'>\n",
      "RangeIndex: 395 entries, 0 to 394\n",
      "Data columns (total 7 columns):\n",
      " #   Column  Non-Null Count  Dtype \n",
      "---  ------  --------------  ----- \n",
      " 0   sex     395 non-null    object\n",
      " 1   age     395 non-null    int64 \n",
      " 2   Medu    395 non-null    int64 \n",
      " 3   Mjob    395 non-null    object\n",
      " 4   Dalc    395 non-null    int64 \n",
      " 5   Walc    395 non-null    int64 \n",
      " 6   G3      395 non-null    int64 \n",
      "dtypes: int64(5), object(2)\n",
      "memory usage: 21.7+ KB\n"
     ]
    }
   ],
   "source": [
    "data.info()"
   ]
  },
  {
   "cell_type": "markdown",
   "metadata": {
    "cell_id": "368b8224bbcb4560a79acc04b60aa268",
    "deepnote_cell_type": "markdown",
    "id": "vXon9S0IDo-Y"
   },
   "source": [
    "# Pandas get_dummies()\n",
    "\n",
    "https://pandas.pydata.org/docs/reference/api/pandas.get_dummies.html\n",
    "\n",
    "The method:\n",
    "\n",
    "```python\n",
    "pandas.get_dummies(data, prefix=None, prefix_sep='_', dummy_na=False, columns=None, sparse=False, drop_first=False, dtype=None)\n",
    "```"
   ]
  },
  {
   "cell_type": "markdown",
   "metadata": {
    "cell_id": "51d871043582437bba59932b0fe90cf3",
    "deepnote_cell_type": "markdown",
    "tags": []
   },
   "source": [
    "You can very simply just pass a dataframe to get_dummies() and it will work out which columns are most suitable for one hot encoding. However, this is not the best way to approach things as you will see:"
   ]
  },
  {
   "cell_type": "code",
   "execution_count": 6,
   "metadata": {
    "allow_embed": true,
    "cell_id": "66abace5caf346f1af2ae7b15109d02e",
    "deepnote_cell_type": "code",
    "deepnote_to_be_reexecuted": false,
    "execution_millis": 13,
    "execution_start": 1666781680106,
    "source_hash": "5a1a4b3f",
    "tags": []
   },
   "outputs": [
    {
     "data": {
      "application/vnd.deepnote.dataframe.v3+json": {
       "column_count": 12,
       "columns": [
        {
         "dtype": "int64",
         "name": "age",
         "stats": {
          "histogram": [
           {
            "bin_end": 15.3,
            "bin_start": 15,
            "count": 2
           },
           {
            "bin_end": 15.6,
            "bin_start": 15.3,
            "count": 0
           },
           {
            "bin_end": 15.9,
            "bin_start": 15.6,
            "count": 0
           },
           {
            "bin_end": 16.2,
            "bin_start": 15.9,
            "count": 1
           },
           {
            "bin_end": 16.5,
            "bin_start": 16.2,
            "count": 0
           },
           {
            "bin_end": 16.8,
            "bin_start": 16.5,
            "count": 0
           },
           {
            "bin_end": 17.1,
            "bin_start": 16.8,
            "count": 1
           },
           {
            "bin_end": 17.4,
            "bin_start": 17.1,
            "count": 0
           },
           {
            "bin_end": 17.7,
            "bin_start": 17.4,
            "count": 0
           },
           {
            "bin_end": 18,
            "bin_start": 17.7,
            "count": 1
           }
          ],
          "max": "18",
          "min": "15",
          "nan_count": 0,
          "unique_count": 4
         }
        },
        {
         "dtype": "int64",
         "name": "Medu",
         "stats": {
          "histogram": [
           {
            "bin_end": 1.3,
            "bin_start": 1,
            "count": 2
           },
           {
            "bin_end": 1.6,
            "bin_start": 1.3,
            "count": 0
           },
           {
            "bin_end": 1.9,
            "bin_start": 1.6,
            "count": 0
           },
           {
            "bin_end": 2.2,
            "bin_start": 1.9,
            "count": 0
           },
           {
            "bin_end": 2.5,
            "bin_start": 2.2,
            "count": 0
           },
           {
            "bin_end": 2.8,
            "bin_start": 2.5,
            "count": 0
           },
           {
            "bin_end": 3.1,
            "bin_start": 2.8,
            "count": 1
           },
           {
            "bin_end": 3.4,
            "bin_start": 3.1,
            "count": 0
           },
           {
            "bin_end": 3.6999999999999997,
            "bin_start": 3.4,
            "count": 0
           },
           {
            "bin_end": 4,
            "bin_start": 3.6999999999999997,
            "count": 2
           }
          ],
          "max": "4",
          "min": "1",
          "nan_count": 0,
          "unique_count": 3
         }
        },
        {
         "dtype": "int64",
         "name": "Dalc",
         "stats": {
          "histogram": [
           {
            "bin_end": 1.1,
            "bin_start": 1,
            "count": 4
           },
           {
            "bin_end": 1.2,
            "bin_start": 1.1,
            "count": 0
           },
           {
            "bin_end": 1.3,
            "bin_start": 1.2,
            "count": 0
           },
           {
            "bin_end": 1.4,
            "bin_start": 1.3,
            "count": 0
           },
           {
            "bin_end": 1.5,
            "bin_start": 1.4,
            "count": 0
           },
           {
            "bin_end": 1.6,
            "bin_start": 1.5,
            "count": 0
           },
           {
            "bin_end": 1.7000000000000002,
            "bin_start": 1.6,
            "count": 0
           },
           {
            "bin_end": 1.8,
            "bin_start": 1.7000000000000002,
            "count": 0
           },
           {
            "bin_end": 1.9,
            "bin_start": 1.8,
            "count": 0
           },
           {
            "bin_end": 2,
            "bin_start": 1.9,
            "count": 1
           }
          ],
          "max": "2",
          "min": "1",
          "nan_count": 0,
          "unique_count": 2
         }
        },
        {
         "dtype": "int64",
         "name": "Walc",
         "stats": {
          "histogram": [
           {
            "bin_end": 1.2,
            "bin_start": 1,
            "count": 3
           },
           {
            "bin_end": 1.4,
            "bin_start": 1.2,
            "count": 0
           },
           {
            "bin_end": 1.6,
            "bin_start": 1.4,
            "count": 0
           },
           {
            "bin_end": 1.8,
            "bin_start": 1.6,
            "count": 0
           },
           {
            "bin_end": 2,
            "bin_start": 1.8,
            "count": 0
           },
           {
            "bin_end": 2.2,
            "bin_start": 2,
            "count": 1
           },
           {
            "bin_end": 2.4000000000000004,
            "bin_start": 2.2,
            "count": 0
           },
           {
            "bin_end": 2.6,
            "bin_start": 2.4000000000000004,
            "count": 0
           },
           {
            "bin_end": 2.8,
            "bin_start": 2.6,
            "count": 0
           },
           {
            "bin_end": 3,
            "bin_start": 2.8,
            "count": 1
           }
          ],
          "max": "3",
          "min": "1",
          "nan_count": 0,
          "unique_count": 3
         }
        },
        {
         "dtype": "int64",
         "name": "G3",
         "stats": {
          "histogram": [
           {
            "bin_end": 6.9,
            "bin_start": 6,
            "count": 2
           },
           {
            "bin_end": 7.8,
            "bin_start": 6.9,
            "count": 0
           },
           {
            "bin_end": 8.7,
            "bin_start": 7.8,
            "count": 0
           },
           {
            "bin_end": 9.6,
            "bin_start": 8.7,
            "count": 0
           },
           {
            "bin_end": 10.5,
            "bin_start": 9.6,
            "count": 2
           },
           {
            "bin_end": 11.4,
            "bin_start": 10.5,
            "count": 0
           },
           {
            "bin_end": 12.3,
            "bin_start": 11.4,
            "count": 0
           },
           {
            "bin_end": 13.2,
            "bin_start": 12.3,
            "count": 0
           },
           {
            "bin_end": 14.1,
            "bin_start": 13.2,
            "count": 0
           },
           {
            "bin_end": 15,
            "bin_start": 14.1,
            "count": 1
           }
          ],
          "max": "15",
          "min": "6",
          "nan_count": 0,
          "unique_count": 3
         }
        },
        {
         "dtype": "uint8",
         "name": "sex_F",
         "stats": {
          "histogram": [
           {
            "bin_end": 0.6,
            "bin_start": 0.5,
            "count": 0
           },
           {
            "bin_end": 0.7,
            "bin_start": 0.6,
            "count": 0
           },
           {
            "bin_end": 0.8,
            "bin_start": 0.7,
            "count": 0
           },
           {
            "bin_end": 0.9,
            "bin_start": 0.8,
            "count": 0
           },
           {
            "bin_end": 1,
            "bin_start": 0.9,
            "count": 0
           },
           {
            "bin_end": 1.1,
            "bin_start": 1,
            "count": 5
           },
           {
            "bin_end": 1.2000000000000002,
            "bin_start": 1.1,
            "count": 0
           },
           {
            "bin_end": 1.3,
            "bin_start": 1.2000000000000002,
            "count": 0
           },
           {
            "bin_end": 1.4,
            "bin_start": 1.3,
            "count": 0
           },
           {
            "bin_end": 1.5,
            "bin_start": 1.4,
            "count": 0
           }
          ],
          "max": "1",
          "min": "1",
          "nan_count": 0,
          "unique_count": 1
         }
        },
        {
         "dtype": "uint8",
         "name": "sex_M",
         "stats": {
          "histogram": [
           {
            "bin_end": -0.4,
            "bin_start": -0.5,
            "count": 0
           },
           {
            "bin_end": -0.3,
            "bin_start": -0.4,
            "count": 0
           },
           {
            "bin_end": -0.19999999999999996,
            "bin_start": -0.3,
            "count": 0
           },
           {
            "bin_end": -0.09999999999999998,
            "bin_start": -0.19999999999999996,
            "count": 0
           },
           {
            "bin_end": 0,
            "bin_start": -0.09999999999999998,
            "count": 0
           },
           {
            "bin_end": 0.10000000000000009,
            "bin_start": 0,
            "count": 5
           },
           {
            "bin_end": 0.20000000000000007,
            "bin_start": 0.10000000000000009,
            "count": 0
           },
           {
            "bin_end": 0.30000000000000004,
            "bin_start": 0.20000000000000007,
            "count": 0
           },
           {
            "bin_end": 0.4,
            "bin_start": 0.30000000000000004,
            "count": 0
           },
           {
            "bin_end": 0.5,
            "bin_start": 0.4,
            "count": 0
           }
          ],
          "max": "0",
          "min": "0",
          "nan_count": 0,
          "unique_count": 1
         }
        },
        {
         "dtype": "uint8",
         "name": "Mjob_at_home",
         "stats": {
          "histogram": [
           {
            "bin_end": 0.1,
            "bin_start": 0,
            "count": 2
           },
           {
            "bin_end": 0.2,
            "bin_start": 0.1,
            "count": 0
           },
           {
            "bin_end": 0.30000000000000004,
            "bin_start": 0.2,
            "count": 0
           },
           {
            "bin_end": 0.4,
            "bin_start": 0.30000000000000004,
            "count": 0
           },
           {
            "bin_end": 0.5,
            "bin_start": 0.4,
            "count": 0
           },
           {
            "bin_end": 0.6000000000000001,
            "bin_start": 0.5,
            "count": 0
           },
           {
            "bin_end": 0.7000000000000001,
            "bin_start": 0.6000000000000001,
            "count": 0
           },
           {
            "bin_end": 0.8,
            "bin_start": 0.7000000000000001,
            "count": 0
           },
           {
            "bin_end": 0.9,
            "bin_start": 0.8,
            "count": 0
           },
           {
            "bin_end": 1,
            "bin_start": 0.9,
            "count": 3
           }
          ],
          "max": "1",
          "min": "0",
          "nan_count": 0,
          "unique_count": 2
         }
        },
        {
         "dtype": "uint8",
         "name": "Mjob_health",
         "stats": {
          "histogram": [
           {
            "bin_end": 0.1,
            "bin_start": 0,
            "count": 4
           },
           {
            "bin_end": 0.2,
            "bin_start": 0.1,
            "count": 0
           },
           {
            "bin_end": 0.30000000000000004,
            "bin_start": 0.2,
            "count": 0
           },
           {
            "bin_end": 0.4,
            "bin_start": 0.30000000000000004,
            "count": 0
           },
           {
            "bin_end": 0.5,
            "bin_start": 0.4,
            "count": 0
           },
           {
            "bin_end": 0.6000000000000001,
            "bin_start": 0.5,
            "count": 0
           },
           {
            "bin_end": 0.7000000000000001,
            "bin_start": 0.6000000000000001,
            "count": 0
           },
           {
            "bin_end": 0.8,
            "bin_start": 0.7000000000000001,
            "count": 0
           },
           {
            "bin_end": 0.9,
            "bin_start": 0.8,
            "count": 0
           },
           {
            "bin_end": 1,
            "bin_start": 0.9,
            "count": 1
           }
          ],
          "max": "1",
          "min": "0",
          "nan_count": 0,
          "unique_count": 2
         }
        },
        {
         "dtype": "uint8",
         "name": "Mjob_other",
         "stats": {
          "histogram": [
           {
            "bin_end": 0.1,
            "bin_start": 0,
            "count": 4
           },
           {
            "bin_end": 0.2,
            "bin_start": 0.1,
            "count": 0
           },
           {
            "bin_end": 0.30000000000000004,
            "bin_start": 0.2,
            "count": 0
           },
           {
            "bin_end": 0.4,
            "bin_start": 0.30000000000000004,
            "count": 0
           },
           {
            "bin_end": 0.5,
            "bin_start": 0.4,
            "count": 0
           },
           {
            "bin_end": 0.6000000000000001,
            "bin_start": 0.5,
            "count": 0
           },
           {
            "bin_end": 0.7000000000000001,
            "bin_start": 0.6000000000000001,
            "count": 0
           },
           {
            "bin_end": 0.8,
            "bin_start": 0.7000000000000001,
            "count": 0
           },
           {
            "bin_end": 0.9,
            "bin_start": 0.8,
            "count": 0
           },
           {
            "bin_end": 1,
            "bin_start": 0.9,
            "count": 1
           }
          ],
          "max": "1",
          "min": "0",
          "nan_count": 0,
          "unique_count": 2
         }
        },
        {
         "dtype": "uint8",
         "name": "Mjob_services",
         "stats": {
          "histogram": [
           {
            "bin_end": -0.4,
            "bin_start": -0.5,
            "count": 0
           },
           {
            "bin_end": -0.3,
            "bin_start": -0.4,
            "count": 0
           },
           {
            "bin_end": -0.19999999999999996,
            "bin_start": -0.3,
            "count": 0
           },
           {
            "bin_end": -0.09999999999999998,
            "bin_start": -0.19999999999999996,
            "count": 0
           },
           {
            "bin_end": 0,
            "bin_start": -0.09999999999999998,
            "count": 0
           },
           {
            "bin_end": 0.10000000000000009,
            "bin_start": 0,
            "count": 5
           },
           {
            "bin_end": 0.20000000000000007,
            "bin_start": 0.10000000000000009,
            "count": 0
           },
           {
            "bin_end": 0.30000000000000004,
            "bin_start": 0.20000000000000007,
            "count": 0
           },
           {
            "bin_end": 0.4,
            "bin_start": 0.30000000000000004,
            "count": 0
           },
           {
            "bin_end": 0.5,
            "bin_start": 0.4,
            "count": 0
           }
          ],
          "max": "0",
          "min": "0",
          "nan_count": 0,
          "unique_count": 1
         }
        },
        {
         "dtype": "uint8",
         "name": "Mjob_teacher",
         "stats": {
          "histogram": [
           {
            "bin_end": -0.4,
            "bin_start": -0.5,
            "count": 0
           },
           {
            "bin_end": -0.3,
            "bin_start": -0.4,
            "count": 0
           },
           {
            "bin_end": -0.19999999999999996,
            "bin_start": -0.3,
            "count": 0
           },
           {
            "bin_end": -0.09999999999999998,
            "bin_start": -0.19999999999999996,
            "count": 0
           },
           {
            "bin_end": 0,
            "bin_start": -0.09999999999999998,
            "count": 0
           },
           {
            "bin_end": 0.10000000000000009,
            "bin_start": 0,
            "count": 5
           },
           {
            "bin_end": 0.20000000000000007,
            "bin_start": 0.10000000000000009,
            "count": 0
           },
           {
            "bin_end": 0.30000000000000004,
            "bin_start": 0.20000000000000007,
            "count": 0
           },
           {
            "bin_end": 0.4,
            "bin_start": 0.30000000000000004,
            "count": 0
           },
           {
            "bin_end": 0.5,
            "bin_start": 0.4,
            "count": 0
           }
          ],
          "max": "0",
          "min": "0",
          "nan_count": 0,
          "unique_count": 1
         }
        },
        {
         "dtype": "int64",
         "name": "_deepnote_index_column"
        }
       ],
       "row_count": 5,
       "rows": [
        {
         "Dalc": "1",
         "G3": "6",
         "Medu": "4",
         "Mjob_at_home": "1",
         "Mjob_health": "0",
         "Mjob_other": "0",
         "Mjob_services": "0",
         "Mjob_teacher": "0",
         "Walc": "1",
         "_deepnote_index_column": "0",
         "age": "18",
         "sex_F": "1",
         "sex_M": "0"
        },
        {
         "Dalc": "1",
         "G3": "6",
         "Medu": "1",
         "Mjob_at_home": "1",
         "Mjob_health": "0",
         "Mjob_other": "0",
         "Mjob_services": "0",
         "Mjob_teacher": "0",
         "Walc": "1",
         "_deepnote_index_column": "1",
         "age": "17",
         "sex_F": "1",
         "sex_M": "0"
        },
        {
         "Dalc": "2",
         "G3": "10",
         "Medu": "1",
         "Mjob_at_home": "1",
         "Mjob_health": "0",
         "Mjob_other": "0",
         "Mjob_services": "0",
         "Mjob_teacher": "0",
         "Walc": "3",
         "_deepnote_index_column": "2",
         "age": "15",
         "sex_F": "1",
         "sex_M": "0"
        },
        {
         "Dalc": "1",
         "G3": "15",
         "Medu": "4",
         "Mjob_at_home": "0",
         "Mjob_health": "1",
         "Mjob_other": "0",
         "Mjob_services": "0",
         "Mjob_teacher": "0",
         "Walc": "1",
         "_deepnote_index_column": "3",
         "age": "15",
         "sex_F": "1",
         "sex_M": "0"
        },
        {
         "Dalc": "1",
         "G3": "10",
         "Medu": "3",
         "Mjob_at_home": "0",
         "Mjob_health": "0",
         "Mjob_other": "1",
         "Mjob_services": "0",
         "Mjob_teacher": "0",
         "Walc": "2",
         "_deepnote_index_column": "4",
         "age": "16",
         "sex_F": "1",
         "sex_M": "0"
        }
       ]
      },
      "text/html": [
       "<div>\n",
       "<style scoped>\n",
       "    .dataframe tbody tr th:only-of-type {\n",
       "        vertical-align: middle;\n",
       "    }\n",
       "\n",
       "    .dataframe tbody tr th {\n",
       "        vertical-align: top;\n",
       "    }\n",
       "\n",
       "    .dataframe thead th {\n",
       "        text-align: right;\n",
       "    }\n",
       "</style>\n",
       "<table border=\"1\" class=\"dataframe\">\n",
       "  <thead>\n",
       "    <tr style=\"text-align: right;\">\n",
       "      <th></th>\n",
       "      <th>age</th>\n",
       "      <th>Medu</th>\n",
       "      <th>Dalc</th>\n",
       "      <th>Walc</th>\n",
       "      <th>G3</th>\n",
       "      <th>sex_F</th>\n",
       "      <th>sex_M</th>\n",
       "      <th>Mjob_at_home</th>\n",
       "      <th>Mjob_health</th>\n",
       "      <th>Mjob_other</th>\n",
       "      <th>Mjob_services</th>\n",
       "      <th>Mjob_teacher</th>\n",
       "    </tr>\n",
       "  </thead>\n",
       "  <tbody>\n",
       "    <tr>\n",
       "      <th>0</th>\n",
       "      <td>18</td>\n",
       "      <td>4</td>\n",
       "      <td>1</td>\n",
       "      <td>1</td>\n",
       "      <td>6</td>\n",
       "      <td>1</td>\n",
       "      <td>0</td>\n",
       "      <td>1</td>\n",
       "      <td>0</td>\n",
       "      <td>0</td>\n",
       "      <td>0</td>\n",
       "      <td>0</td>\n",
       "    </tr>\n",
       "    <tr>\n",
       "      <th>1</th>\n",
       "      <td>17</td>\n",
       "      <td>1</td>\n",
       "      <td>1</td>\n",
       "      <td>1</td>\n",
       "      <td>6</td>\n",
       "      <td>1</td>\n",
       "      <td>0</td>\n",
       "      <td>1</td>\n",
       "      <td>0</td>\n",
       "      <td>0</td>\n",
       "      <td>0</td>\n",
       "      <td>0</td>\n",
       "    </tr>\n",
       "    <tr>\n",
       "      <th>2</th>\n",
       "      <td>15</td>\n",
       "      <td>1</td>\n",
       "      <td>2</td>\n",
       "      <td>3</td>\n",
       "      <td>10</td>\n",
       "      <td>1</td>\n",
       "      <td>0</td>\n",
       "      <td>1</td>\n",
       "      <td>0</td>\n",
       "      <td>0</td>\n",
       "      <td>0</td>\n",
       "      <td>0</td>\n",
       "    </tr>\n",
       "    <tr>\n",
       "      <th>3</th>\n",
       "      <td>15</td>\n",
       "      <td>4</td>\n",
       "      <td>1</td>\n",
       "      <td>1</td>\n",
       "      <td>15</td>\n",
       "      <td>1</td>\n",
       "      <td>0</td>\n",
       "      <td>0</td>\n",
       "      <td>1</td>\n",
       "      <td>0</td>\n",
       "      <td>0</td>\n",
       "      <td>0</td>\n",
       "    </tr>\n",
       "    <tr>\n",
       "      <th>4</th>\n",
       "      <td>16</td>\n",
       "      <td>3</td>\n",
       "      <td>1</td>\n",
       "      <td>2</td>\n",
       "      <td>10</td>\n",
       "      <td>1</td>\n",
       "      <td>0</td>\n",
       "      <td>0</td>\n",
       "      <td>0</td>\n",
       "      <td>1</td>\n",
       "      <td>0</td>\n",
       "      <td>0</td>\n",
       "    </tr>\n",
       "  </tbody>\n",
       "</table>\n",
       "</div>"
      ],
      "text/plain": [
       "   age  Medu  Dalc  Walc  G3  sex_F  sex_M  Mjob_at_home  Mjob_health  \\\n",
       "0   18     4     1     1   6      1      0             1            0   \n",
       "1   17     1     1     1   6      1      0             1            0   \n",
       "2   15     1     2     3  10      1      0             1            0   \n",
       "3   15     4     1     1  15      1      0             0            1   \n",
       "4   16     3     1     2  10      1      0             0            0   \n",
       "\n",
       "   Mjob_other  Mjob_services  Mjob_teacher  \n",
       "0           0              0             0  \n",
       "1           0              0             0  \n",
       "2           0              0             0  \n",
       "3           0              0             0  \n",
       "4           1              0             0  "
      ]
     },
     "execution_count": 6,
     "metadata": {},
     "output_type": "execute_result"
    }
   ],
   "source": [
    "not_recommended = pd.get_dummies(data)\n",
    "not_recommended.head()"
   ]
  },
  {
   "cell_type": "markdown",
   "metadata": {
    "cell_id": "74fbc512a6254b9bb9598e9d3938119f",
    "deepnote_cell_type": "markdown",
    "tags": []
   },
   "source": [
    "If you review the output above you will see that only columns with type 'Object' have been one hot encoded (sex and MJob). Any integer datatype columns have been ignored, which in our case is not ideal.\n",
    "\n",
    "However, you can specify the columns you wish to encode as follows:"
   ]
  },
  {
   "cell_type": "code",
   "execution_count": 7,
   "metadata": {
    "allow_embed": "code_output",
    "cell_id": "7b13f66914c649c8904e19a9e9907c9f",
    "deepnote_cell_type": "code",
    "deepnote_to_be_reexecuted": false,
    "execution_millis": 5,
    "execution_start": 1666781680149,
    "id": "mBoQ5feWZFIX",
    "source_hash": "e4a6dbef"
   },
   "outputs": [
    {
     "data": {
      "application/vnd.deepnote.dataframe.v3+json": {
       "column_count": 16,
       "columns": [
        {
         "dtype": "int64",
         "name": "age",
         "stats": {
          "histogram": [
           {
            "bin_end": 15.3,
            "bin_start": 15,
            "count": 2
           },
           {
            "bin_end": 15.6,
            "bin_start": 15.3,
            "count": 0
           },
           {
            "bin_end": 15.9,
            "bin_start": 15.6,
            "count": 0
           },
           {
            "bin_end": 16.2,
            "bin_start": 15.9,
            "count": 1
           },
           {
            "bin_end": 16.5,
            "bin_start": 16.2,
            "count": 0
           },
           {
            "bin_end": 16.8,
            "bin_start": 16.5,
            "count": 0
           },
           {
            "bin_end": 17.1,
            "bin_start": 16.8,
            "count": 1
           },
           {
            "bin_end": 17.4,
            "bin_start": 17.1,
            "count": 0
           },
           {
            "bin_end": 17.7,
            "bin_start": 17.4,
            "count": 0
           },
           {
            "bin_end": 18,
            "bin_start": 17.7,
            "count": 1
           }
          ],
          "max": "18",
          "min": "15",
          "nan_count": 0,
          "unique_count": 4
         }
        },
        {
         "dtype": "int64",
         "name": "Dalc",
         "stats": {
          "histogram": [
           {
            "bin_end": 1.1,
            "bin_start": 1,
            "count": 4
           },
           {
            "bin_end": 1.2,
            "bin_start": 1.1,
            "count": 0
           },
           {
            "bin_end": 1.3,
            "bin_start": 1.2,
            "count": 0
           },
           {
            "bin_end": 1.4,
            "bin_start": 1.3,
            "count": 0
           },
           {
            "bin_end": 1.5,
            "bin_start": 1.4,
            "count": 0
           },
           {
            "bin_end": 1.6,
            "bin_start": 1.5,
            "count": 0
           },
           {
            "bin_end": 1.7000000000000002,
            "bin_start": 1.6,
            "count": 0
           },
           {
            "bin_end": 1.8,
            "bin_start": 1.7000000000000002,
            "count": 0
           },
           {
            "bin_end": 1.9,
            "bin_start": 1.8,
            "count": 0
           },
           {
            "bin_end": 2,
            "bin_start": 1.9,
            "count": 1
           }
          ],
          "max": "2",
          "min": "1",
          "nan_count": 0,
          "unique_count": 2
         }
        },
        {
         "dtype": "int64",
         "name": "Walc",
         "stats": {
          "histogram": [
           {
            "bin_end": 1.2,
            "bin_start": 1,
            "count": 3
           },
           {
            "bin_end": 1.4,
            "bin_start": 1.2,
            "count": 0
           },
           {
            "bin_end": 1.6,
            "bin_start": 1.4,
            "count": 0
           },
           {
            "bin_end": 1.8,
            "bin_start": 1.6,
            "count": 0
           },
           {
            "bin_end": 2,
            "bin_start": 1.8,
            "count": 0
           },
           {
            "bin_end": 2.2,
            "bin_start": 2,
            "count": 1
           },
           {
            "bin_end": 2.4000000000000004,
            "bin_start": 2.2,
            "count": 0
           },
           {
            "bin_end": 2.6,
            "bin_start": 2.4000000000000004,
            "count": 0
           },
           {
            "bin_end": 2.8,
            "bin_start": 2.6,
            "count": 0
           },
           {
            "bin_end": 3,
            "bin_start": 2.8,
            "count": 1
           }
          ],
          "max": "3",
          "min": "1",
          "nan_count": 0,
          "unique_count": 3
         }
        },
        {
         "dtype": "int64",
         "name": "G3",
         "stats": {
          "histogram": [
           {
            "bin_end": 6.9,
            "bin_start": 6,
            "count": 2
           },
           {
            "bin_end": 7.8,
            "bin_start": 6.9,
            "count": 0
           },
           {
            "bin_end": 8.7,
            "bin_start": 7.8,
            "count": 0
           },
           {
            "bin_end": 9.6,
            "bin_start": 8.7,
            "count": 0
           },
           {
            "bin_end": 10.5,
            "bin_start": 9.6,
            "count": 2
           },
           {
            "bin_end": 11.4,
            "bin_start": 10.5,
            "count": 0
           },
           {
            "bin_end": 12.3,
            "bin_start": 11.4,
            "count": 0
           },
           {
            "bin_end": 13.2,
            "bin_start": 12.3,
            "count": 0
           },
           {
            "bin_end": 14.1,
            "bin_start": 13.2,
            "count": 0
           },
           {
            "bin_end": 15,
            "bin_start": 14.1,
            "count": 1
           }
          ],
          "max": "15",
          "min": "6",
          "nan_count": 0,
          "unique_count": 3
         }
        },
        {
         "dtype": "uint8",
         "name": "sex_F",
         "stats": {
          "histogram": [
           {
            "bin_end": 0.6,
            "bin_start": 0.5,
            "count": 0
           },
           {
            "bin_end": 0.7,
            "bin_start": 0.6,
            "count": 0
           },
           {
            "bin_end": 0.8,
            "bin_start": 0.7,
            "count": 0
           },
           {
            "bin_end": 0.9,
            "bin_start": 0.8,
            "count": 0
           },
           {
            "bin_end": 1,
            "bin_start": 0.9,
            "count": 0
           },
           {
            "bin_end": 1.1,
            "bin_start": 1,
            "count": 5
           },
           {
            "bin_end": 1.2000000000000002,
            "bin_start": 1.1,
            "count": 0
           },
           {
            "bin_end": 1.3,
            "bin_start": 1.2000000000000002,
            "count": 0
           },
           {
            "bin_end": 1.4,
            "bin_start": 1.3,
            "count": 0
           },
           {
            "bin_end": 1.5,
            "bin_start": 1.4,
            "count": 0
           }
          ],
          "max": "1",
          "min": "1",
          "nan_count": 0,
          "unique_count": 1
         }
        },
        {
         "dtype": "uint8",
         "name": "sex_M",
         "stats": {
          "histogram": [
           {
            "bin_end": -0.4,
            "bin_start": -0.5,
            "count": 0
           },
           {
            "bin_end": -0.3,
            "bin_start": -0.4,
            "count": 0
           },
           {
            "bin_end": -0.19999999999999996,
            "bin_start": -0.3,
            "count": 0
           },
           {
            "bin_end": -0.09999999999999998,
            "bin_start": -0.19999999999999996,
            "count": 0
           },
           {
            "bin_end": 0,
            "bin_start": -0.09999999999999998,
            "count": 0
           },
           {
            "bin_end": 0.10000000000000009,
            "bin_start": 0,
            "count": 5
           },
           {
            "bin_end": 0.20000000000000007,
            "bin_start": 0.10000000000000009,
            "count": 0
           },
           {
            "bin_end": 0.30000000000000004,
            "bin_start": 0.20000000000000007,
            "count": 0
           },
           {
            "bin_end": 0.4,
            "bin_start": 0.30000000000000004,
            "count": 0
           },
           {
            "bin_end": 0.5,
            "bin_start": 0.4,
            "count": 0
           }
          ],
          "max": "0",
          "min": "0",
          "nan_count": 0,
          "unique_count": 1
         }
        },
        {
         "dtype": "uint8",
         "name": "Medu_0",
         "stats": {
          "histogram": [
           {
            "bin_end": -0.4,
            "bin_start": -0.5,
            "count": 0
           },
           {
            "bin_end": -0.3,
            "bin_start": -0.4,
            "count": 0
           },
           {
            "bin_end": -0.19999999999999996,
            "bin_start": -0.3,
            "count": 0
           },
           {
            "bin_end": -0.09999999999999998,
            "bin_start": -0.19999999999999996,
            "count": 0
           },
           {
            "bin_end": 0,
            "bin_start": -0.09999999999999998,
            "count": 0
           },
           {
            "bin_end": 0.10000000000000009,
            "bin_start": 0,
            "count": 5
           },
           {
            "bin_end": 0.20000000000000007,
            "bin_start": 0.10000000000000009,
            "count": 0
           },
           {
            "bin_end": 0.30000000000000004,
            "bin_start": 0.20000000000000007,
            "count": 0
           },
           {
            "bin_end": 0.4,
            "bin_start": 0.30000000000000004,
            "count": 0
           },
           {
            "bin_end": 0.5,
            "bin_start": 0.4,
            "count": 0
           }
          ],
          "max": "0",
          "min": "0",
          "nan_count": 0,
          "unique_count": 1
         }
        },
        {
         "dtype": "uint8",
         "name": "Medu_1",
         "stats": {
          "histogram": [
           {
            "bin_end": 0.1,
            "bin_start": 0,
            "count": 3
           },
           {
            "bin_end": 0.2,
            "bin_start": 0.1,
            "count": 0
           },
           {
            "bin_end": 0.30000000000000004,
            "bin_start": 0.2,
            "count": 0
           },
           {
            "bin_end": 0.4,
            "bin_start": 0.30000000000000004,
            "count": 0
           },
           {
            "bin_end": 0.5,
            "bin_start": 0.4,
            "count": 0
           },
           {
            "bin_end": 0.6000000000000001,
            "bin_start": 0.5,
            "count": 0
           },
           {
            "bin_end": 0.7000000000000001,
            "bin_start": 0.6000000000000001,
            "count": 0
           },
           {
            "bin_end": 0.8,
            "bin_start": 0.7000000000000001,
            "count": 0
           },
           {
            "bin_end": 0.9,
            "bin_start": 0.8,
            "count": 0
           },
           {
            "bin_end": 1,
            "bin_start": 0.9,
            "count": 2
           }
          ],
          "max": "1",
          "min": "0",
          "nan_count": 0,
          "unique_count": 2
         }
        },
        {
         "dtype": "uint8",
         "name": "Medu_2",
         "stats": {
          "histogram": [
           {
            "bin_end": -0.4,
            "bin_start": -0.5,
            "count": 0
           },
           {
            "bin_end": -0.3,
            "bin_start": -0.4,
            "count": 0
           },
           {
            "bin_end": -0.19999999999999996,
            "bin_start": -0.3,
            "count": 0
           },
           {
            "bin_end": -0.09999999999999998,
            "bin_start": -0.19999999999999996,
            "count": 0
           },
           {
            "bin_end": 0,
            "bin_start": -0.09999999999999998,
            "count": 0
           },
           {
            "bin_end": 0.10000000000000009,
            "bin_start": 0,
            "count": 5
           },
           {
            "bin_end": 0.20000000000000007,
            "bin_start": 0.10000000000000009,
            "count": 0
           },
           {
            "bin_end": 0.30000000000000004,
            "bin_start": 0.20000000000000007,
            "count": 0
           },
           {
            "bin_end": 0.4,
            "bin_start": 0.30000000000000004,
            "count": 0
           },
           {
            "bin_end": 0.5,
            "bin_start": 0.4,
            "count": 0
           }
          ],
          "max": "0",
          "min": "0",
          "nan_count": 0,
          "unique_count": 1
         }
        },
        {
         "dtype": "uint8",
         "name": "Medu_3",
         "stats": {
          "histogram": [
           {
            "bin_end": 0.1,
            "bin_start": 0,
            "count": 4
           },
           {
            "bin_end": 0.2,
            "bin_start": 0.1,
            "count": 0
           },
           {
            "bin_end": 0.30000000000000004,
            "bin_start": 0.2,
            "count": 0
           },
           {
            "bin_end": 0.4,
            "bin_start": 0.30000000000000004,
            "count": 0
           },
           {
            "bin_end": 0.5,
            "bin_start": 0.4,
            "count": 0
           },
           {
            "bin_end": 0.6000000000000001,
            "bin_start": 0.5,
            "count": 0
           },
           {
            "bin_end": 0.7000000000000001,
            "bin_start": 0.6000000000000001,
            "count": 0
           },
           {
            "bin_end": 0.8,
            "bin_start": 0.7000000000000001,
            "count": 0
           },
           {
            "bin_end": 0.9,
            "bin_start": 0.8,
            "count": 0
           },
           {
            "bin_end": 1,
            "bin_start": 0.9,
            "count": 1
           }
          ],
          "max": "1",
          "min": "0",
          "nan_count": 0,
          "unique_count": 2
         }
        },
        {
         "dtype": "uint8",
         "name": "Medu_4",
         "stats": {
          "histogram": [
           {
            "bin_end": 0.1,
            "bin_start": 0,
            "count": 3
           },
           {
            "bin_end": 0.2,
            "bin_start": 0.1,
            "count": 0
           },
           {
            "bin_end": 0.30000000000000004,
            "bin_start": 0.2,
            "count": 0
           },
           {
            "bin_end": 0.4,
            "bin_start": 0.30000000000000004,
            "count": 0
           },
           {
            "bin_end": 0.5,
            "bin_start": 0.4,
            "count": 0
           },
           {
            "bin_end": 0.6000000000000001,
            "bin_start": 0.5,
            "count": 0
           },
           {
            "bin_end": 0.7000000000000001,
            "bin_start": 0.6000000000000001,
            "count": 0
           },
           {
            "bin_end": 0.8,
            "bin_start": 0.7000000000000001,
            "count": 0
           },
           {
            "bin_end": 0.9,
            "bin_start": 0.8,
            "count": 0
           },
           {
            "bin_end": 1,
            "bin_start": 0.9,
            "count": 2
           }
          ],
          "max": "1",
          "min": "0",
          "nan_count": 0,
          "unique_count": 2
         }
        },
        {
         "dtype": "uint8",
         "name": "Mjob_at_home",
         "stats": {
          "histogram": [
           {
            "bin_end": 0.1,
            "bin_start": 0,
            "count": 2
           },
           {
            "bin_end": 0.2,
            "bin_start": 0.1,
            "count": 0
           },
           {
            "bin_end": 0.30000000000000004,
            "bin_start": 0.2,
            "count": 0
           },
           {
            "bin_end": 0.4,
            "bin_start": 0.30000000000000004,
            "count": 0
           },
           {
            "bin_end": 0.5,
            "bin_start": 0.4,
            "count": 0
           },
           {
            "bin_end": 0.6000000000000001,
            "bin_start": 0.5,
            "count": 0
           },
           {
            "bin_end": 0.7000000000000001,
            "bin_start": 0.6000000000000001,
            "count": 0
           },
           {
            "bin_end": 0.8,
            "bin_start": 0.7000000000000001,
            "count": 0
           },
           {
            "bin_end": 0.9,
            "bin_start": 0.8,
            "count": 0
           },
           {
            "bin_end": 1,
            "bin_start": 0.9,
            "count": 3
           }
          ],
          "max": "1",
          "min": "0",
          "nan_count": 0,
          "unique_count": 2
         }
        },
        {
         "dtype": "uint8",
         "name": "Mjob_health",
         "stats": {
          "histogram": [
           {
            "bin_end": 0.1,
            "bin_start": 0,
            "count": 4
           },
           {
            "bin_end": 0.2,
            "bin_start": 0.1,
            "count": 0
           },
           {
            "bin_end": 0.30000000000000004,
            "bin_start": 0.2,
            "count": 0
           },
           {
            "bin_end": 0.4,
            "bin_start": 0.30000000000000004,
            "count": 0
           },
           {
            "bin_end": 0.5,
            "bin_start": 0.4,
            "count": 0
           },
           {
            "bin_end": 0.6000000000000001,
            "bin_start": 0.5,
            "count": 0
           },
           {
            "bin_end": 0.7000000000000001,
            "bin_start": 0.6000000000000001,
            "count": 0
           },
           {
            "bin_end": 0.8,
            "bin_start": 0.7000000000000001,
            "count": 0
           },
           {
            "bin_end": 0.9,
            "bin_start": 0.8,
            "count": 0
           },
           {
            "bin_end": 1,
            "bin_start": 0.9,
            "count": 1
           }
          ],
          "max": "1",
          "min": "0",
          "nan_count": 0,
          "unique_count": 2
         }
        },
        {
         "dtype": "uint8",
         "name": "Mjob_other",
         "stats": {
          "histogram": [
           {
            "bin_end": 0.1,
            "bin_start": 0,
            "count": 4
           },
           {
            "bin_end": 0.2,
            "bin_start": 0.1,
            "count": 0
           },
           {
            "bin_end": 0.30000000000000004,
            "bin_start": 0.2,
            "count": 0
           },
           {
            "bin_end": 0.4,
            "bin_start": 0.30000000000000004,
            "count": 0
           },
           {
            "bin_end": 0.5,
            "bin_start": 0.4,
            "count": 0
           },
           {
            "bin_end": 0.6000000000000001,
            "bin_start": 0.5,
            "count": 0
           },
           {
            "bin_end": 0.7000000000000001,
            "bin_start": 0.6000000000000001,
            "count": 0
           },
           {
            "bin_end": 0.8,
            "bin_start": 0.7000000000000001,
            "count": 0
           },
           {
            "bin_end": 0.9,
            "bin_start": 0.8,
            "count": 0
           },
           {
            "bin_end": 1,
            "bin_start": 0.9,
            "count": 1
           }
          ],
          "max": "1",
          "min": "0",
          "nan_count": 0,
          "unique_count": 2
         }
        },
        {
         "dtype": "uint8",
         "name": "Mjob_services",
         "stats": {
          "histogram": [
           {
            "bin_end": -0.4,
            "bin_start": -0.5,
            "count": 0
           },
           {
            "bin_end": -0.3,
            "bin_start": -0.4,
            "count": 0
           },
           {
            "bin_end": -0.19999999999999996,
            "bin_start": -0.3,
            "count": 0
           },
           {
            "bin_end": -0.09999999999999998,
            "bin_start": -0.19999999999999996,
            "count": 0
           },
           {
            "bin_end": 0,
            "bin_start": -0.09999999999999998,
            "count": 0
           },
           {
            "bin_end": 0.10000000000000009,
            "bin_start": 0,
            "count": 5
           },
           {
            "bin_end": 0.20000000000000007,
            "bin_start": 0.10000000000000009,
            "count": 0
           },
           {
            "bin_end": 0.30000000000000004,
            "bin_start": 0.20000000000000007,
            "count": 0
           },
           {
            "bin_end": 0.4,
            "bin_start": 0.30000000000000004,
            "count": 0
           },
           {
            "bin_end": 0.5,
            "bin_start": 0.4,
            "count": 0
           }
          ],
          "max": "0",
          "min": "0",
          "nan_count": 0,
          "unique_count": 1
         }
        },
        {
         "dtype": "uint8",
         "name": "Mjob_teacher",
         "stats": {
          "histogram": [
           {
            "bin_end": -0.4,
            "bin_start": -0.5,
            "count": 0
           },
           {
            "bin_end": -0.3,
            "bin_start": -0.4,
            "count": 0
           },
           {
            "bin_end": -0.19999999999999996,
            "bin_start": -0.3,
            "count": 0
           },
           {
            "bin_end": -0.09999999999999998,
            "bin_start": -0.19999999999999996,
            "count": 0
           },
           {
            "bin_end": 0,
            "bin_start": -0.09999999999999998,
            "count": 0
           },
           {
            "bin_end": 0.10000000000000009,
            "bin_start": 0,
            "count": 5
           },
           {
            "bin_end": 0.20000000000000007,
            "bin_start": 0.10000000000000009,
            "count": 0
           },
           {
            "bin_end": 0.30000000000000004,
            "bin_start": 0.20000000000000007,
            "count": 0
           },
           {
            "bin_end": 0.4,
            "bin_start": 0.30000000000000004,
            "count": 0
           },
           {
            "bin_end": 0.5,
            "bin_start": 0.4,
            "count": 0
           }
          ],
          "max": "0",
          "min": "0",
          "nan_count": 0,
          "unique_count": 1
         }
        },
        {
         "dtype": "int64",
         "name": "_deepnote_index_column"
        }
       ],
       "row_count": 5,
       "rows": [
        {
         "Dalc": "1",
         "G3": "6",
         "Medu_0": "0",
         "Medu_1": "0",
         "Medu_2": "0",
         "Medu_3": "0",
         "Medu_4": "1",
         "Mjob_at_home": "1",
         "Mjob_health": "0",
         "Mjob_other": "0",
         "Mjob_services": "0",
         "Mjob_teacher": "0",
         "Walc": "1",
         "_deepnote_index_column": "0",
         "age": "18",
         "sex_F": "1",
         "sex_M": "0"
        },
        {
         "Dalc": "1",
         "G3": "6",
         "Medu_0": "0",
         "Medu_1": "1",
         "Medu_2": "0",
         "Medu_3": "0",
         "Medu_4": "0",
         "Mjob_at_home": "1",
         "Mjob_health": "0",
         "Mjob_other": "0",
         "Mjob_services": "0",
         "Mjob_teacher": "0",
         "Walc": "1",
         "_deepnote_index_column": "1",
         "age": "17",
         "sex_F": "1",
         "sex_M": "0"
        },
        {
         "Dalc": "2",
         "G3": "10",
         "Medu_0": "0",
         "Medu_1": "1",
         "Medu_2": "0",
         "Medu_3": "0",
         "Medu_4": "0",
         "Mjob_at_home": "1",
         "Mjob_health": "0",
         "Mjob_other": "0",
         "Mjob_services": "0",
         "Mjob_teacher": "0",
         "Walc": "3",
         "_deepnote_index_column": "2",
         "age": "15",
         "sex_F": "1",
         "sex_M": "0"
        },
        {
         "Dalc": "1",
         "G3": "15",
         "Medu_0": "0",
         "Medu_1": "0",
         "Medu_2": "0",
         "Medu_3": "0",
         "Medu_4": "1",
         "Mjob_at_home": "0",
         "Mjob_health": "1",
         "Mjob_other": "0",
         "Mjob_services": "0",
         "Mjob_teacher": "0",
         "Walc": "1",
         "_deepnote_index_column": "3",
         "age": "15",
         "sex_F": "1",
         "sex_M": "0"
        },
        {
         "Dalc": "1",
         "G3": "10",
         "Medu_0": "0",
         "Medu_1": "0",
         "Medu_2": "0",
         "Medu_3": "1",
         "Medu_4": "0",
         "Mjob_at_home": "0",
         "Mjob_health": "0",
         "Mjob_other": "1",
         "Mjob_services": "0",
         "Mjob_teacher": "0",
         "Walc": "2",
         "_deepnote_index_column": "4",
         "age": "16",
         "sex_F": "1",
         "sex_M": "0"
        }
       ]
      },
      "text/html": [
       "<div>\n",
       "<style scoped>\n",
       "    .dataframe tbody tr th:only-of-type {\n",
       "        vertical-align: middle;\n",
       "    }\n",
       "\n",
       "    .dataframe tbody tr th {\n",
       "        vertical-align: top;\n",
       "    }\n",
       "\n",
       "    .dataframe thead th {\n",
       "        text-align: right;\n",
       "    }\n",
       "</style>\n",
       "<table border=\"1\" class=\"dataframe\">\n",
       "  <thead>\n",
       "    <tr style=\"text-align: right;\">\n",
       "      <th></th>\n",
       "      <th>age</th>\n",
       "      <th>Dalc</th>\n",
       "      <th>Walc</th>\n",
       "      <th>G3</th>\n",
       "      <th>sex_F</th>\n",
       "      <th>sex_M</th>\n",
       "      <th>Medu_0</th>\n",
       "      <th>Medu_1</th>\n",
       "      <th>Medu_2</th>\n",
       "      <th>Medu_3</th>\n",
       "      <th>Medu_4</th>\n",
       "      <th>Mjob_at_home</th>\n",
       "      <th>Mjob_health</th>\n",
       "      <th>Mjob_other</th>\n",
       "      <th>Mjob_services</th>\n",
       "      <th>Mjob_teacher</th>\n",
       "    </tr>\n",
       "  </thead>\n",
       "  <tbody>\n",
       "    <tr>\n",
       "      <th>0</th>\n",
       "      <td>18</td>\n",
       "      <td>1</td>\n",
       "      <td>1</td>\n",
       "      <td>6</td>\n",
       "      <td>1</td>\n",
       "      <td>0</td>\n",
       "      <td>0</td>\n",
       "      <td>0</td>\n",
       "      <td>0</td>\n",
       "      <td>0</td>\n",
       "      <td>1</td>\n",
       "      <td>1</td>\n",
       "      <td>0</td>\n",
       "      <td>0</td>\n",
       "      <td>0</td>\n",
       "      <td>0</td>\n",
       "    </tr>\n",
       "    <tr>\n",
       "      <th>1</th>\n",
       "      <td>17</td>\n",
       "      <td>1</td>\n",
       "      <td>1</td>\n",
       "      <td>6</td>\n",
       "      <td>1</td>\n",
       "      <td>0</td>\n",
       "      <td>0</td>\n",
       "      <td>1</td>\n",
       "      <td>0</td>\n",
       "      <td>0</td>\n",
       "      <td>0</td>\n",
       "      <td>1</td>\n",
       "      <td>0</td>\n",
       "      <td>0</td>\n",
       "      <td>0</td>\n",
       "      <td>0</td>\n",
       "    </tr>\n",
       "    <tr>\n",
       "      <th>2</th>\n",
       "      <td>15</td>\n",
       "      <td>2</td>\n",
       "      <td>3</td>\n",
       "      <td>10</td>\n",
       "      <td>1</td>\n",
       "      <td>0</td>\n",
       "      <td>0</td>\n",
       "      <td>1</td>\n",
       "      <td>0</td>\n",
       "      <td>0</td>\n",
       "      <td>0</td>\n",
       "      <td>1</td>\n",
       "      <td>0</td>\n",
       "      <td>0</td>\n",
       "      <td>0</td>\n",
       "      <td>0</td>\n",
       "    </tr>\n",
       "    <tr>\n",
       "      <th>3</th>\n",
       "      <td>15</td>\n",
       "      <td>1</td>\n",
       "      <td>1</td>\n",
       "      <td>15</td>\n",
       "      <td>1</td>\n",
       "      <td>0</td>\n",
       "      <td>0</td>\n",
       "      <td>0</td>\n",
       "      <td>0</td>\n",
       "      <td>0</td>\n",
       "      <td>1</td>\n",
       "      <td>0</td>\n",
       "      <td>1</td>\n",
       "      <td>0</td>\n",
       "      <td>0</td>\n",
       "      <td>0</td>\n",
       "    </tr>\n",
       "    <tr>\n",
       "      <th>4</th>\n",
       "      <td>16</td>\n",
       "      <td>1</td>\n",
       "      <td>2</td>\n",
       "      <td>10</td>\n",
       "      <td>1</td>\n",
       "      <td>0</td>\n",
       "      <td>0</td>\n",
       "      <td>0</td>\n",
       "      <td>0</td>\n",
       "      <td>1</td>\n",
       "      <td>0</td>\n",
       "      <td>0</td>\n",
       "      <td>0</td>\n",
       "      <td>1</td>\n",
       "      <td>0</td>\n",
       "      <td>0</td>\n",
       "    </tr>\n",
       "  </tbody>\n",
       "</table>\n",
       "</div>"
      ],
      "text/plain": [
       "   age  Dalc  Walc  G3  sex_F  sex_M  Medu_0  Medu_1  Medu_2  Medu_3  Medu_4  \\\n",
       "0   18     1     1   6      1      0       0       0       0       0       1   \n",
       "1   17     1     1   6      1      0       0       1       0       0       0   \n",
       "2   15     2     3  10      1      0       0       1       0       0       0   \n",
       "3   15     1     1  15      1      0       0       0       0       0       1   \n",
       "4   16     1     2  10      1      0       0       0       0       1       0   \n",
       "\n",
       "   Mjob_at_home  Mjob_health  Mjob_other  Mjob_services  Mjob_teacher  \n",
       "0             1            0           0              0             0  \n",
       "1             1            0           0              0             0  \n",
       "2             1            0           0              0             0  \n",
       "3             0            1           0              0             0  \n",
       "4             0            0           1              0             0  "
      ]
     },
     "execution_count": 7,
     "metadata": {},
     "output_type": "execute_result"
    }
   ],
   "source": [
    "pd_data_dum = pd.get_dummies(data, columns=['sex','Medu','Mjob'])\n",
    "pd_data_dum.head()"
   ]
  },
  {
   "cell_type": "markdown",
   "metadata": {
    "cell_id": "05d79c0d0c654f3b9a42a4b559b9500c",
    "deepnote_cell_type": "markdown",
    "tags": []
   },
   "source": [
    "There may be specific circumstances where it is advisable, or useful to drop the first column of each one hot encoded series (for example to avoid multi-colinearity). get_dummies() has this ability built in:"
   ]
  },
  {
   "cell_type": "code",
   "execution_count": 8,
   "metadata": {
    "allow_embed": true,
    "cell_id": "7e4ced3b447c460d886a9627db60214b",
    "deepnote_cell_type": "code",
    "deepnote_to_be_reexecuted": false,
    "execution_millis": 43,
    "execution_start": 1666781682281,
    "id": "OAUutUgLZm-V",
    "source_hash": "56837502"
   },
   "outputs": [
    {
     "data": {
      "application/vnd.deepnote.dataframe.v3+json": {
       "column_count": 13,
       "columns": [
        {
         "dtype": "int64",
         "name": "age",
         "stats": {
          "histogram": [
           {
            "bin_end": 15.3,
            "bin_start": 15,
            "count": 2
           },
           {
            "bin_end": 15.6,
            "bin_start": 15.3,
            "count": 0
           },
           {
            "bin_end": 15.9,
            "bin_start": 15.6,
            "count": 0
           },
           {
            "bin_end": 16.2,
            "bin_start": 15.9,
            "count": 1
           },
           {
            "bin_end": 16.5,
            "bin_start": 16.2,
            "count": 0
           },
           {
            "bin_end": 16.8,
            "bin_start": 16.5,
            "count": 0
           },
           {
            "bin_end": 17.1,
            "bin_start": 16.8,
            "count": 1
           },
           {
            "bin_end": 17.4,
            "bin_start": 17.1,
            "count": 0
           },
           {
            "bin_end": 17.7,
            "bin_start": 17.4,
            "count": 0
           },
           {
            "bin_end": 18,
            "bin_start": 17.7,
            "count": 1
           }
          ],
          "max": "18",
          "min": "15",
          "nan_count": 0,
          "unique_count": 4
         }
        },
        {
         "dtype": "int64",
         "name": "Dalc",
         "stats": {
          "histogram": [
           {
            "bin_end": 1.1,
            "bin_start": 1,
            "count": 4
           },
           {
            "bin_end": 1.2,
            "bin_start": 1.1,
            "count": 0
           },
           {
            "bin_end": 1.3,
            "bin_start": 1.2,
            "count": 0
           },
           {
            "bin_end": 1.4,
            "bin_start": 1.3,
            "count": 0
           },
           {
            "bin_end": 1.5,
            "bin_start": 1.4,
            "count": 0
           },
           {
            "bin_end": 1.6,
            "bin_start": 1.5,
            "count": 0
           },
           {
            "bin_end": 1.7000000000000002,
            "bin_start": 1.6,
            "count": 0
           },
           {
            "bin_end": 1.8,
            "bin_start": 1.7000000000000002,
            "count": 0
           },
           {
            "bin_end": 1.9,
            "bin_start": 1.8,
            "count": 0
           },
           {
            "bin_end": 2,
            "bin_start": 1.9,
            "count": 1
           }
          ],
          "max": "2",
          "min": "1",
          "nan_count": 0,
          "unique_count": 2
         }
        },
        {
         "dtype": "int64",
         "name": "Walc",
         "stats": {
          "histogram": [
           {
            "bin_end": 1.2,
            "bin_start": 1,
            "count": 3
           },
           {
            "bin_end": 1.4,
            "bin_start": 1.2,
            "count": 0
           },
           {
            "bin_end": 1.6,
            "bin_start": 1.4,
            "count": 0
           },
           {
            "bin_end": 1.8,
            "bin_start": 1.6,
            "count": 0
           },
           {
            "bin_end": 2,
            "bin_start": 1.8,
            "count": 0
           },
           {
            "bin_end": 2.2,
            "bin_start": 2,
            "count": 1
           },
           {
            "bin_end": 2.4000000000000004,
            "bin_start": 2.2,
            "count": 0
           },
           {
            "bin_end": 2.6,
            "bin_start": 2.4000000000000004,
            "count": 0
           },
           {
            "bin_end": 2.8,
            "bin_start": 2.6,
            "count": 0
           },
           {
            "bin_end": 3,
            "bin_start": 2.8,
            "count": 1
           }
          ],
          "max": "3",
          "min": "1",
          "nan_count": 0,
          "unique_count": 3
         }
        },
        {
         "dtype": "int64",
         "name": "G3",
         "stats": {
          "histogram": [
           {
            "bin_end": 6.9,
            "bin_start": 6,
            "count": 2
           },
           {
            "bin_end": 7.8,
            "bin_start": 6.9,
            "count": 0
           },
           {
            "bin_end": 8.7,
            "bin_start": 7.8,
            "count": 0
           },
           {
            "bin_end": 9.6,
            "bin_start": 8.7,
            "count": 0
           },
           {
            "bin_end": 10.5,
            "bin_start": 9.6,
            "count": 2
           },
           {
            "bin_end": 11.4,
            "bin_start": 10.5,
            "count": 0
           },
           {
            "bin_end": 12.3,
            "bin_start": 11.4,
            "count": 0
           },
           {
            "bin_end": 13.2,
            "bin_start": 12.3,
            "count": 0
           },
           {
            "bin_end": 14.1,
            "bin_start": 13.2,
            "count": 0
           },
           {
            "bin_end": 15,
            "bin_start": 14.1,
            "count": 1
           }
          ],
          "max": "15",
          "min": "6",
          "nan_count": 0,
          "unique_count": 3
         }
        },
        {
         "dtype": "uint8",
         "name": "sex_M",
         "stats": {
          "histogram": [
           {
            "bin_end": -0.4,
            "bin_start": -0.5,
            "count": 0
           },
           {
            "bin_end": -0.3,
            "bin_start": -0.4,
            "count": 0
           },
           {
            "bin_end": -0.19999999999999996,
            "bin_start": -0.3,
            "count": 0
           },
           {
            "bin_end": -0.09999999999999998,
            "bin_start": -0.19999999999999996,
            "count": 0
           },
           {
            "bin_end": 0,
            "bin_start": -0.09999999999999998,
            "count": 0
           },
           {
            "bin_end": 0.10000000000000009,
            "bin_start": 0,
            "count": 5
           },
           {
            "bin_end": 0.20000000000000007,
            "bin_start": 0.10000000000000009,
            "count": 0
           },
           {
            "bin_end": 0.30000000000000004,
            "bin_start": 0.20000000000000007,
            "count": 0
           },
           {
            "bin_end": 0.4,
            "bin_start": 0.30000000000000004,
            "count": 0
           },
           {
            "bin_end": 0.5,
            "bin_start": 0.4,
            "count": 0
           }
          ],
          "max": "0",
          "min": "0",
          "nan_count": 0,
          "unique_count": 1
         }
        },
        {
         "dtype": "uint8",
         "name": "Medu_1",
         "stats": {
          "histogram": [
           {
            "bin_end": 0.1,
            "bin_start": 0,
            "count": 3
           },
           {
            "bin_end": 0.2,
            "bin_start": 0.1,
            "count": 0
           },
           {
            "bin_end": 0.30000000000000004,
            "bin_start": 0.2,
            "count": 0
           },
           {
            "bin_end": 0.4,
            "bin_start": 0.30000000000000004,
            "count": 0
           },
           {
            "bin_end": 0.5,
            "bin_start": 0.4,
            "count": 0
           },
           {
            "bin_end": 0.6000000000000001,
            "bin_start": 0.5,
            "count": 0
           },
           {
            "bin_end": 0.7000000000000001,
            "bin_start": 0.6000000000000001,
            "count": 0
           },
           {
            "bin_end": 0.8,
            "bin_start": 0.7000000000000001,
            "count": 0
           },
           {
            "bin_end": 0.9,
            "bin_start": 0.8,
            "count": 0
           },
           {
            "bin_end": 1,
            "bin_start": 0.9,
            "count": 2
           }
          ],
          "max": "1",
          "min": "0",
          "nan_count": 0,
          "unique_count": 2
         }
        },
        {
         "dtype": "uint8",
         "name": "Medu_2",
         "stats": {
          "histogram": [
           {
            "bin_end": -0.4,
            "bin_start": -0.5,
            "count": 0
           },
           {
            "bin_end": -0.3,
            "bin_start": -0.4,
            "count": 0
           },
           {
            "bin_end": -0.19999999999999996,
            "bin_start": -0.3,
            "count": 0
           },
           {
            "bin_end": -0.09999999999999998,
            "bin_start": -0.19999999999999996,
            "count": 0
           },
           {
            "bin_end": 0,
            "bin_start": -0.09999999999999998,
            "count": 0
           },
           {
            "bin_end": 0.10000000000000009,
            "bin_start": 0,
            "count": 5
           },
           {
            "bin_end": 0.20000000000000007,
            "bin_start": 0.10000000000000009,
            "count": 0
           },
           {
            "bin_end": 0.30000000000000004,
            "bin_start": 0.20000000000000007,
            "count": 0
           },
           {
            "bin_end": 0.4,
            "bin_start": 0.30000000000000004,
            "count": 0
           },
           {
            "bin_end": 0.5,
            "bin_start": 0.4,
            "count": 0
           }
          ],
          "max": "0",
          "min": "0",
          "nan_count": 0,
          "unique_count": 1
         }
        },
        {
         "dtype": "uint8",
         "name": "Medu_3",
         "stats": {
          "histogram": [
           {
            "bin_end": 0.1,
            "bin_start": 0,
            "count": 4
           },
           {
            "bin_end": 0.2,
            "bin_start": 0.1,
            "count": 0
           },
           {
            "bin_end": 0.30000000000000004,
            "bin_start": 0.2,
            "count": 0
           },
           {
            "bin_end": 0.4,
            "bin_start": 0.30000000000000004,
            "count": 0
           },
           {
            "bin_end": 0.5,
            "bin_start": 0.4,
            "count": 0
           },
           {
            "bin_end": 0.6000000000000001,
            "bin_start": 0.5,
            "count": 0
           },
           {
            "bin_end": 0.7000000000000001,
            "bin_start": 0.6000000000000001,
            "count": 0
           },
           {
            "bin_end": 0.8,
            "bin_start": 0.7000000000000001,
            "count": 0
           },
           {
            "bin_end": 0.9,
            "bin_start": 0.8,
            "count": 0
           },
           {
            "bin_end": 1,
            "bin_start": 0.9,
            "count": 1
           }
          ],
          "max": "1",
          "min": "0",
          "nan_count": 0,
          "unique_count": 2
         }
        },
        {
         "dtype": "uint8",
         "name": "Medu_4",
         "stats": {
          "histogram": [
           {
            "bin_end": 0.1,
            "bin_start": 0,
            "count": 3
           },
           {
            "bin_end": 0.2,
            "bin_start": 0.1,
            "count": 0
           },
           {
            "bin_end": 0.30000000000000004,
            "bin_start": 0.2,
            "count": 0
           },
           {
            "bin_end": 0.4,
            "bin_start": 0.30000000000000004,
            "count": 0
           },
           {
            "bin_end": 0.5,
            "bin_start": 0.4,
            "count": 0
           },
           {
            "bin_end": 0.6000000000000001,
            "bin_start": 0.5,
            "count": 0
           },
           {
            "bin_end": 0.7000000000000001,
            "bin_start": 0.6000000000000001,
            "count": 0
           },
           {
            "bin_end": 0.8,
            "bin_start": 0.7000000000000001,
            "count": 0
           },
           {
            "bin_end": 0.9,
            "bin_start": 0.8,
            "count": 0
           },
           {
            "bin_end": 1,
            "bin_start": 0.9,
            "count": 2
           }
          ],
          "max": "1",
          "min": "0",
          "nan_count": 0,
          "unique_count": 2
         }
        },
        {
         "dtype": "uint8",
         "name": "Mjob_health",
         "stats": {
          "histogram": [
           {
            "bin_end": 0.1,
            "bin_start": 0,
            "count": 4
           },
           {
            "bin_end": 0.2,
            "bin_start": 0.1,
            "count": 0
           },
           {
            "bin_end": 0.30000000000000004,
            "bin_start": 0.2,
            "count": 0
           },
           {
            "bin_end": 0.4,
            "bin_start": 0.30000000000000004,
            "count": 0
           },
           {
            "bin_end": 0.5,
            "bin_start": 0.4,
            "count": 0
           },
           {
            "bin_end": 0.6000000000000001,
            "bin_start": 0.5,
            "count": 0
           },
           {
            "bin_end": 0.7000000000000001,
            "bin_start": 0.6000000000000001,
            "count": 0
           },
           {
            "bin_end": 0.8,
            "bin_start": 0.7000000000000001,
            "count": 0
           },
           {
            "bin_end": 0.9,
            "bin_start": 0.8,
            "count": 0
           },
           {
            "bin_end": 1,
            "bin_start": 0.9,
            "count": 1
           }
          ],
          "max": "1",
          "min": "0",
          "nan_count": 0,
          "unique_count": 2
         }
        },
        {
         "dtype": "uint8",
         "name": "Mjob_other",
         "stats": {
          "histogram": [
           {
            "bin_end": 0.1,
            "bin_start": 0,
            "count": 4
           },
           {
            "bin_end": 0.2,
            "bin_start": 0.1,
            "count": 0
           },
           {
            "bin_end": 0.30000000000000004,
            "bin_start": 0.2,
            "count": 0
           },
           {
            "bin_end": 0.4,
            "bin_start": 0.30000000000000004,
            "count": 0
           },
           {
            "bin_end": 0.5,
            "bin_start": 0.4,
            "count": 0
           },
           {
            "bin_end": 0.6000000000000001,
            "bin_start": 0.5,
            "count": 0
           },
           {
            "bin_end": 0.7000000000000001,
            "bin_start": 0.6000000000000001,
            "count": 0
           },
           {
            "bin_end": 0.8,
            "bin_start": 0.7000000000000001,
            "count": 0
           },
           {
            "bin_end": 0.9,
            "bin_start": 0.8,
            "count": 0
           },
           {
            "bin_end": 1,
            "bin_start": 0.9,
            "count": 1
           }
          ],
          "max": "1",
          "min": "0",
          "nan_count": 0,
          "unique_count": 2
         }
        },
        {
         "dtype": "uint8",
         "name": "Mjob_services",
         "stats": {
          "histogram": [
           {
            "bin_end": -0.4,
            "bin_start": -0.5,
            "count": 0
           },
           {
            "bin_end": -0.3,
            "bin_start": -0.4,
            "count": 0
           },
           {
            "bin_end": -0.19999999999999996,
            "bin_start": -0.3,
            "count": 0
           },
           {
            "bin_end": -0.09999999999999998,
            "bin_start": -0.19999999999999996,
            "count": 0
           },
           {
            "bin_end": 0,
            "bin_start": -0.09999999999999998,
            "count": 0
           },
           {
            "bin_end": 0.10000000000000009,
            "bin_start": 0,
            "count": 5
           },
           {
            "bin_end": 0.20000000000000007,
            "bin_start": 0.10000000000000009,
            "count": 0
           },
           {
            "bin_end": 0.30000000000000004,
            "bin_start": 0.20000000000000007,
            "count": 0
           },
           {
            "bin_end": 0.4,
            "bin_start": 0.30000000000000004,
            "count": 0
           },
           {
            "bin_end": 0.5,
            "bin_start": 0.4,
            "count": 0
           }
          ],
          "max": "0",
          "min": "0",
          "nan_count": 0,
          "unique_count": 1
         }
        },
        {
         "dtype": "uint8",
         "name": "Mjob_teacher",
         "stats": {
          "histogram": [
           {
            "bin_end": -0.4,
            "bin_start": -0.5,
            "count": 0
           },
           {
            "bin_end": -0.3,
            "bin_start": -0.4,
            "count": 0
           },
           {
            "bin_end": -0.19999999999999996,
            "bin_start": -0.3,
            "count": 0
           },
           {
            "bin_end": -0.09999999999999998,
            "bin_start": -0.19999999999999996,
            "count": 0
           },
           {
            "bin_end": 0,
            "bin_start": -0.09999999999999998,
            "count": 0
           },
           {
            "bin_end": 0.10000000000000009,
            "bin_start": 0,
            "count": 5
           },
           {
            "bin_end": 0.20000000000000007,
            "bin_start": 0.10000000000000009,
            "count": 0
           },
           {
            "bin_end": 0.30000000000000004,
            "bin_start": 0.20000000000000007,
            "count": 0
           },
           {
            "bin_end": 0.4,
            "bin_start": 0.30000000000000004,
            "count": 0
           },
           {
            "bin_end": 0.5,
            "bin_start": 0.4,
            "count": 0
           }
          ],
          "max": "0",
          "min": "0",
          "nan_count": 0,
          "unique_count": 1
         }
        },
        {
         "dtype": "int64",
         "name": "_deepnote_index_column"
        }
       ],
       "row_count": 5,
       "rows": [
        {
         "Dalc": "1",
         "G3": "6",
         "Medu_1": "0",
         "Medu_2": "0",
         "Medu_3": "0",
         "Medu_4": "1",
         "Mjob_health": "0",
         "Mjob_other": "0",
         "Mjob_services": "0",
         "Mjob_teacher": "0",
         "Walc": "1",
         "_deepnote_index_column": "0",
         "age": "18",
         "sex_M": "0"
        },
        {
         "Dalc": "1",
         "G3": "6",
         "Medu_1": "1",
         "Medu_2": "0",
         "Medu_3": "0",
         "Medu_4": "0",
         "Mjob_health": "0",
         "Mjob_other": "0",
         "Mjob_services": "0",
         "Mjob_teacher": "0",
         "Walc": "1",
         "_deepnote_index_column": "1",
         "age": "17",
         "sex_M": "0"
        },
        {
         "Dalc": "2",
         "G3": "10",
         "Medu_1": "1",
         "Medu_2": "0",
         "Medu_3": "0",
         "Medu_4": "0",
         "Mjob_health": "0",
         "Mjob_other": "0",
         "Mjob_services": "0",
         "Mjob_teacher": "0",
         "Walc": "3",
         "_deepnote_index_column": "2",
         "age": "15",
         "sex_M": "0"
        },
        {
         "Dalc": "1",
         "G3": "15",
         "Medu_1": "0",
         "Medu_2": "0",
         "Medu_3": "0",
         "Medu_4": "1",
         "Mjob_health": "1",
         "Mjob_other": "0",
         "Mjob_services": "0",
         "Mjob_teacher": "0",
         "Walc": "1",
         "_deepnote_index_column": "3",
         "age": "15",
         "sex_M": "0"
        },
        {
         "Dalc": "1",
         "G3": "10",
         "Medu_1": "0",
         "Medu_2": "0",
         "Medu_3": "1",
         "Medu_4": "0",
         "Mjob_health": "0",
         "Mjob_other": "1",
         "Mjob_services": "0",
         "Mjob_teacher": "0",
         "Walc": "2",
         "_deepnote_index_column": "4",
         "age": "16",
         "sex_M": "0"
        }
       ]
      },
      "text/html": [
       "<div>\n",
       "<style scoped>\n",
       "    .dataframe tbody tr th:only-of-type {\n",
       "        vertical-align: middle;\n",
       "    }\n",
       "\n",
       "    .dataframe tbody tr th {\n",
       "        vertical-align: top;\n",
       "    }\n",
       "\n",
       "    .dataframe thead th {\n",
       "        text-align: right;\n",
       "    }\n",
       "</style>\n",
       "<table border=\"1\" class=\"dataframe\">\n",
       "  <thead>\n",
       "    <tr style=\"text-align: right;\">\n",
       "      <th></th>\n",
       "      <th>age</th>\n",
       "      <th>Dalc</th>\n",
       "      <th>Walc</th>\n",
       "      <th>G3</th>\n",
       "      <th>sex_M</th>\n",
       "      <th>Medu_1</th>\n",
       "      <th>Medu_2</th>\n",
       "      <th>Medu_3</th>\n",
       "      <th>Medu_4</th>\n",
       "      <th>Mjob_health</th>\n",
       "      <th>Mjob_other</th>\n",
       "      <th>Mjob_services</th>\n",
       "      <th>Mjob_teacher</th>\n",
       "    </tr>\n",
       "  </thead>\n",
       "  <tbody>\n",
       "    <tr>\n",
       "      <th>0</th>\n",
       "      <td>18</td>\n",
       "      <td>1</td>\n",
       "      <td>1</td>\n",
       "      <td>6</td>\n",
       "      <td>0</td>\n",
       "      <td>0</td>\n",
       "      <td>0</td>\n",
       "      <td>0</td>\n",
       "      <td>1</td>\n",
       "      <td>0</td>\n",
       "      <td>0</td>\n",
       "      <td>0</td>\n",
       "      <td>0</td>\n",
       "    </tr>\n",
       "    <tr>\n",
       "      <th>1</th>\n",
       "      <td>17</td>\n",
       "      <td>1</td>\n",
       "      <td>1</td>\n",
       "      <td>6</td>\n",
       "      <td>0</td>\n",
       "      <td>1</td>\n",
       "      <td>0</td>\n",
       "      <td>0</td>\n",
       "      <td>0</td>\n",
       "      <td>0</td>\n",
       "      <td>0</td>\n",
       "      <td>0</td>\n",
       "      <td>0</td>\n",
       "    </tr>\n",
       "    <tr>\n",
       "      <th>2</th>\n",
       "      <td>15</td>\n",
       "      <td>2</td>\n",
       "      <td>3</td>\n",
       "      <td>10</td>\n",
       "      <td>0</td>\n",
       "      <td>1</td>\n",
       "      <td>0</td>\n",
       "      <td>0</td>\n",
       "      <td>0</td>\n",
       "      <td>0</td>\n",
       "      <td>0</td>\n",
       "      <td>0</td>\n",
       "      <td>0</td>\n",
       "    </tr>\n",
       "    <tr>\n",
       "      <th>3</th>\n",
       "      <td>15</td>\n",
       "      <td>1</td>\n",
       "      <td>1</td>\n",
       "      <td>15</td>\n",
       "      <td>0</td>\n",
       "      <td>0</td>\n",
       "      <td>0</td>\n",
       "      <td>0</td>\n",
       "      <td>1</td>\n",
       "      <td>1</td>\n",
       "      <td>0</td>\n",
       "      <td>0</td>\n",
       "      <td>0</td>\n",
       "    </tr>\n",
       "    <tr>\n",
       "      <th>4</th>\n",
       "      <td>16</td>\n",
       "      <td>1</td>\n",
       "      <td>2</td>\n",
       "      <td>10</td>\n",
       "      <td>0</td>\n",
       "      <td>0</td>\n",
       "      <td>0</td>\n",
       "      <td>1</td>\n",
       "      <td>0</td>\n",
       "      <td>0</td>\n",
       "      <td>1</td>\n",
       "      <td>0</td>\n",
       "      <td>0</td>\n",
       "    </tr>\n",
       "  </tbody>\n",
       "</table>\n",
       "</div>"
      ],
      "text/plain": [
       "   age  Dalc  Walc  G3  sex_M  Medu_1  Medu_2  Medu_3  Medu_4  Mjob_health  \\\n",
       "0   18     1     1   6      0       0       0       0       1            0   \n",
       "1   17     1     1   6      0       1       0       0       0            0   \n",
       "2   15     2     3  10      0       1       0       0       0            0   \n",
       "3   15     1     1  15      0       0       0       0       1            1   \n",
       "4   16     1     2  10      0       0       0       1       0            0   \n",
       "\n",
       "   Mjob_other  Mjob_services  Mjob_teacher  \n",
       "0           0              0             0  \n",
       "1           0              0             0  \n",
       "2           0              0             0  \n",
       "3           0              0             0  \n",
       "4           1              0             0  "
      ]
     },
     "execution_count": 8,
     "metadata": {},
     "output_type": "execute_result"
    }
   ],
   "source": [
    "pd_data_dum_drop = pd.get_dummies(data, columns=['sex','Medu','Mjob'], drop_first=True)\n",
    "pd_data_dum_drop.head()"
   ]
  },
  {
   "cell_type": "markdown",
   "metadata": {
    "cell_id": "ef830e46e76548dbbc97b96b446c7c06",
    "deepnote_cell_type": "markdown",
    "id": "xdvBDUb_t-Ru"
   },
   "source": [
    "## Reversing get_dummies() with from_dummies()\n",
    "\n",
    "There was until very recently no availble method for reversals from the Pandas library. \n",
    "\n",
    "However, as of Pandas 1.5.0 there is a new method called from_dummies():\n",
    "\n",
    "https://pandas.pydata.org/docs/dev/reference/api/pandas.from_dummies.html\n",
    "\n",
    "```python\n",
    "pandas.from_dummies(data, sep=None, default_category=None)\n",
    "```\n",
    "This allows the reversal to be achieved without writing your own method. It can even handle the reversal of a one hot encoding that utilised 'drop_first' with the use of the 'default_category' parameter as you will see below.\n",
    "\n"
   ]
  },
  {
   "cell_type": "code",
   "execution_count": 9,
   "metadata": {
    "allow_embed": true,
    "cell_id": "cde94bdaa35b444da8e4e09913f92562",
    "deepnote_cell_type": "code",
    "deepnote_to_be_reexecuted": false,
    "execution_millis": 21,
    "execution_start": 1666781682326,
    "source_hash": "e5bafc04",
    "tags": []
   },
   "outputs": [
    {
     "data": {
      "application/vnd.deepnote.dataframe.v3+json": {
       "column_count": 3,
       "columns": [
        {
         "dtype": "object",
         "name": "sex",
         "stats": {
          "categories": [
           {
            "count": 5,
            "name": "F"
           }
          ],
          "nan_count": 0,
          "unique_count": 1
         }
        },
        {
         "dtype": "object",
         "name": "Medu",
         "stats": {
          "categories": [
           {
            "count": 2,
            "name": "4"
           },
           {
            "count": 2,
            "name": "1"
           },
           {
            "count": 1,
            "name": "3"
           }
          ],
          "nan_count": 0,
          "unique_count": 3
         }
        },
        {
         "dtype": "object",
         "name": "Mjob",
         "stats": {
          "categories": [
           {
            "count": 3,
            "name": "at_home"
           },
           {
            "count": 1,
            "name": "health"
           },
           {
            "count": 1,
            "name": "other"
           }
          ],
          "nan_count": 0,
          "unique_count": 3
         }
        },
        {
         "dtype": "int64",
         "name": "_deepnote_index_column"
        }
       ],
       "row_count": 5,
       "rows": [
        {
         "Medu": "4",
         "Mjob": "at_home",
         "_deepnote_index_column": "0",
         "sex": "F"
        },
        {
         "Medu": "1",
         "Mjob": "at_home",
         "_deepnote_index_column": "1",
         "sex": "F"
        },
        {
         "Medu": "1",
         "Mjob": "at_home",
         "_deepnote_index_column": "2",
         "sex": "F"
        },
        {
         "Medu": "4",
         "Mjob": "health",
         "_deepnote_index_column": "3",
         "sex": "F"
        },
        {
         "Medu": "3",
         "Mjob": "other",
         "_deepnote_index_column": "4",
         "sex": "F"
        }
       ]
      },
      "text/html": [
       "<div>\n",
       "<style scoped>\n",
       "    .dataframe tbody tr th:only-of-type {\n",
       "        vertical-align: middle;\n",
       "    }\n",
       "\n",
       "    .dataframe tbody tr th {\n",
       "        vertical-align: top;\n",
       "    }\n",
       "\n",
       "    .dataframe thead th {\n",
       "        text-align: right;\n",
       "    }\n",
       "</style>\n",
       "<table border=\"1\" class=\"dataframe\">\n",
       "  <thead>\n",
       "    <tr style=\"text-align: right;\">\n",
       "      <th></th>\n",
       "      <th>sex</th>\n",
       "      <th>Medu</th>\n",
       "      <th>Mjob</th>\n",
       "    </tr>\n",
       "  </thead>\n",
       "  <tbody>\n",
       "    <tr>\n",
       "      <th>0</th>\n",
       "      <td>F</td>\n",
       "      <td>4</td>\n",
       "      <td>at_home</td>\n",
       "    </tr>\n",
       "    <tr>\n",
       "      <th>1</th>\n",
       "      <td>F</td>\n",
       "      <td>1</td>\n",
       "      <td>at_home</td>\n",
       "    </tr>\n",
       "    <tr>\n",
       "      <th>2</th>\n",
       "      <td>F</td>\n",
       "      <td>1</td>\n",
       "      <td>at_home</td>\n",
       "    </tr>\n",
       "    <tr>\n",
       "      <th>3</th>\n",
       "      <td>F</td>\n",
       "      <td>4</td>\n",
       "      <td>health</td>\n",
       "    </tr>\n",
       "    <tr>\n",
       "      <th>4</th>\n",
       "      <td>F</td>\n",
       "      <td>3</td>\n",
       "      <td>other</td>\n",
       "    </tr>\n",
       "  </tbody>\n",
       "</table>\n",
       "</div>"
      ],
      "text/plain": [
       "  sex Medu     Mjob\n",
       "0   F    4  at_home\n",
       "1   F    1  at_home\n",
       "2   F    1  at_home\n",
       "3   F    4   health\n",
       "4   F    3    other"
      ]
     },
     "execution_count": 9,
     "metadata": {},
     "output_type": "execute_result"
    }
   ],
   "source": [
    "restored_dum = pd.from_dummies(pd_data_dum.iloc[:,4:], sep='_')\n",
    "restored_dum.head()"
   ]
  },
  {
   "cell_type": "markdown",
   "metadata": {
    "cell_id": "c617429e815e4e23888f67d1d00b167c",
    "deepnote_cell_type": "markdown",
    "tags": []
   },
   "source": [
    "You can also do this when you have used 'drop_first' on encoding, but you must specify the dropped item:"
   ]
  },
  {
   "cell_type": "code",
   "execution_count": 10,
   "metadata": {
    "allow_embed": true,
    "cell_id": "b67e5a0843724ca0a3229cc05b2443fa",
    "deepnote_cell_type": "code",
    "deepnote_to_be_reexecuted": false,
    "execution_millis": 35,
    "execution_start": 1666781688571,
    "source_hash": "ba3c24ec",
    "tags": []
   },
   "outputs": [
    {
     "data": {
      "application/vnd.deepnote.dataframe.v3+json": {
       "column_count": 3,
       "columns": [
        {
         "dtype": "object",
         "name": "sex",
         "stats": {
          "categories": [
           {
            "count": 5,
            "name": "F"
           }
          ],
          "nan_count": 0,
          "unique_count": 1
         }
        },
        {
         "dtype": "object",
         "name": "Medu",
         "stats": {
          "categories": [
           {
            "count": 2,
            "name": "4"
           },
           {
            "count": 2,
            "name": "1"
           },
           {
            "count": 1,
            "name": "3"
           }
          ],
          "nan_count": 0,
          "unique_count": 3
         }
        },
        {
         "dtype": "object",
         "name": "Mjob",
         "stats": {
          "categories": [
           {
            "count": 3,
            "name": "at_home"
           },
           {
            "count": 1,
            "name": "health"
           },
           {
            "count": 1,
            "name": "other"
           }
          ],
          "nan_count": 0,
          "unique_count": 3
         }
        },
        {
         "dtype": "int64",
         "name": "_deepnote_index_column"
        }
       ],
       "row_count": 5,
       "rows": [
        {
         "Medu": "4",
         "Mjob": "at_home",
         "_deepnote_index_column": "0",
         "sex": "F"
        },
        {
         "Medu": "1",
         "Mjob": "at_home",
         "_deepnote_index_column": "1",
         "sex": "F"
        },
        {
         "Medu": "1",
         "Mjob": "at_home",
         "_deepnote_index_column": "2",
         "sex": "F"
        },
        {
         "Medu": "4",
         "Mjob": "health",
         "_deepnote_index_column": "3",
         "sex": "F"
        },
        {
         "Medu": "3",
         "Mjob": "other",
         "_deepnote_index_column": "4",
         "sex": "F"
        }
       ]
      },
      "text/html": [
       "<div>\n",
       "<style scoped>\n",
       "    .dataframe tbody tr th:only-of-type {\n",
       "        vertical-align: middle;\n",
       "    }\n",
       "\n",
       "    .dataframe tbody tr th {\n",
       "        vertical-align: top;\n",
       "    }\n",
       "\n",
       "    .dataframe thead th {\n",
       "        text-align: right;\n",
       "    }\n",
       "</style>\n",
       "<table border=\"1\" class=\"dataframe\">\n",
       "  <thead>\n",
       "    <tr style=\"text-align: right;\">\n",
       "      <th></th>\n",
       "      <th>sex</th>\n",
       "      <th>Medu</th>\n",
       "      <th>Mjob</th>\n",
       "    </tr>\n",
       "  </thead>\n",
       "  <tbody>\n",
       "    <tr>\n",
       "      <th>0</th>\n",
       "      <td>F</td>\n",
       "      <td>4</td>\n",
       "      <td>at_home</td>\n",
       "    </tr>\n",
       "    <tr>\n",
       "      <th>1</th>\n",
       "      <td>F</td>\n",
       "      <td>1</td>\n",
       "      <td>at_home</td>\n",
       "    </tr>\n",
       "    <tr>\n",
       "      <th>2</th>\n",
       "      <td>F</td>\n",
       "      <td>1</td>\n",
       "      <td>at_home</td>\n",
       "    </tr>\n",
       "    <tr>\n",
       "      <th>3</th>\n",
       "      <td>F</td>\n",
       "      <td>4</td>\n",
       "      <td>health</td>\n",
       "    </tr>\n",
       "    <tr>\n",
       "      <th>4</th>\n",
       "      <td>F</td>\n",
       "      <td>3</td>\n",
       "      <td>other</td>\n",
       "    </tr>\n",
       "  </tbody>\n",
       "</table>\n",
       "</div>"
      ],
      "text/plain": [
       "  sex Medu     Mjob\n",
       "0   F    4  at_home\n",
       "1   F    1  at_home\n",
       "2   F    1  at_home\n",
       "3   F    4   health\n",
       "4   F    3    other"
      ]
     },
     "execution_count": 10,
     "metadata": {},
     "output_type": "execute_result"
    }
   ],
   "source": [
    "restored_dum_drop = pd.from_dummies(pd_data_dum_drop.iloc[:,4:], sep='_', default_category={'sex': 'F','Medu': '1','Mjob': 'at_home'})\n",
    "restored_dum_drop.head()"
   ]
  },
  {
   "cell_type": "markdown",
   "metadata": {
    "cell_id": "d78c4494287e4d938ca3284994a1e6bc",
    "deepnote_cell_type": "markdown",
    "id": "nqq_dSbHaRVo"
   },
   "source": [
    "# sklearn OneHotEncoder"
   ]
  },
  {
   "cell_type": "markdown",
   "metadata": {
    "cell_id": "d142cbc257b746c1a9bd318d54fdfcc5",
    "deepnote_cell_type": "markdown",
    "id": "5QYGctk-bmFP"
   },
   "source": [
    "The OneHotEncoder method from sklearn is probably the most comprehensive of all the available methods for one hot encoding.\n",
    "\n",
    "https://scikit-learn.org/stable/modules/generated/sklearn.preprocessing.OneHotEncoder.html\n",
    "\n",
    "```python\n",
    "sklearn.preprocessing.OneHotEncoder(*, categories='auto', drop=None, sparse=True, dtype=<class 'numpy.float64'>, handle_unknown='error', min_frequency=None, max_categories=None)\n",
    "```\n",
    "\n",
    "As you can see the method inputs above can handle:\n",
    "\n",
    "* automatically picking out the categories for one hot encoding\n",
    "* drop columns (not just the first, there are more options available)\n",
    "* produce sparse matrices\n",
    "* handle categories that appear in future datasets (handle_unknown)\n",
    "* you can limit the amount of categories returned from the encoding based on frequency or a maximum\n",
    "\n",
    "The method also uses the fit-transform methodology, which is very useful for using this method in your input pipelines for machine and deep learning."
   ]
  },
  {
   "cell_type": "code",
   "execution_count": 11,
   "metadata": {
    "allow_embed": "code",
    "cell_id": "357e0d46a7a649f7b0b7b4a605ed3fae",
    "deepnote_cell_type": "code",
    "deepnote_to_be_reexecuted": false,
    "execution_millis": 0,
    "execution_start": 1666781688609,
    "id": "5i9ViKNgWaRL",
    "source_hash": "ce953975"
   },
   "outputs": [],
   "source": [
    "skencoder = OneHotEncoder(handle_unknown='ignore',sparse=False)"
   ]
  },
  {
   "cell_type": "markdown",
   "metadata": {
    "cell_id": "b5f7f58f2ae2479ba726080a210fa712",
    "deepnote_cell_type": "markdown",
    "tags": []
   },
   "source": [
    "Let's try the simpelest implementation of the method, and just pass the whole dataframe:"
   ]
  },
  {
   "cell_type": "code",
   "execution_count": 12,
   "metadata": {
    "allow_embed": "code_output",
    "cell_id": "5ff5464a637c4312b0f3c09ae1edf260",
    "colab": {
     "base_uri": "https://localhost:8080/"
    },
    "deepnote_cell_type": "code",
    "deepnote_to_be_reexecuted": false,
    "execution_millis": 3,
    "execution_start": 1666781688653,
    "id": "qNVoRL5GNsKu",
    "outputId": "a8a97130-4a57-40f7-a17b-8af1bf2d6d93",
    "source_hash": "21d76a8f"
   },
   "outputs": [
    {
     "data": {
      "text/plain": [
       "(array([[1., 0., 0., ..., 0., 0., 0.],\n",
       "        [1., 0., 0., ..., 0., 0., 0.],\n",
       "        [1., 0., 1., ..., 0., 0., 0.],\n",
       "        ...,\n",
       "        [0., 1., 0., ..., 0., 0., 0.],\n",
       "        [0., 1., 0., ..., 0., 0., 0.],\n",
       "        [0., 1., 0., ..., 0., 0., 0.]]),\n",
       " (395, 48))"
      ]
     },
     "execution_count": 12,
     "metadata": {},
     "output_type": "execute_result"
    }
   ],
   "source": [
    "sk_data = skencoder.fit_transform(data)\n",
    "sk_data, sk_data.shape"
   ]
  },
  {
   "cell_type": "markdown",
   "metadata": {
    "cell_id": "17fc1d2f9c9942e99e904835a1395100",
    "deepnote_cell_type": "markdown",
    "tags": []
   },
   "source": [
    "As you can see from the output below, what OneHotEncoder does is extracts the columns that it thinks should be onehot encoded and returns them as a new array.\n",
    "\n",
    "This is different to get_dummies() which keeps the output in the same dataframe. If you want to keep all your data contained within a dataframe with minimal effort then this is something worth considering.\n",
    "\n",
    "It should also be noted that OneHotEncoder recognises more input columns that get_dummies() when on 'auto'.\n",
    "\n",
    "Regardless, it is still good practise to specify the columns you wish to target."
   ]
  },
  {
   "cell_type": "code",
   "execution_count": 13,
   "metadata": {
    "allow_embed": true,
    "cell_id": "8a8395402a134cac82f28029061ae557",
    "colab": {
     "base_uri": "https://localhost:8080/"
    },
    "deepnote_cell_type": "code",
    "deepnote_to_be_reexecuted": false,
    "execution_millis": 2,
    "execution_start": 1666781688654,
    "id": "tFfS2_ndQFCj",
    "outputId": "22a01c3b-3421-48cf-fc87-d50a3d6094f2",
    "source_hash": "6a62313a"
   },
   "outputs": [
    {
     "data": {
      "text/plain": [
       "array(['sex_F', 'sex_M', 'age_15', 'age_16', 'age_17', 'age_18', 'age_19',\n",
       "       'age_20', 'age_21', 'age_22', 'Medu_0', 'Medu_1', 'Medu_2',\n",
       "       'Medu_3', 'Medu_4', 'Mjob_at_home', 'Mjob_health', 'Mjob_other',\n",
       "       'Mjob_services', 'Mjob_teacher', 'Dalc_1', 'Dalc_2', 'Dalc_3',\n",
       "       'Dalc_4', 'Dalc_5', 'Walc_1', 'Walc_2', 'Walc_3', 'Walc_4',\n",
       "       'Walc_5', 'G3_0', 'G3_4', 'G3_5', 'G3_6', 'G3_7', 'G3_8', 'G3_9',\n",
       "       'G3_10', 'G3_11', 'G3_12', 'G3_13', 'G3_14', 'G3_15', 'G3_16',\n",
       "       'G3_17', 'G3_18', 'G3_19', 'G3_20'], dtype=object)"
      ]
     },
     "execution_count": 13,
     "metadata": {},
     "output_type": "execute_result"
    }
   ],
   "source": [
    "skencoder.get_feature_names_out()"
   ]
  },
  {
   "cell_type": "markdown",
   "metadata": {
    "cell_id": "3d43147e69b44b2b92694f7cfebde1fe",
    "deepnote_cell_type": "markdown",
    "tags": []
   },
   "source": [
    "For consistency I will encode the same columns as we looked at previously with get_dummies()"
   ]
  },
  {
   "cell_type": "code",
   "execution_count": 14,
   "metadata": {
    "allow_embed": true,
    "cell_id": "bdb742dfc5774434b1d8df66acd2e8ec",
    "deepnote_cell_type": "code",
    "deepnote_to_be_reexecuted": false,
    "execution_millis": 231,
    "execution_start": 1666781693265,
    "source_hash": "9fbeb859",
    "tags": []
   },
   "outputs": [
    {
     "data": {
      "text/plain": [
       "array([[1., 0., 0., ..., 0., 0., 0.],\n",
       "       [1., 0., 0., ..., 0., 0., 0.],\n",
       "       [1., 0., 0., ..., 0., 0., 0.],\n",
       "       ...,\n",
       "       [0., 1., 0., ..., 1., 0., 0.],\n",
       "       [0., 1., 0., ..., 0., 1., 0.],\n",
       "       [0., 1., 0., ..., 1., 0., 0.]])"
      ]
     },
     "execution_count": 14,
     "metadata": {},
     "output_type": "execute_result"
    }
   ],
   "source": [
    "sk_data = skencoder.fit_transform(data.loc[:,['sex','Medu','Mjob']])\n",
    "sk_data"
   ]
  },
  {
   "cell_type": "code",
   "execution_count": 15,
   "metadata": {
    "allow_embed": true,
    "cell_id": "c4826113a0c946c39495caac053adab0",
    "deepnote_cell_type": "code",
    "deepnote_to_be_reexecuted": false,
    "execution_millis": 184,
    "execution_start": 1666781693313,
    "source_hash": "6a62313a",
    "tags": []
   },
   "outputs": [
    {
     "data": {
      "text/plain": [
       "array(['sex_F', 'sex_M', 'Medu_0', 'Medu_1', 'Medu_2', 'Medu_3', 'Medu_4',\n",
       "       'Mjob_at_home', 'Mjob_health', 'Mjob_other', 'Mjob_services',\n",
       "       'Mjob_teacher'], dtype=object)"
      ]
     },
     "execution_count": 15,
     "metadata": {},
     "output_type": "execute_result"
    }
   ],
   "source": [
    "skencoder.get_feature_names_out()"
   ]
  },
  {
   "cell_type": "code",
   "execution_count": 16,
   "metadata": {
    "allow_embed": true,
    "cell_id": "e7a9242a3e4b48098e8ea13945151913",
    "colab": {
     "base_uri": "https://localhost:8080/"
    },
    "deepnote_cell_type": "code",
    "deepnote_to_be_reexecuted": false,
    "execution_millis": 550,
    "execution_start": 1666781699898,
    "id": "gl5Xie3yQiBf",
    "outputId": "65ebf24f-a984-44f5-843d-f78a8abdfcdc",
    "source_hash": "cc37f9a7"
   },
   "outputs": [
    {
     "data": {
      "text/plain": [
       "{'categories': 'auto',\n",
       " 'drop': None,\n",
       " 'dtype': numpy.float64,\n",
       " 'handle_unknown': 'ignore',\n",
       " 'max_categories': None,\n",
       " 'min_frequency': None,\n",
       " 'sparse': False}"
      ]
     },
     "execution_count": 16,
     "metadata": {},
     "output_type": "execute_result"
    }
   ],
   "source": [
    "skencoder.get_params()"
   ]
  },
  {
   "cell_type": "markdown",
   "metadata": {
    "cell_id": "df4f6d9093744f759660f85f68718057",
    "deepnote_cell_type": "markdown",
    "tags": []
   },
   "source": [
    "## Reversing OneHotEncoder\n",
    "\n",
    "There is a very simple method for reversing the encoding, and as the encoder is saved as it's own object (in this case 'skencoder'), then all the original parameters used to do the one hot encoding are saved within this object. This makes reversal very easy."
   ]
  },
  {
   "cell_type": "code",
   "execution_count": 17,
   "metadata": {
    "allow_embed": true,
    "cell_id": "e2faaabf74354353acbc499ecc62dcf3",
    "colab": {
     "base_uri": "https://localhost:8080/"
    },
    "deepnote_cell_type": "code",
    "deepnote_to_be_reexecuted": false,
    "execution_millis": 578,
    "execution_start": 1666781699904,
    "id": "pRusthuWSaSu",
    "outputId": "86179247-5e72-440c-ec33-8dcf50077e47",
    "source_hash": "62867cbe"
   },
   "outputs": [
    {
     "data": {
      "text/plain": [
       "array([['F', 4, 'at_home'],\n",
       "       ['F', 1, 'at_home'],\n",
       "       ['F', 1, 'at_home'],\n",
       "       ...,\n",
       "       ['M', 1, 'other'],\n",
       "       ['M', 3, 'services'],\n",
       "       ['M', 1, 'other']], dtype=object)"
      ]
     },
     "execution_count": 17,
     "metadata": {},
     "output_type": "execute_result"
    }
   ],
   "source": [
    "skencoder.inverse_transform(sk_data)"
   ]
  },
  {
   "cell_type": "markdown",
   "metadata": {
    "cell_id": "ce64dae51c89413d9924059120d97046",
    "deepnote_cell_type": "markdown",
    "tags": []
   },
   "source": [
    "## Useful information\n",
    "\n",
    "Another advantage to using OneHotEncoder is that there are a wealth of attributes and helper methods that give you access to the information used in the encoding. I have provided some examples below:"
   ]
  },
  {
   "cell_type": "markdown",
   "metadata": {
    "cell_id": "67b58ba564234db29226c6664b1b58ba",
    "deepnote_cell_type": "markdown",
    "tags": []
   },
   "source": [
    "### Attributes"
   ]
  },
  {
   "cell_type": "code",
   "execution_count": 18,
   "metadata": {
    "allow_embed": true,
    "cell_id": "9b5574f87aaf44fe80ee5ff3dd2bb286",
    "colab": {
     "base_uri": "https://localhost:8080/"
    },
    "deepnote_cell_type": "code",
    "deepnote_to_be_reexecuted": false,
    "execution_millis": 607,
    "execution_start": 1666781699914,
    "id": "6bSZRY5OSlGa",
    "outputId": "e195458e-d78b-4212-dece-e047ccc6e8c2",
    "source_hash": "1155c1c4"
   },
   "outputs": [
    {
     "data": {
      "text/plain": [
       "[array(['F', 'M'], dtype=object),\n",
       " array([0, 1, 2, 3, 4]),\n",
       " array(['at_home', 'health', 'other', 'services', 'teacher'], dtype=object)]"
      ]
     },
     "execution_count": 18,
     "metadata": {},
     "output_type": "execute_result"
    }
   ],
   "source": [
    "# output the category names stored by the encoder\n",
    "\n",
    "skencoder.categories_"
   ]
  },
  {
   "cell_type": "code",
   "execution_count": 19,
   "metadata": {
    "allow_embed": true,
    "cell_id": "8d05cff9bfd04fb6bdbb78ef488f8ef1",
    "colab": {
     "base_uri": "https://localhost:8080/"
    },
    "deepnote_cell_type": "code",
    "deepnote_to_be_reexecuted": false,
    "execution_millis": 649,
    "execution_start": 1666781699917,
    "id": "9-Ak3s2aSyme",
    "outputId": "1ddcf885-e247-4d4d-8471-ffd16ad2abc6",
    "source_hash": "65ab9d9d"
   },
   "outputs": [
    {
     "data": {
      "text/plain": [
       "3"
      ]
     },
     "execution_count": 19,
     "metadata": {},
     "output_type": "execute_result"
    }
   ],
   "source": [
    "# the number of columns / features originally encoded\n",
    "\n",
    "skencoder.n_features_in_"
   ]
  },
  {
   "cell_type": "code",
   "execution_count": 20,
   "metadata": {
    "allow_embed": true,
    "cell_id": "6ccf214f1ef84085bc270ebafab6c3af",
    "colab": {
     "base_uri": "https://localhost:8080/"
    },
    "deepnote_cell_type": "code",
    "deepnote_to_be_reexecuted": false,
    "execution_millis": 605,
    "execution_start": 1666781699965,
    "id": "vwBPBGJFS8UM",
    "outputId": "6ef99267-36e0-4114-fb86-e5254b16f3fc",
    "source_hash": "1f8bbdc2"
   },
   "outputs": [
    {
     "data": {
      "text/plain": [
       "array(['sex', 'Medu', 'Mjob'], dtype=object)"
      ]
     },
     "execution_count": 20,
     "metadata": {},
     "output_type": "execute_result"
    }
   ],
   "source": [
    "# the names of the features / columns that were fed into the encoder. \n",
    "# Especially useful if you went with the auto method of encoding\n",
    "\n",
    "skencoder.feature_names_in_"
   ]
  },
  {
   "cell_type": "markdown",
   "metadata": {
    "cell_id": "c96f09b3b0a143f9838315b2107e3739",
    "deepnote_cell_type": "markdown",
    "tags": []
   },
   "source": [
    "### Methods"
   ]
  },
  {
   "cell_type": "code",
   "execution_count": 21,
   "metadata": {
    "allow_embed": true,
    "cell_id": "3a28463d7d6a45258c35268526c26d51",
    "deepnote_cell_type": "code",
    "deepnote_to_be_reexecuted": false,
    "execution_millis": 10,
    "execution_start": 1666781710801,
    "source_hash": "4d7d19cc",
    "tags": []
   },
   "outputs": [
    {
     "data": {
      "text/plain": [
       "array(['sex_F', 'sex_M', 'Medu_0', 'Medu_1', 'Medu_2', 'Medu_3', 'Medu_4',\n",
       "       'Mjob_at_home', 'Mjob_health', 'Mjob_other', 'Mjob_services',\n",
       "       'Mjob_teacher'], dtype=object)"
      ]
     },
     "execution_count": 21,
     "metadata": {},
     "output_type": "execute_result"
    }
   ],
   "source": [
    "# This is a little bit like the \"categories_\" attribute, but it gives the encoded features rather\n",
    "# than the features before encoding\n",
    "\n",
    "skencoder.get_feature_names_out()"
   ]
  },
  {
   "cell_type": "code",
   "execution_count": 22,
   "metadata": {
    "allow_embed": true,
    "cell_id": "81b4811751e4480c98e4170c4e221d57",
    "deepnote_cell_type": "code",
    "deepnote_to_be_reexecuted": false,
    "execution_millis": 8,
    "execution_start": 1666781710810,
    "source_hash": "b1fd35ce",
    "tags": []
   },
   "outputs": [
    {
     "data": {
      "text/plain": [
       "{'categories': 'auto',\n",
       " 'drop': None,\n",
       " 'dtype': numpy.float64,\n",
       " 'handle_unknown': 'ignore',\n",
       " 'max_categories': None,\n",
       " 'min_frequency': None,\n",
       " 'sparse': False}"
      ]
     },
     "execution_count": 22,
     "metadata": {},
     "output_type": "execute_result"
    }
   ],
   "source": [
    "# you can list the parameters that were originally set for the encoder\n",
    "\n",
    "skencoder.get_params()"
   ]
  },
  {
   "cell_type": "markdown",
   "metadata": {
    "cell_id": "65a505aa5f3c4c8587891a09d4ac2961",
    "deepnote_cell_type": "markdown",
    "tags": []
   },
   "source": [
    "## Advanced features\n",
    "\n",
    "As mentioned earlier OneHotEncoder has quite a lot of useful features making it a very flexible method to use.\n",
    "\n",
    "I will touch on some of these methods below."
   ]
  },
  {
   "cell_type": "markdown",
   "metadata": {
    "cell_id": "74b33b594d6c4fe890d13f56b0f4e882",
    "deepnote_cell_type": "markdown",
    "tags": []
   },
   "source": [
    "### Min frequency\n",
    "\n",
    "This can be used to limit the encoded categories. If you have a feature that is dominated by a few significant categories, but has a lot of smaller categories, then you can effectively group the smaller categories into a single 'other' category."
   ]
  },
  {
   "cell_type": "code",
   "execution_count": 23,
   "metadata": {
    "allow_embed": true,
    "cell_id": "2116ea146eea4657be0e60e2b994c6ab",
    "deepnote_cell_type": "code",
    "deepnote_to_be_reexecuted": false,
    "execution_millis": 3,
    "execution_start": 1666781710840,
    "source_hash": "fbbf58a3",
    "tags": []
   },
   "outputs": [
    {
     "data": {
      "text/plain": [
       "array([[0., 0., 1., 0.],\n",
       "       [0., 0., 0., 1.],\n",
       "       [0., 0., 0., 1.],\n",
       "       ...,\n",
       "       [0., 0., 0., 1.],\n",
       "       [0., 1., 0., 0.],\n",
       "       [0., 0., 0., 1.]])"
      ]
     },
     "execution_count": 23,
     "metadata": {},
     "output_type": "execute_result"
    }
   ],
   "source": [
    "# As an example if we take the 'Medu' feature, which has 5 categories (0 to 4) we can limit this\n",
    "# output to 4 categories by setting a frequency limit of 60 which will group categories 0 and 1 \n",
    "# as they both have less than 60 entries\n",
    "\n",
    "skencoder.set_params(min_frequency = 60)\n",
    "sk_data = skencoder.fit_transform(data.loc[:,['Medu']])\n",
    "sk_data"
   ]
  },
  {
   "cell_type": "code",
   "execution_count": 24,
   "metadata": {
    "cell_id": "bad5ddea22264bbfaa4e52eb552e0fdd",
    "deepnote_cell_type": "code",
    "deepnote_to_be_reexecuted": false,
    "execution_millis": 2,
    "execution_start": 1666781710841,
    "source_hash": "d9c8c571",
    "tags": []
   },
   "outputs": [
    {
     "data": {
      "text/plain": [
       "{'categories': 'auto',\n",
       " 'drop': None,\n",
       " 'dtype': numpy.float64,\n",
       " 'handle_unknown': 'ignore',\n",
       " 'max_categories': None,\n",
       " 'min_frequency': 60,\n",
       " 'sparse': False}"
      ]
     },
     "execution_count": 24,
     "metadata": {},
     "output_type": "execute_result"
    }
   ],
   "source": [
    "# see that the parameter was set in the encoder\n",
    "\n",
    "skencoder.get_params()"
   ]
  },
  {
   "cell_type": "code",
   "execution_count": 25,
   "metadata": {
    "allow_embed": true,
    "cell_id": "b7e7a42cd14248b69f1c0a440234d3c8",
    "deepnote_cell_type": "code",
    "deepnote_to_be_reexecuted": false,
    "execution_millis": 41,
    "execution_start": 1666781710841,
    "source_hash": "3da4ef24",
    "tags": []
   },
   "outputs": [
    {
     "data": {
      "text/plain": [
       "array(['Medu_2', 'Medu_3', 'Medu_4', 'Medu_infrequent_sklearn'],\n",
       "      dtype=object)"
      ]
     },
     "execution_count": 25,
     "metadata": {},
     "output_type": "execute_result"
    }
   ],
   "source": [
    "# check OneHotEncoder assigns the combined categories\n",
    "\n",
    "skencoder.get_feature_names_out()"
   ]
  },
  {
   "cell_type": "code",
   "execution_count": 26,
   "metadata": {
    "allow_embed": true,
    "cell_id": "b4a6e822fac349da8fde6f962c658ae1",
    "deepnote_cell_type": "code",
    "deepnote_to_be_reexecuted": false,
    "execution_millis": 89,
    "execution_start": 1666781713311,
    "source_hash": "c4e2960d",
    "tags": []
   },
   "outputs": [
    {
     "data": {
      "text/plain": [
       "[array([0, 1])]"
      ]
     },
     "execution_count": 26,
     "metadata": {},
     "output_type": "execute_result"
    }
   ],
   "source": [
    "# see the names of the categories that were grouped as infrequent\n",
    "\n",
    "skencoder.infrequent_categories_"
   ]
  },
  {
   "cell_type": "markdown",
   "metadata": {
    "cell_id": "669b822e9d804ba1b2c6ca2e372ae70a",
    "deepnote_cell_type": "markdown",
    "tags": []
   },
   "source": [
    "You may find that you don't want to specify an exact amount of records for the infrequenct categories. In this case you could specify a minimum amount of records compared to the overall amount of records available. To do this you specify a fraction of the total count. \n",
    "\n",
    "In our case there are 395 records, so to acheive the same outcome as specifying exactly 60 records as the limit, we could specify 60 / 395 = 0.152 (or for simplicity 0.16 (which basically means that a category has to have 16% of the total count to be counted as significant))"
   ]
  },
  {
   "cell_type": "code",
   "execution_count": 27,
   "metadata": {
    "allow_embed": true,
    "cell_id": "f3fbd53ab0e74f918997fdeb11bec926",
    "deepnote_cell_type": "code",
    "deepnote_to_be_reexecuted": false,
    "execution_millis": 6,
    "execution_start": 1666781721455,
    "source_hash": "a0d7b949",
    "tags": []
   },
   "outputs": [
    {
     "data": {
      "text/plain": [
       "array([[0., 0., 1., 0.],\n",
       "       [0., 0., 0., 1.],\n",
       "       [0., 0., 0., 1.],\n",
       "       ...,\n",
       "       [0., 0., 0., 1.],\n",
       "       [0., 1., 0., 0.],\n",
       "       [0., 0., 0., 1.]])"
      ]
     },
     "execution_count": 27,
     "metadata": {},
     "output_type": "execute_result"
    }
   ],
   "source": [
    "skencoder.set_params(min_frequency = 0.16)\n",
    "sk_data = skencoder.fit_transform(data.loc[:,['Medu']])\n",
    "sk_data"
   ]
  },
  {
   "cell_type": "code",
   "execution_count": 28,
   "metadata": {
    "cell_id": "8aa5bbfd6de447f5be1ee327ea220793",
    "deepnote_cell_type": "code",
    "deepnote_to_be_reexecuted": false,
    "execution_millis": 11,
    "execution_start": 1666781721463,
    "source_hash": "d9c8c571",
    "tags": []
   },
   "outputs": [
    {
     "data": {
      "text/plain": [
       "{'categories': 'auto',\n",
       " 'drop': None,\n",
       " 'dtype': numpy.float64,\n",
       " 'handle_unknown': 'ignore',\n",
       " 'max_categories': None,\n",
       " 'min_frequency': 0.16,\n",
       " 'sparse': False}"
      ]
     },
     "execution_count": 28,
     "metadata": {},
     "output_type": "execute_result"
    }
   ],
   "source": [
    "# see that the parameter was set in the encoder\n",
    "\n",
    "skencoder.get_params()"
   ]
  },
  {
   "cell_type": "code",
   "execution_count": 29,
   "metadata": {
    "allow_embed": true,
    "cell_id": "d6b4ae85d93549219ab9d7aeec28a06c",
    "deepnote_cell_type": "code",
    "deepnote_to_be_reexecuted": false,
    "execution_millis": 39,
    "execution_start": 1666781721471,
    "source_hash": "3da4ef24",
    "tags": []
   },
   "outputs": [
    {
     "data": {
      "text/plain": [
       "array(['Medu_2', 'Medu_3', 'Medu_4', 'Medu_infrequent_sklearn'],\n",
       "      dtype=object)"
      ]
     },
     "execution_count": 29,
     "metadata": {},
     "output_type": "execute_result"
    }
   ],
   "source": [
    "# check OneHotEncoder assigns the combined categories\n",
    "\n",
    "skencoder.get_feature_names_out()"
   ]
  },
  {
   "cell_type": "code",
   "execution_count": 30,
   "metadata": {
    "allow_embed": true,
    "cell_id": "d08676a297f14e2da68e91aee4f1131e",
    "deepnote_cell_type": "code",
    "deepnote_to_be_reexecuted": false,
    "execution_millis": 3,
    "execution_start": 1666781721508,
    "source_hash": "c4e2960d",
    "tags": []
   },
   "outputs": [
    {
     "data": {
      "text/plain": [
       "[array([0, 1])]"
      ]
     },
     "execution_count": 30,
     "metadata": {},
     "output_type": "execute_result"
    }
   ],
   "source": [
    "# see the names of the categories that were grouped as infrequent\n",
    "\n",
    "skencoder.infrequent_categories_"
   ]
  },
  {
   "cell_type": "markdown",
   "metadata": {
    "cell_id": "ffa8585e2e3d42c3b5fe81bc67bb4188",
    "deepnote_cell_type": "markdown",
    "tags": []
   },
   "source": [
    "### Max categories\n",
    "\n",
    "Another way to approach the problem is to specify a maximum number of categories.\n",
    "\n"
   ]
  },
  {
   "cell_type": "code",
   "execution_count": 31,
   "metadata": {
    "allow_embed": true,
    "cell_id": "fe41d6f32bd0411bbc6cb0d3366dee7d",
    "deepnote_cell_type": "code",
    "deepnote_to_be_reexecuted": false,
    "execution_millis": 2,
    "execution_start": 1666781721509,
    "source_hash": "5daf1ad0",
    "tags": []
   },
   "outputs": [
    {
     "data": {
      "text/plain": [
       "array([[0., 1., 0.],\n",
       "       [0., 0., 1.],\n",
       "       [0., 0., 1.],\n",
       "       [0., 1., 0.],\n",
       "       [0., 0., 1.]])"
      ]
     },
     "execution_count": 31,
     "metadata": {},
     "output_type": "execute_result"
    }
   ],
   "source": [
    "skencoder.set_params(min_frequency = None, max_categories = 3)\n",
    "sk_data = skencoder.fit_transform(data.loc[:,['Medu']])\n",
    "sk_data[:5,:]"
   ]
  },
  {
   "cell_type": "code",
   "execution_count": 32,
   "metadata": {
    "allow_embed": "code_output",
    "cell_id": "550975dc3bd0470abf19c7a1a9e52570",
    "deepnote_cell_type": "code",
    "deepnote_to_be_reexecuted": false,
    "execution_millis": 2,
    "execution_start": 1666781723547,
    "source_hash": "d9c8c571",
    "tags": []
   },
   "outputs": [
    {
     "data": {
      "text/plain": [
       "{'categories': 'auto',\n",
       " 'drop': None,\n",
       " 'dtype': numpy.float64,\n",
       " 'handle_unknown': 'ignore',\n",
       " 'max_categories': 3,\n",
       " 'min_frequency': None,\n",
       " 'sparse': False}"
      ]
     },
     "execution_count": 32,
     "metadata": {},
     "output_type": "execute_result"
    }
   ],
   "source": [
    "# see that the parameter was set in the encoder\n",
    "\n",
    "skencoder.get_params()"
   ]
  },
  {
   "cell_type": "code",
   "execution_count": 33,
   "metadata": {
    "allow_embed": true,
    "cell_id": "9f0848f553a244a9877f86319dd1eed1",
    "deepnote_cell_type": "code",
    "deepnote_to_be_reexecuted": false,
    "execution_millis": 1026,
    "execution_start": 1666781731418,
    "source_hash": "3da4ef24",
    "tags": []
   },
   "outputs": [
    {
     "data": {
      "text/plain": [
       "array(['Medu_2', 'Medu_4', 'Medu_infrequent_sklearn'], dtype=object)"
      ]
     },
     "execution_count": 33,
     "metadata": {},
     "output_type": "execute_result"
    }
   ],
   "source": [
    "# check OneHotEncoder assigns the combined categories\n",
    "\n",
    "skencoder.get_feature_names_out()"
   ]
  },
  {
   "cell_type": "code",
   "execution_count": 34,
   "metadata": {
    "allow_embed": true,
    "cell_id": "d451c3f07d8f43a59e4ac728065d696e",
    "deepnote_cell_type": "code",
    "deepnote_to_be_reexecuted": false,
    "execution_millis": 1035,
    "execution_start": 1666781731421,
    "source_hash": "c4e2960d",
    "tags": []
   },
   "outputs": [
    {
     "data": {
      "text/plain": [
       "[array([0, 1, 3])]"
      ]
     },
     "execution_count": 34,
     "metadata": {},
     "output_type": "execute_result"
    }
   ],
   "source": [
    "# see the names of the categories that were grouped as infrequent\n",
    "\n",
    "skencoder.infrequent_categories_"
   ]
  },
  {
   "cell_type": "markdown",
   "metadata": {
    "cell_id": "7bcaa2043e6e456a8767b0ab00018518",
    "deepnote_cell_type": "markdown",
    "tags": []
   },
   "source": [
    "### Handle Unknown\n",
    "\n",
    "Handle unknown is an extremely useful feature, especially when used in a pipeline for machine learning or neural network models.\n",
    "\n",
    "It essentially allows you to plan for a case in the future where another category may appear without breaking your input pipeline.\n",
    "\n",
    "For example you may have a feature such as Medu, and in the future for some reason you add a 'PhD' category above the final category of 'higher eduction'. In theory this additional category would break your input pipeline as the amount of categories has changed.\n",
    "\n",
    "Handle unknown allows us to avoid this.\n",
    "\n",
    "Although I'm not going to give a concrete example of this, it is very easy to understand, especially if you have read the previous two sections on max_categories and min_frequency.\n",
    "\n",
    "Setting options:\n",
    "\n",
    "* **'error'** : this will just raise an error if you try to add additional category, you could say this is standard behaviour\n",
    "* **'ignore'** : this will cause any extra categories to be encoded with all zeros, so if there were originally 3 categories [1,0,0], [0,1,0] and [0,0,1] then the unknown category will be encoded as [0,0,0]. When inverted this will have the value 'None'.\n",
    "* **'infrequent_if_exist'** : bascially if you have implemented 'max_categories' or 'min_frequency' in your encoder then the additional category will be mapped to 'xxx_infrequent_sklearn' along with any infrequent categories. Otherwise it will be treated exactly the same as 'ignore'.\n",
    "\n",
    "**Important note:** you cannot use handle_unknown='ignore' and the drop category parameter (e.g. drop: 'first') at the same time. This is because they both produce a category with all zeros, and therefore conflict. "
   ]
  },
  {
   "cell_type": "markdown",
   "metadata": {
    "cell_id": "35b4b8904b274fe1bc609f73f9f2201c",
    "deepnote_cell_type": "markdown",
    "tags": []
   },
   "source": [
    "### Drop\n",
    "\n",
    "As with Pandas from_dummies() you have the option to drop categories, although the options are a little more extensive.\n",
    "\n",
    "Here are the options:\n",
    "\n",
    "* **None** : retain all features (the default).\n",
    "* **‘first’** : drop the first category in each feature. If only one category is present, the feature will be dropped entirely.\n",
    "* **‘if_binary’** : drop the first category in each feature with two categories. Features with 1 or more than 2 categories are left intact.\n",
    "* **array** : drop[i] is the category in feature X[:, i] that should be dropped.\n",
    "\n",
    "**Important note:** you cannot use handle_unknown='ignore' and the thse drop category parameters at the same time. This is because they both produce a category with all zeros, and therefore conflict. "
   ]
  },
  {
   "cell_type": "markdown",
   "metadata": {
    "cell_id": "9a7a2c323bab4eafb2ecdfbac6d74cca",
    "deepnote_cell_type": "markdown",
    "tags": []
   },
   "source": [
    "#### 'first'"
   ]
  },
  {
   "cell_type": "code",
   "execution_count": null,
   "metadata": {
    "allow_embed": true,
    "cell_id": "2681f7fcb3604d32bdb31c5de0995d40",
    "deepnote_cell_type": "code",
    "deepnote_to_be_reexecuted": false,
    "execution_millis": 191,
    "execution_start": 1666095907677,
    "source_hash": "cc9963ca",
    "tags": []
   },
   "outputs": [
    {
     "data": {
      "text/plain": [
       "{'categories': 'auto',\n",
       " 'drop': 'first',\n",
       " 'dtype': numpy.float64,\n",
       " 'handle_unknown': 'ignore',\n",
       " 'max_categories': None,\n",
       " 'min_frequency': None,\n",
       " 'sparse': False}"
      ]
     },
     "execution_count": 45,
     "metadata": {},
     "output_type": "execute_result"
    }
   ],
   "source": [
    "skencoder.set_params(min_frequency = None, max_categories = None, drop= 'first')\n",
    "skencoder.get_params()"
   ]
  },
  {
   "cell_type": "code",
   "execution_count": null,
   "metadata": {
    "allow_embed": true,
    "cell_id": "d083e30b8fc44219bf5effeffd5d0ee9",
    "deepnote_cell_type": "code",
    "deepnote_to_be_reexecuted": false,
    "execution_millis": 3,
    "execution_start": 1666095986418,
    "source_hash": "9fbeb859",
    "tags": []
   },
   "outputs": [
    {
     "data": {
      "text/plain": [
       "array([[0., 0., 0., ..., 0., 0., 0.],\n",
       "       [0., 1., 0., ..., 0., 0., 0.],\n",
       "       [0., 1., 0., ..., 0., 0., 0.],\n",
       "       ...,\n",
       "       [1., 1., 0., ..., 1., 0., 0.],\n",
       "       [1., 0., 0., ..., 0., 1., 0.],\n",
       "       [1., 1., 0., ..., 1., 0., 0.]])"
      ]
     },
     "execution_count": 46,
     "metadata": {},
     "output_type": "execute_result"
    }
   ],
   "source": [
    "sk_data = skencoder.fit_transform(data.loc[:,['sex','Medu','Mjob']])\n",
    "sk_data"
   ]
  },
  {
   "cell_type": "code",
   "execution_count": null,
   "metadata": {
    "allow_embed": true,
    "cell_id": "f019c13bb56149e0b7c6453a24e5d53b",
    "deepnote_cell_type": "code",
    "deepnote_to_be_reexecuted": false,
    "execution_millis": 8,
    "execution_start": 1666096039064,
    "source_hash": "6a62313a",
    "tags": []
   },
   "outputs": [
    {
     "data": {
      "text/plain": [
       "array(['sex_M', 'Medu_1', 'Medu_2', 'Medu_3', 'Medu_4', 'Mjob_health',\n",
       "       'Mjob_other', 'Mjob_services', 'Mjob_teacher'], dtype=object)"
      ]
     },
     "execution_count": 47,
     "metadata": {},
     "output_type": "execute_result"
    }
   ],
   "source": [
    "# note that the first category has been dropped from each feature\n",
    "# 'sex_F', 'Medu_0' and 'Mjob_at_home' are all missing\n",
    "\n",
    "skencoder.get_feature_names_out()"
   ]
  },
  {
   "cell_type": "markdown",
   "metadata": {
    "cell_id": "84687f75c6474f92928c620df9264b6b",
    "deepnote_cell_type": "markdown",
    "tags": []
   },
   "source": [
    "#### 'if_binary'"
   ]
  },
  {
   "cell_type": "code",
   "execution_count": null,
   "metadata": {
    "allow_embed": true,
    "cell_id": "edfdd8437d95458884fbf29f56642ada",
    "deepnote_cell_type": "code",
    "deepnote_to_be_reexecuted": false,
    "execution_millis": 356,
    "execution_start": 1666096169721,
    "source_hash": "bfe8fefc",
    "tags": []
   },
   "outputs": [
    {
     "data": {
      "text/plain": [
       "{'categories': 'auto',\n",
       " 'drop': 'if_binary',\n",
       " 'dtype': numpy.float64,\n",
       " 'handle_unknown': 'ignore',\n",
       " 'max_categories': None,\n",
       " 'min_frequency': None,\n",
       " 'sparse': False}"
      ]
     },
     "execution_count": 48,
     "metadata": {},
     "output_type": "execute_result"
    }
   ],
   "source": [
    "skencoder.set_params(drop= 'if_binary')\n",
    "skencoder.get_params()"
   ]
  },
  {
   "cell_type": "code",
   "execution_count": null,
   "metadata": {
    "allow_embed": true,
    "cell_id": "611212af6f2940bd8f64161cc7d956d2",
    "deepnote_cell_type": "code",
    "deepnote_to_be_reexecuted": false,
    "execution_millis": 10,
    "execution_start": 1666096189658,
    "source_hash": "9fbeb859",
    "tags": []
   },
   "outputs": [
    {
     "data": {
      "text/plain": [
       "array([[0., 0., 0., ..., 0., 0., 0.],\n",
       "       [0., 0., 1., ..., 0., 0., 0.],\n",
       "       [0., 0., 1., ..., 0., 0., 0.],\n",
       "       ...,\n",
       "       [1., 0., 1., ..., 1., 0., 0.],\n",
       "       [1., 0., 0., ..., 0., 1., 0.],\n",
       "       [1., 0., 1., ..., 1., 0., 0.]])"
      ]
     },
     "execution_count": 49,
     "metadata": {},
     "output_type": "execute_result"
    }
   ],
   "source": [
    "sk_data = skencoder.fit_transform(data.loc[:,['sex','Medu','Mjob']])\n",
    "sk_data"
   ]
  },
  {
   "cell_type": "code",
   "execution_count": null,
   "metadata": {
    "allow_embed": true,
    "cell_id": "a2b0f289c6a24a069194b3e063d20277",
    "deepnote_cell_type": "code",
    "deepnote_to_be_reexecuted": false,
    "execution_millis": 2586,
    "execution_start": 1666096240447,
    "source_hash": "1384ec55",
    "tags": []
   },
   "outputs": [
    {
     "data": {
      "text/plain": [
       "array(['sex_M', 'Medu_0', 'Medu_1', 'Medu_2', 'Medu_3', 'Medu_4',\n",
       "       'Mjob_at_home', 'Mjob_health', 'Mjob_other', 'Mjob_services',\n",
       "       'Mjob_teacher'], dtype=object)"
      ]
     },
     "execution_count": 51,
     "metadata": {},
     "output_type": "execute_result"
    }
   ],
   "source": [
    "# note that the first category has only been dropped from the sex feature, which was a binary category\n",
    "\n",
    "skencoder.get_feature_names_out()"
   ]
  },
  {
   "cell_type": "markdown",
   "metadata": {
    "cell_id": "934cf3bb27204dfbb66c05ffb8bfa08b",
    "deepnote_cell_type": "markdown",
    "tags": []
   },
   "source": [
    "#### array"
   ]
  },
  {
   "cell_type": "code",
   "execution_count": null,
   "metadata": {
    "allow_embed": true,
    "cell_id": "8661e309fff94b1591762adae50b9e98",
    "deepnote_cell_type": "code",
    "deepnote_to_be_reexecuted": false,
    "execution_millis": 601,
    "execution_start": 1666096508191,
    "source_hash": "ad425c26",
    "tags": []
   },
   "outputs": [
    {
     "data": {
      "text/plain": [
       "{'categories': 'auto',\n",
       " 'drop': ['M', 3, 'other'],\n",
       " 'dtype': numpy.float64,\n",
       " 'handle_unknown': 'ignore',\n",
       " 'max_categories': None,\n",
       " 'min_frequency': None,\n",
       " 'sparse': False}"
      ]
     },
     "execution_count": 58,
     "metadata": {},
     "output_type": "execute_result"
    }
   ],
   "source": [
    "skencoder.set_params(drop= ['M', 3, 'other'])\n",
    "skencoder.get_params()"
   ]
  },
  {
   "cell_type": "code",
   "execution_count": null,
   "metadata": {
    "allow_embed": true,
    "cell_id": "bc101f3994814a40bc5daaeefd2e96ce",
    "deepnote_cell_type": "code",
    "deepnote_to_be_reexecuted": false,
    "execution_millis": 944,
    "execution_start": 1666096510803,
    "source_hash": "9fbeb859",
    "tags": []
   },
   "outputs": [
    {
     "data": {
      "text/plain": [
       "array([[1., 0., 0., ..., 0., 0., 0.],\n",
       "       [1., 0., 1., ..., 0., 0., 0.],\n",
       "       [1., 0., 1., ..., 0., 0., 0.],\n",
       "       ...,\n",
       "       [0., 0., 1., ..., 0., 0., 0.],\n",
       "       [0., 0., 0., ..., 0., 1., 0.],\n",
       "       [0., 0., 1., ..., 0., 0., 0.]])"
      ]
     },
     "execution_count": 59,
     "metadata": {},
     "output_type": "execute_result"
    }
   ],
   "source": [
    "sk_data = skencoder.fit_transform(data.loc[:,['sex','Medu','Mjob']])\n",
    "sk_data"
   ]
  },
  {
   "cell_type": "code",
   "execution_count": null,
   "metadata": {
    "allow_embed": true,
    "cell_id": "4e76ec8a9dda429f85276cb09c07a695",
    "deepnote_cell_type": "code",
    "deepnote_to_be_reexecuted": false,
    "execution_millis": 11,
    "execution_start": 1666096560120,
    "source_hash": "cc9faae2",
    "tags": []
   },
   "outputs": [
    {
     "data": {
      "text/plain": [
       "array(['sex_F', 'Medu_0', 'Medu_1', 'Medu_2', 'Medu_4', 'Mjob_at_home',\n",
       "       'Mjob_health', 'Mjob_services', 'Mjob_teacher'], dtype=object)"
      ]
     },
     "execution_count": 60,
     "metadata": {},
     "output_type": "execute_result"
    }
   ],
   "source": [
    "# note that the selected categories have been dropped for each feature\n",
    "\n",
    "skencoder.get_feature_names_out()"
   ]
  },
  {
   "cell_type": "markdown",
   "metadata": {
    "cell_id": "a860d61a8e00444d9f3393253a7cf267",
    "deepnote_cell_type": "markdown",
    "id": "foqRSNJqTBV2"
   },
   "source": [
    "# Keras to_categorical\n",
    "\n",
    "The keras method is a very simple method, and although it can be used for anything just like the other methods, it can only handle numeric values. Therefore, if you have string categories you will have to convert them first, something that the other methods take care of automatically.\n",
    "\n",
    "https://www.tensorflow.org/api_docs/python/tf/keras/utils/to_categorical\n",
    "\n",
    "Keras to_categorical() is probably most useful for one hot encoding the labels. \n",
    "\n",
    "The example below will one hot encode the labels.\n",
    "\n",
    "The method:\n",
    "\n",
    "```python\n",
    "tf.keras.utils.to_categorical(y, num_classes=None, dtype='float32')\n",
    "```"
   ]
  },
  {
   "cell_type": "code",
   "execution_count": null,
   "metadata": {
    "allow_embed": true,
    "cell_id": "e024258bf42a4fc385a2931c6e27416e",
    "colab": {
     "base_uri": "https://localhost:8080/"
    },
    "deepnote_cell_type": "code",
    "deepnote_to_be_reexecuted": false,
    "execution_millis": 10,
    "execution_start": 1666089554242,
    "id": "m-8ioqxco_XQ",
    "outputId": "95501f93-5010-46d0-c30f-f64dc9e51cc4",
    "source_hash": "a07e81e2"
   },
   "outputs": [
    {
     "data": {
      "text/plain": [
       "array([ 6,  6, 10, 15, 10, 15, 11,  6, 19, 15,  9, 12, 14, 11, 16, 14, 14,\n",
       "       10,  5, 10, 15, 15, 16, 12,  8,  8, 11, 15, 11, 11, 12, 17, 16, 12,\n",
       "       15,  6, 18, 15, 11, 13, 11, 12, 18, 11,  9,  6, 11, 20, 14,  7, 13,\n",
       "       13, 10, 11, 13, 10, 15, 15,  9, 16, 11, 11,  9,  9, 10, 15, 12,  6,\n",
       "        8, 16, 15, 10,  5, 14, 11, 10, 10, 11, 10,  5, 12, 11,  6, 15, 10,\n",
       "        8,  6, 14, 10,  7,  8, 18,  6, 10, 14, 10, 15, 10, 14,  8,  5, 17,\n",
       "       14,  6, 18, 11,  8, 18, 13, 16, 19, 10, 13, 19,  9, 16, 14, 13,  8,\n",
       "       13, 15, 15, 13, 13,  8, 12, 11,  9,  0, 18,  0,  0, 12, 11,  0,  0,\n",
       "        0,  0, 12, 15,  0,  9, 11, 13,  0, 11,  0, 11,  0, 10,  0, 14, 10,\n",
       "        0, 12,  8, 13, 10, 15, 12,  0,  7,  0, 10,  7, 12, 10, 16,  0, 14,\n",
       "        0, 16, 10,  0,  9,  9, 11,  6,  9, 11,  8, 12, 17,  8, 12, 11, 11,\n",
       "       15,  9, 10, 13,  9,  8, 10, 14, 15, 16, 10, 18, 10, 16, 10, 10,  6,\n",
       "       11,  9,  7, 13, 10,  7,  8, 13, 14,  8, 10, 15,  4,  8,  8, 10,  6,\n",
       "        0, 17, 13, 14,  7, 15, 12,  9, 12, 14, 11,  9, 13,  6, 10, 13, 12,\n",
       "       11,  0, 12, 12,  0, 12,  0, 18, 13,  8,  5, 15,  8, 10,  8,  8, 12,\n",
       "        8, 13, 11, 14,  0, 18,  8, 12,  9,  0, 17, 10, 11, 10,  0,  9, 14,\n",
       "       11, 14, 10, 12,  9,  9,  8, 10,  8, 10, 12, 10, 11, 11, 19, 12, 14,\n",
       "       15, 11, 15, 13, 18, 14, 11,  0,  8, 14, 16, 11, 10, 14, 18, 13, 12,\n",
       "       18,  8, 12, 10,  0, 13, 11, 11, 13, 11,  0,  9, 10, 11, 13,  9, 11,\n",
       "       15, 15, 11, 16, 10,  9, 14,  8, 14,  0,  0,  0, 15, 13,  0, 17, 10,\n",
       "       11,  0, 15,  0, 10, 14, 16,  9, 15, 13,  8, 13,  8,  8, 11,  9, 13,\n",
       "       11, 10, 16, 13, 12, 10, 15, 12, 10, 13,  0, 10, 11,  9, 12, 11,  5,\n",
       "       19, 10, 15, 10, 15, 10, 14,  7, 10,  0,  5, 10,  6,  0,  8,  0,  9,\n",
       "       16,  7, 10,  9])"
      ]
     },
     "execution_count": 36,
     "metadata": {},
     "output_type": "execute_result"
    }
   ],
   "source": [
    "data['G3'].to_numpy()"
   ]
  },
  {
   "cell_type": "code",
   "execution_count": null,
   "metadata": {
    "allow_embed": true,
    "cell_id": "c0f0fb637af44a59bbef8b1239986b16",
    "colab": {
     "base_uri": "https://localhost:8080/"
    },
    "deepnote_cell_type": "code",
    "deepnote_to_be_reexecuted": false,
    "execution_millis": 10,
    "execution_start": 1666089554243,
    "id": "9ksPshKkTTGv",
    "outputId": "2c3f43cf-eef3-4029-c53e-6572e0b94125",
    "source_hash": "15cb241"
   },
   "outputs": [
    {
     "data": {
      "text/plain": [
       "array([[0, 0, 0, ..., 0, 0, 0],\n",
       "       [0, 0, 0, ..., 0, 0, 0],\n",
       "       [0, 0, 0, ..., 0, 0, 0],\n",
       "       ...,\n",
       "       [0, 0, 0, ..., 0, 0, 0],\n",
       "       [0, 0, 0, ..., 0, 0, 0],\n",
       "       [0, 0, 0, ..., 0, 0, 0]], dtype=uint8)"
      ]
     },
     "execution_count": 37,
     "metadata": {},
     "output_type": "execute_result"
    }
   ],
   "source": [
    "keras_cat = to_categorical(data['G3'], dtype='uint8')\n",
    "keras_cat"
   ]
  },
  {
   "cell_type": "code",
   "execution_count": null,
   "metadata": {
    "cell_id": "761996f4dd4b4bf7bc5add0b8e3fba5d",
    "colab": {
     "base_uri": "https://localhost:8080/"
    },
    "deepnote_cell_type": "code",
    "deepnote_to_be_reexecuted": false,
    "execution_millis": 13453590,
    "execution_start": 1666089554250,
    "id": "FlWBa8Ub0fic",
    "outputId": "ed1b838b-9f4f-4597-d8ea-f4b75f5ea6f0",
    "source_hash": "d6ae43c6"
   },
   "outputs": [
    {
     "data": {
      "text/plain": [
       "(395, 21)"
      ]
     },
     "execution_count": 38,
     "metadata": {},
     "output_type": "execute_result"
    }
   ],
   "source": [
    "keras_cat.shape"
   ]
  },
  {
   "cell_type": "markdown",
   "metadata": {
    "cell_id": "2f54948e82de4949bf9addc47358a9be",
    "deepnote_cell_type": "markdown",
    "id": "7wumC6XLUdbW"
   },
   "source": [
    "To reverse the one hot encoding you can use argmax, this will also work with the output of a softmax layer."
   ]
  },
  {
   "cell_type": "code",
   "execution_count": null,
   "metadata": {
    "allow_embed": true,
    "cell_id": "77a162a57f554990a06c27c41a387741",
    "colab": {
     "base_uri": "https://localhost:8080/"
    },
    "deepnote_cell_type": "code",
    "deepnote_to_be_reexecuted": false,
    "execution_millis": 6,
    "execution_start": 1666089554254,
    "id": "U00OssjcoffK",
    "outputId": "263eee03-1bd2-446c-b26f-973faac44248",
    "source_hash": "dcad955b"
   },
   "outputs": [
    {
     "data": {
      "text/plain": [
       "array([0, 0, 0, 0, 0, 0, 0, 0, 0, 0, 0, 0, 0, 0, 0, 1, 0, 0, 0, 0, 0],\n",
       "      dtype=uint8)"
      ]
     },
     "execution_count": 39,
     "metadata": {},
     "output_type": "execute_result"
    }
   ],
   "source": [
    "keras_cat[5]"
   ]
  },
  {
   "cell_type": "code",
   "execution_count": null,
   "metadata": {
    "allow_embed": true,
    "cell_id": "822ac1a44baf4441bb4b6d2a4b0af838",
    "colab": {
     "base_uri": "https://localhost:8080/"
    },
    "deepnote_cell_type": "code",
    "deepnote_to_be_reexecuted": false,
    "execution_millis": 53,
    "execution_start": 1666089554256,
    "id": "pBAxUMYKolSA",
    "outputId": "c4b03c72-1e63-4214-ee9b-8b9091455ed8",
    "source_hash": "5cab9b0e"
   },
   "outputs": [
    {
     "data": {
      "text/plain": [
       "15"
      ]
     },
     "execution_count": 40,
     "metadata": {},
     "output_type": "execute_result"
    }
   ],
   "source": [
    "np.argmax(keras_cat[5])"
   ]
  },
  {
   "cell_type": "code",
   "execution_count": null,
   "metadata": {
    "allow_embed": true,
    "cell_id": "33da7cc4d86644118c289e330c2aad07",
    "colab": {
     "base_uri": "https://localhost:8080/"
    },
    "deepnote_cell_type": "code",
    "deepnote_to_be_reexecuted": false,
    "execution_millis": 175,
    "execution_start": 1666089554299,
    "id": "qAv5eVNipQAs",
    "outputId": "0bed1f5b-e336-47f5-f23f-2ded6e6b7d21",
    "source_hash": "be8254b7"
   },
   "outputs": [
    {
     "data": {
      "text/plain": [
       "array([ 6,  6, 10, 15, 10, 15, 11,  6, 19, 15,  9, 12, 14, 11, 16, 14, 14,\n",
       "       10,  5, 10, 15, 15, 16, 12,  8,  8, 11, 15, 11, 11, 12, 17, 16, 12,\n",
       "       15,  6, 18, 15, 11, 13, 11, 12, 18, 11,  9,  6, 11, 20, 14,  7, 13,\n",
       "       13, 10, 11, 13, 10, 15, 15,  9, 16, 11, 11,  9,  9, 10, 15, 12,  6,\n",
       "        8, 16, 15, 10,  5, 14, 11, 10, 10, 11, 10,  5, 12, 11,  6, 15, 10,\n",
       "        8,  6, 14, 10,  7,  8, 18,  6, 10, 14, 10, 15, 10, 14,  8,  5, 17,\n",
       "       14,  6, 18, 11,  8, 18, 13, 16, 19, 10, 13, 19,  9, 16, 14, 13,  8,\n",
       "       13, 15, 15, 13, 13,  8, 12, 11,  9,  0, 18,  0,  0, 12, 11,  0,  0,\n",
       "        0,  0, 12, 15,  0,  9, 11, 13,  0, 11,  0, 11,  0, 10,  0, 14, 10,\n",
       "        0, 12,  8, 13, 10, 15, 12,  0,  7,  0, 10,  7, 12, 10, 16,  0, 14,\n",
       "        0, 16, 10,  0,  9,  9, 11,  6,  9, 11,  8, 12, 17,  8, 12, 11, 11,\n",
       "       15,  9, 10, 13,  9,  8, 10, 14, 15, 16, 10, 18, 10, 16, 10, 10,  6,\n",
       "       11,  9,  7, 13, 10,  7,  8, 13, 14,  8, 10, 15,  4,  8,  8, 10,  6,\n",
       "        0, 17, 13, 14,  7, 15, 12,  9, 12, 14, 11,  9, 13,  6, 10, 13, 12,\n",
       "       11,  0, 12, 12,  0, 12,  0, 18, 13,  8,  5, 15,  8, 10,  8,  8, 12,\n",
       "        8, 13, 11, 14,  0, 18,  8, 12,  9,  0, 17, 10, 11, 10,  0,  9, 14,\n",
       "       11, 14, 10, 12,  9,  9,  8, 10,  8, 10, 12, 10, 11, 11, 19, 12, 14,\n",
       "       15, 11, 15, 13, 18, 14, 11,  0,  8, 14, 16, 11, 10, 14, 18, 13, 12,\n",
       "       18,  8, 12, 10,  0, 13, 11, 11, 13, 11,  0,  9, 10, 11, 13,  9, 11,\n",
       "       15, 15, 11, 16, 10,  9, 14,  8, 14,  0,  0,  0, 15, 13,  0, 17, 10,\n",
       "       11,  0, 15,  0, 10, 14, 16,  9, 15, 13,  8, 13,  8,  8, 11,  9, 13,\n",
       "       11, 10, 16, 13, 12, 10, 15, 12, 10, 13,  0, 10, 11,  9, 12, 11,  5,\n",
       "       19, 10, 15, 10, 15, 10, 14,  7, 10,  0,  5, 10,  6,  0,  8,  0,  9,\n",
       "       16,  7, 10,  9])"
      ]
     },
     "execution_count": 41,
     "metadata": {},
     "output_type": "execute_result"
    }
   ],
   "source": [
    "np.argmax(keras_cat, axis=1)"
   ]
  },
  {
   "cell_type": "markdown",
   "metadata": {
    "cell_id": "1786997082684b67acf73d73445c58bf",
    "deepnote_cell_type": "markdown",
    "id": "LA_GJx_vpSHL"
   },
   "source": [
    "## Specify categories\n",
    "\n",
    "One useful feature is the ability to specify how many unique categories there are. By default the amount of categories is the highest number in the array + 1. The +1 is to take account of zero.\n",
    "\n",
    "It is worth noting that this is the minimum value you can specify. However, there may be cases where the data passed does not contain all the categories and you still wish to convert it (like a small set of test labels), in which case you should specify the number of classes. \n",
    "\n",
    "Even though the method requires whole numbers, it can deal with the float datatype as per the below."
   ]
  },
  {
   "cell_type": "code",
   "execution_count": null,
   "metadata": {
    "cell_id": "3874b6e3e5444132a00858423d916f67",
    "colab": {
     "base_uri": "https://localhost:8080/"
    },
    "deepnote_cell_type": "code",
    "deepnote_to_be_reexecuted": false,
    "execution_millis": 146,
    "execution_start": 1666089554330,
    "id": "8N832Wkhspni",
    "outputId": "78e3984a-1504-48de-d90e-205f866806ea",
    "source_hash": "cc985e87"
   },
   "outputs": [
    {
     "data": {
      "text/plain": [
       "array([ 0,  4,  5,  6,  7,  8,  9, 10, 11, 12, 13, 14, 15, 16, 17, 18, 19,\n",
       "       20])"
      ]
     },
     "execution_count": 42,
     "metadata": {},
     "output_type": "execute_result"
    }
   ],
   "source": [
    "np.unique(data['G3'])"
   ]
  },
  {
   "cell_type": "code",
   "execution_count": null,
   "metadata": {
    "cell_id": "a7488ec1f7b34d6b945f1a75e141bf23",
    "colab": {
     "base_uri": "https://localhost:8080/"
    },
    "deepnote_cell_type": "code",
    "deepnote_to_be_reexecuted": false,
    "execution_millis": 145,
    "execution_start": 1666089554331,
    "id": "322KN-CHssiA",
    "outputId": "cd873cb5-c579-42df-caab-ce6ccf0160af",
    "source_hash": "57d01198"
   },
   "outputs": [
    {
     "data": {
      "text/plain": [
       "18"
      ]
     },
     "execution_count": 43,
     "metadata": {},
     "output_type": "execute_result"
    }
   ],
   "source": [
    "np.unique(data['G3']).size"
   ]
  },
  {
   "cell_type": "code",
   "execution_count": null,
   "metadata": {
    "cell_id": "cf826bfd48d94d8a84918a81cd9e395a",
    "colab": {
     "base_uri": "https://localhost:8080/"
    },
    "deepnote_cell_type": "code",
    "deepnote_to_be_reexecuted": false,
    "execution_millis": 146,
    "execution_start": 1666089554331,
    "id": "ularaNPUsza6",
    "outputId": "a92c026e-e4fa-465e-e7b4-35a0e8dd0b58",
    "source_hash": "5721f2a1"
   },
   "outputs": [
    {
     "data": {
      "text/plain": [
       "array([[0., 0., 0., ..., 0., 0., 0.],\n",
       "       [0., 0., 0., ..., 0., 0., 0.],\n",
       "       [0., 0., 0., ..., 0., 0., 0.],\n",
       "       ...,\n",
       "       [0., 0., 0., ..., 0., 0., 0.],\n",
       "       [0., 0., 0., ..., 0., 0., 0.],\n",
       "       [0., 0., 0., ..., 0., 0., 0.]], dtype=float32)"
      ]
     },
     "execution_count": 44,
     "metadata": {},
     "output_type": "execute_result"
    }
   ],
   "source": [
    "keras_cat_classes = to_categorical(data['G3'], num_classes=30, dtype='float32')\n",
    "keras_cat_classes"
   ]
  },
  {
   "cell_type": "code",
   "execution_count": null,
   "metadata": {
    "cell_id": "112faccf244347c6bd0375fe32c29fd1",
    "colab": {
     "base_uri": "https://localhost:8080/"
    },
    "deepnote_cell_type": "code",
    "deepnote_to_be_reexecuted": false,
    "execution_millis": 129,
    "execution_start": 1666089554352,
    "id": "NLkDoY8N0ZMc",
    "outputId": "7eb265b8-8f42-403a-d436-80a16ca73d06",
    "source_hash": "1cfe5611"
   },
   "outputs": [
    {
     "data": {
      "text/plain": [
       "(395, 30)"
      ]
     },
     "execution_count": 45,
     "metadata": {},
     "output_type": "execute_result"
    }
   ],
   "source": [
    "keras_cat_classes.shape"
   ]
  },
  {
   "cell_type": "code",
   "execution_count": null,
   "metadata": {
    "cell_id": "b07217acd7be429fb3ea1641928be787",
    "colab": {
     "base_uri": "https://localhost:8080/"
    },
    "deepnote_cell_type": "code",
    "deepnote_to_be_reexecuted": false,
    "execution_millis": 128,
    "execution_start": 1666089554353,
    "id": "KI3SnMSKxJ6i",
    "outputId": "f67458ba-c258-4b79-a250-f771dbbed754",
    "source_hash": "ea07d1ee"
   },
   "outputs": [
    {
     "data": {
      "text/plain": [
       "array([ 6,  6, 10, 15, 10, 15, 11,  6, 19, 15,  9, 12, 14, 11, 16, 14, 14,\n",
       "       10,  5, 10, 15, 15, 16, 12,  8,  8, 11, 15, 11, 11, 12, 17, 16, 12,\n",
       "       15,  6, 18, 15, 11, 13, 11, 12, 18, 11,  9,  6, 11, 20, 14,  7, 13,\n",
       "       13, 10, 11, 13, 10, 15, 15,  9, 16, 11, 11,  9,  9, 10, 15, 12,  6,\n",
       "        8, 16, 15, 10,  5, 14, 11, 10, 10, 11, 10,  5, 12, 11,  6, 15, 10,\n",
       "        8,  6, 14, 10,  7,  8, 18,  6, 10, 14, 10, 15, 10, 14,  8,  5, 17,\n",
       "       14,  6, 18, 11,  8, 18, 13, 16, 19, 10, 13, 19,  9, 16, 14, 13,  8,\n",
       "       13, 15, 15, 13, 13,  8, 12, 11,  9,  0, 18,  0,  0, 12, 11,  0,  0,\n",
       "        0,  0, 12, 15,  0,  9, 11, 13,  0, 11,  0, 11,  0, 10,  0, 14, 10,\n",
       "        0, 12,  8, 13, 10, 15, 12,  0,  7,  0, 10,  7, 12, 10, 16,  0, 14,\n",
       "        0, 16, 10,  0,  9,  9, 11,  6,  9, 11,  8, 12, 17,  8, 12, 11, 11,\n",
       "       15,  9, 10, 13,  9,  8, 10, 14, 15, 16, 10, 18, 10, 16, 10, 10,  6,\n",
       "       11,  9,  7, 13, 10,  7,  8, 13, 14,  8, 10, 15,  4,  8,  8, 10,  6,\n",
       "        0, 17, 13, 14,  7, 15, 12,  9, 12, 14, 11,  9, 13,  6, 10, 13, 12,\n",
       "       11,  0, 12, 12,  0, 12,  0, 18, 13,  8,  5, 15,  8, 10,  8,  8, 12,\n",
       "        8, 13, 11, 14,  0, 18,  8, 12,  9,  0, 17, 10, 11, 10,  0,  9, 14,\n",
       "       11, 14, 10, 12,  9,  9,  8, 10,  8, 10, 12, 10, 11, 11, 19, 12, 14,\n",
       "       15, 11, 15, 13, 18, 14, 11,  0,  8, 14, 16, 11, 10, 14, 18, 13, 12,\n",
       "       18,  8, 12, 10,  0, 13, 11, 11, 13, 11,  0,  9, 10, 11, 13,  9, 11,\n",
       "       15, 15, 11, 16, 10,  9, 14,  8, 14,  0,  0,  0, 15, 13,  0, 17, 10,\n",
       "       11,  0, 15,  0, 10, 14, 16,  9, 15, 13,  8, 13,  8,  8, 11,  9, 13,\n",
       "       11, 10, 16, 13, 12, 10, 15, 12, 10, 13,  0, 10, 11,  9, 12, 11,  5,\n",
       "       19, 10, 15, 10, 15, 10, 14,  7, 10,  0,  5, 10,  6,  0,  8,  0,  9,\n",
       "       16,  7, 10,  9])"
      ]
     },
     "execution_count": 46,
     "metadata": {},
     "output_type": "execute_result"
    }
   ],
   "source": [
    "np.argmax(keras_cat_classes, axis=1)"
   ]
  },
  {
   "cell_type": "code",
   "execution_count": null,
   "metadata": {
    "cell_id": "120b8d58b248476a9ca3d6c07235c73e",
    "deepnote_cell_type": "code",
    "deepnote_to_be_reexecuted": false,
    "execution_millis": 1,
    "execution_start": 1666089554354,
    "id": "ZynvRtNU0Wfs",
    "source_hash": "b623e53d"
   },
   "outputs": [],
   "source": []
  },
  {
   "cell_type": "markdown",
   "metadata": {
    "created_in_deepnote_cell": true,
    "deepnote_cell_type": "markdown",
    "tags": []
   },
   "source": [
    "<a style='text-decoration:none;line-height:16px;display:flex;color:#5B5B62;padding:10px;justify-content:end;' href='https://deepnote.com?utm_source=created-in-deepnote-cell&projectId=668fea72-6c55-453b-98ea-fb3354dc106c' target=\"_blank\">\n",
    "<img alt='Created in deepnote.com' style='display:inline;max-height:16px;margin:0px;margin-right:7.5px;' src='data:image/svg+xml;base64,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' > </img>\n",
    "Created in <span style='font-weight:600;margin-left:4px;'>Deepnote</span></a>"
   ]
  }
 ],
 "metadata": {
  "colab": {
   "collapsed_sections": [],
   "provenance": []
  },
  "deepnote": {},
  "deepnote_execution_queue": [],
  "deepnote_notebook_id": "5a7e9a90bd6e439d8752ec3401793d76",
  "deepnote_persisted_session": {
   "createdAt": "2022-10-26T11:31:45.561Z"
  },
  "kernelspec": {
   "display_name": "Python 3 (ipykernel)",
   "language": "python",
   "name": "python3"
  },
  "language_info": {
   "codemirror_mode": {
    "name": "ipython",
    "version": 3
   },
   "file_extension": ".py",
   "mimetype": "text/x-python",
   "name": "python",
   "nbconvert_exporter": "python",
   "pygments_lexer": "ipython3",
   "version": "3.10.7"
  }
 },
 "nbformat": 4,
 "nbformat_minor": 4
}
