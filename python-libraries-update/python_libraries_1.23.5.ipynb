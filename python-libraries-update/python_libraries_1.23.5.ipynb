{
 "cells": [
  {
   "cell_type": "markdown",
   "id": "149487d3-fcaa-4d18-86e3-fc08267a4405",
   "metadata": {},
   "source": [
    "# Import numpy and check version"
   ]
  },
  {
   "cell_type": "code",
   "execution_count": 1,
   "id": "39be5221-68b7-41f3-9559-afcf99ed07fa",
   "metadata": {
    "id": "39be5221-68b7-41f3-9559-afcf99ed07fa"
   },
   "outputs": [],
   "source": [
    "import numpy as np\n",
    "import timeit"
   ]
  },
  {
   "cell_type": "code",
   "execution_count": 2,
   "id": "1r4J4bdSUA66",
   "metadata": {
    "colab": {
     "base_uri": "https://localhost:8080/"
    },
    "id": "1r4J4bdSUA66",
    "outputId": "1f455e04-82d3-4c1b-a73b-c15933f4c30e"
   },
   "outputs": [
    {
     "data": {
      "text/plain": [
       "'1.23.5'"
      ]
     },
     "execution_count": 2,
     "metadata": {},
     "output_type": "execute_result"
    }
   ],
   "source": [
    "np.version.version"
   ]
  },
  {
   "cell_type": "markdown",
   "id": "68d534c7-462f-4a8d-9a36-0dc85a14608d",
   "metadata": {},
   "source": [
    "# Prepare input datasets and check outputs"
   ]
  },
  {
   "cell_type": "code",
   "execution_count": 3,
   "id": "4LlyM5TfVPl3",
   "metadata": {
    "id": "4LlyM5TfVPl3"
   },
   "outputs": [],
   "source": [
    "# set numpy seed for consistency\n",
    "np.random.seed(12)\n",
    "\n",
    "# 50000 integers between 0 and 4\n",
    "random_int1 = np.random.randint(low=0, high=5, size=50000, dtype=int)\n",
    "random_int2 = np.random.randint(low=0, high=5, size=50000, dtype=int)\n",
    "\n",
    "# 50000 booleans\n",
    "random_bool1 = np.random.choice([True,False], size=50000)\n",
    "random_bool2 = np.random.choice([True,False], size=50000)\n",
    "\n",
    "# integer arrays for in1d to compare (in1d is also utilised by isin)\n",
    "main_arr = np.arange(start=0, stop=50000, step=1, dtype=int)\n",
    "comp_arr = np.arange(start=0, stop=50000, step=2, dtype=int)"
   ]
  },
  {
   "cell_type": "code",
   "execution_count": 4,
   "id": "15fde098-485b-496f-89fe-e9286d32c1cb",
   "metadata": {
    "id": "15fde098-485b-496f-89fe-e9286d32c1cb"
   },
   "outputs": [],
   "source": [
    "comp_int = np.equal(random_int1, random_int2)"
   ]
  },
  {
   "cell_type": "code",
   "execution_count": 5,
   "id": "XNM-pcNDWR9l",
   "metadata": {
    "colab": {
     "base_uri": "https://localhost:8080/"
    },
    "id": "XNM-pcNDWR9l",
    "outputId": "5afbf556-092f-461e-9a54-8f5b388979b1"
   },
   "outputs": [
    {
     "data": {
      "text/plain": [
       "array([False, False, False, False,  True,  True,  True, False, False,\n",
       "       False,  True, False, False, False,  True,  True, False, False,\n",
       "        True, False])"
      ]
     },
     "execution_count": 5,
     "metadata": {},
     "output_type": "execute_result"
    }
   ],
   "source": [
    "comp_int[:20]"
   ]
  },
  {
   "cell_type": "code",
   "execution_count": 6,
   "id": "371eabcf-ef58-444a-b0e7-4256fb4cc649",
   "metadata": {},
   "outputs": [],
   "source": [
    "comp_bool = np.equal(random_bool1, random_bool2)"
   ]
  },
  {
   "cell_type": "code",
   "execution_count": 7,
   "id": "a2ce25c4-b235-4ad6-9b68-c6c97d63eb6e",
   "metadata": {},
   "outputs": [
    {
     "data": {
      "text/plain": [
       "array([False,  True,  True,  True, False, False, False, False, False,\n",
       "        True, False,  True,  True,  True,  True,  True,  True, False,\n",
       "        True, False])"
      ]
     },
     "execution_count": 7,
     "metadata": {},
     "output_type": "execute_result"
    }
   ],
   "source": [
    "comp_bool[:20]"
   ]
  },
  {
   "cell_type": "code",
   "execution_count": 8,
   "id": "454c5845-4e56-42e4-8b9e-7ff862b2fb5e",
   "metadata": {},
   "outputs": [],
   "source": [
    "comp_in1d = np.in1d(main_arr, comp_arr)"
   ]
  },
  {
   "cell_type": "code",
   "execution_count": 9,
   "id": "bac7cc38-e725-4a51-95da-0f3cb345a5d0",
   "metadata": {},
   "outputs": [
    {
     "data": {
      "text/plain": [
       "array([ True, False,  True, False,  True, False,  True, False,  True,\n",
       "       False,  True, False,  True, False,  True, False,  True, False,\n",
       "        True, False])"
      ]
     },
     "execution_count": 9,
     "metadata": {},
     "output_type": "execute_result"
    }
   ],
   "source": [
    "comp_in1d[:20]"
   ]
  },
  {
   "cell_type": "markdown",
   "id": "oXuYzq4pPsgX",
   "metadata": {
    "id": "oXuYzq4pPsgX"
   },
   "source": [
    "## Timit setup"
   ]
  },
  {
   "cell_type": "code",
   "execution_count": 10,
   "id": "27ee6062-8a73-4a5f-b490-213b9bebb270",
   "metadata": {
    "id": "27ee6062-8a73-4a5f-b490-213b9bebb270"
   },
   "outputs": [],
   "source": [
    "setup = '''\n",
    "import numpy as np\n",
    "# set numpy seed for consistency\n",
    "np.random.seed(12)\n",
    "\n",
    "# 50000 integers between 0 and 4\n",
    "random_int1 = np.random.randint(low=0, high=5, size=50000, dtype=int)\n",
    "random_int2 = np.random.randint(low=0, high=5, size=50000, dtype=int)\n",
    "\n",
    "# 50000 booleans\n",
    "random_bool1 = np.random.choice([True,False], size=50000)\n",
    "random_bool2 = np.random.choice([True,False], size=50000)\n",
    "\n",
    "# integer arrays for in1d to compare (in1d is also utilised by isin)\n",
    "main_arr = np.arange(start=0, stop=50000, step=1, dtype=int)\n",
    "comp_arr = np.arange(start=0, stop=50000, step=2, dtype=int)\n",
    "'''"
   ]
  },
  {
   "cell_type": "code",
   "execution_count": 11,
   "id": "e10842da-e7d4-416a-8b56-ddbe2fc09e89",
   "metadata": {
    "id": "e10842da-e7d4-416a-8b56-ddbe2fc09e89"
   },
   "outputs": [],
   "source": [
    "equal_func_int = '''\n",
    "comp = np.equal(random_int1, random_int2)\n",
    "'''"
   ]
  },
  {
   "cell_type": "code",
   "execution_count": 12,
   "id": "4b210796-1e36-46e6-8b1a-ea309eec43e5",
   "metadata": {},
   "outputs": [],
   "source": [
    "equal_func_bool = '''\n",
    "comp = np.equal(random_bool1, random_bool2)\n",
    "'''"
   ]
  },
  {
   "cell_type": "code",
   "execution_count": 13,
   "id": "399d246f-5db2-427a-870c-af9e3be049bd",
   "metadata": {},
   "outputs": [],
   "source": [
    "in1d_func_sort = '''\n",
    "comp_in1d = np.in1d(main_arr, comp_arr)\n",
    "'''"
   ]
  },
  {
   "cell_type": "markdown",
   "id": "G-gbu-OUP3vo",
   "metadata": {
    "id": "G-gbu-OUP3vo"
   },
   "source": [
    "## Run timit for different methods"
   ]
  },
  {
   "cell_type": "markdown",
   "id": "1e332cc2-ec6d-4cb1-8e60-f363e3fd9ea1",
   "metadata": {},
   "source": [
    "#### Two integer arrays with length 50000 using method np.equal (method run 1 million times)"
   ]
  },
  {
   "cell_type": "code",
   "execution_count": 14,
   "id": "41780579-958c-41d7-8d59-ea0c62a63acf",
   "metadata": {
    "colab": {
     "base_uri": "https://localhost:8080/"
    },
    "id": "41780579-958c-41d7-8d59-ea0c62a63acf",
    "outputId": "7d984d27-a6f5-4a34-d5a6-581180b80eaa"
   },
   "outputs": [
    {
     "data": {
      "text/plain": [
       "32.92394820001209"
      ]
     },
     "execution_count": 14,
     "metadata": {},
     "output_type": "execute_result"
    }
   ],
   "source": [
    "timeit.timeit(stmt=equal_func_int, setup=setup, number=1000000)"
   ]
  },
  {
   "cell_type": "markdown",
   "id": "c90fee46-ba85-467a-b452-d94805139880",
   "metadata": {},
   "source": [
    "#### Two boolean arrays with length 50000 using method np.equal (method run 1 million times)"
   ]
  },
  {
   "cell_type": "code",
   "execution_count": 15,
   "id": "6fc1ccdb-b976-4d92-9845-c56d6d23d2f0",
   "metadata": {},
   "outputs": [
    {
     "data": {
      "text/plain": [
       "45.41430980002042"
      ]
     },
     "execution_count": 15,
     "metadata": {},
     "output_type": "execute_result"
    }
   ],
   "source": [
    "timeit.timeit(stmt=equal_func_bool, setup=setup, number=1000000)"
   ]
  },
  {
   "cell_type": "markdown",
   "id": "53c849f5-daf6-4b43-b9a3-474a057c00a0",
   "metadata": {},
   "source": [
    "#### Two integer arrays compared using in1d method (method run 10 thousand times)\n",
    "\n",
    "Note: there is no \"kind=\" parameter in numpy 1.23.5 and earlier. The in1d method automatically uses the equivalent of kind=\"sort\" in numpy 1.24.0 and later. "
   ]
  },
  {
   "cell_type": "code",
   "execution_count": 16,
   "id": "fb1eb256-1e0b-4c42-8dfb-ce016dac9c03",
   "metadata": {},
   "outputs": [
    {
     "data": {
      "text/plain": [
       "18.523487800033763"
      ]
     },
     "execution_count": 16,
     "metadata": {},
     "output_type": "execute_result"
    }
   ],
   "source": [
    "timeit.timeit(stmt=in1d_func_sort, setup=setup, number=10000)"
   ]
  }
 ],
 "metadata": {
  "colab": {
   "provenance": []
  },
  "gpuClass": "standard",
  "kernelspec": {
   "display_name": "Python 3 (ipykernel)",
   "language": "python",
   "name": "python3"
  },
  "language_info": {
   "codemirror_mode": {
    "name": "ipython",
    "version": 3
   },
   "file_extension": ".py",
   "mimetype": "text/x-python",
   "name": "python",
   "nbconvert_exporter": "python",
   "pygments_lexer": "ipython3",
   "version": "3.10.2"
  }
 },
 "nbformat": 4,
 "nbformat_minor": 5
}
