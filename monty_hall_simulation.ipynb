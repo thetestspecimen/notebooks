{
 "cells": [
  {
   "cell_type": "markdown",
   "id": "5a1453ab-c682-4cc3-b4a9-0dc64bbbbb0c",
   "metadata": {},
   "source": [
    "# Monty Hall Simulation\n",
    "\n",
    "This notebook is designed to simulate the Monty Hall Problem.\n",
    "\n",
    "It is split into two section:\n",
    "\n",
    "1) A step-by-step inplementation of the simulation to make it clear exactly what is being calculated\n",
    "2) A one-cell script that can be used to efficiently run the simulation that was created in step 1\n",
    "\n",
    "## What is the Monty Hall Problem?\n",
    "\n",
    "Essentially, there are three \"Doors\", behind one door is a \"prize\", the other two doors have nothing behind them. (You want the prize, obviously) \n",
    "\n",
    "Initially, you must select one of the three doors. Once the initial selection is made, one of the remaining doors will be opened to reveal the contents. The door that will be revealed will always have nothing behind it (i.e. it will never be the door with the prize). \n",
    "\n",
    "The question is:\n",
    "\n",
    "What is the best strategy to pick the door with the prize? Should you:\n",
    "\n",
    "    a. stick with the door you initially picked\n",
    "    b. switch to the one remaining closed door"
   ]
  },
  {
   "cell_type": "markdown",
   "id": "31f78a4b-d789-4efa-a6b4-ca10817d832e",
   "metadata": {},
   "source": [
    "## Step through the logic\n",
    "\n",
    "This secion will step through the calculation steps to reveal what is happening.\n",
    "\n",
    "You can use this section to make sure the logic is sound, and follows the game correctly.\n",
    "\n",
    "### Name the three choices\n",
    "\n",
    "In this case we are going to name the three choices A, B and C. These will be our 'doors'. "
   ]
  },
  {
   "cell_type": "code",
   "execution_count": 45,
   "id": "1035ac7c-c554-4bd3-98ac-0e7c25d58dce",
   "metadata": {},
   "outputs": [
    {
     "data": {
      "text/plain": [
       "array(['A', 'B', 'C'], dtype='<U1')"
      ]
     },
     "execution_count": 45,
     "metadata": {},
     "output_type": "execute_result"
    }
   ],
   "source": [
    "import numpy as np\n",
    "doors = np.array(['A','B','C'])\n",
    "doors"
   ]
  },
  {
   "cell_type": "markdown",
   "id": "bc4b3fe3-5ba6-4e81-94f9-d398ca4c3e82",
   "metadata": {},
   "source": [
    "### Set initial parameters\n",
    "\n",
    "The whole point of this experiment is to figure out whether switching has a higher probability of winning than not switching.\n",
    "\n",
    "We therefore need to fix this parameter to either 'True' or 'False' to allow the convergence."
   ]
  },
  {
   "cell_type": "code",
   "execution_count": 54,
   "id": "144a4098-9c65-4f24-a0d5-4b6172b1f40b",
   "metadata": {},
   "outputs": [],
   "source": [
    "# you can set this to True or False as you wish\n",
    "switch_door = False"
   ]
  },
  {
   "cell_type": "markdown",
   "id": "7596d76d-ed58-462e-800b-ca338ef3e7ef",
   "metadata": {},
   "source": [
    "### Set the number of wins and losses to zero."
   ]
  },
  {
   "cell_type": "code",
   "execution_count": 47,
   "id": "e3939911-427e-406b-9390-a9c7b9dbe415",
   "metadata": {},
   "outputs": [],
   "source": [
    "win = 0\n",
    "lose = 0"
   ]
  },
  {
   "cell_type": "markdown",
   "id": "4abbc138-92d2-405e-badc-63d986995506",
   "metadata": {},
   "source": [
    "### Where is the prize\n",
    "We need to set which door the prize is behind. \n",
    "\n",
    "This will be completely random."
   ]
  },
  {
   "cell_type": "code",
   "execution_count": 48,
   "id": "52b63980-9452-4485-b787-ffe5e61bb204",
   "metadata": {},
   "outputs": [
    {
     "data": {
      "text/plain": [
       "np.str_('A')"
      ]
     },
     "execution_count": 48,
     "metadata": {},
     "output_type": "execute_result"
    }
   ],
   "source": [
    "prize_door = np.random.choice(doors)\n",
    "prize_door"
   ]
  },
  {
   "cell_type": "markdown",
   "id": "e1db1b3d-6ec6-44ed-babb-0249e08a2014",
   "metadata": {},
   "source": [
    "### Set our initial pick\n",
    "We need to make out initial door selection. \n",
    "\n",
    "This will be completely random, but it could also be fixed without affecting the outcome, as the prize door is picked randomly."
   ]
  },
  {
   "cell_type": "code",
   "execution_count": 49,
   "id": "3ddb661f-0097-4e65-85d4-f6abff7b4ac6",
   "metadata": {},
   "outputs": [
    {
     "data": {
      "text/plain": [
       "np.str_('C')"
      ]
     },
     "execution_count": 49,
     "metadata": {},
     "output_type": "execute_result"
    }
   ],
   "source": [
    "initial_pick = np.random.choice(doors)\n",
    "initial_pick"
   ]
  },
  {
   "cell_type": "markdown",
   "id": "e07c51e5-24d2-4aad-be47-123712165819",
   "metadata": {},
   "source": [
    "### Extract the unselected doors for later use"
   ]
  },
  {
   "cell_type": "code",
   "execution_count": 50,
   "id": "0f4695c5-f9ba-4dfd-980e-5478bb343482",
   "metadata": {},
   "outputs": [
    {
     "data": {
      "text/plain": [
       "array(['A', 'B'], dtype='<U1')"
      ]
     },
     "execution_count": 50,
     "metadata": {},
     "output_type": "execute_result"
    }
   ],
   "source": [
    "unselected_doors = np.delete(doors, np.where(doors == initial_pick))\n",
    "unselected_doors"
   ]
  },
  {
   "cell_type": "markdown",
   "id": "152e525f-0e27-414a-949c-4dff04ce7771",
   "metadata": {},
   "source": [
    "### Set the logic to decide if we win or lose"
   ]
  },
  {
   "cell_type": "code",
   "execution_count": 51,
   "id": "c1c25d6b-de60-4885-ab74-807d67b5bc03",
   "metadata": {},
   "outputs": [
    {
     "name": "stdout",
     "output_type": "stream",
     "text": [
      "Lose!\n"
     ]
    }
   ],
   "source": [
    "if (prize_door in unselected_doors and switch_door) or (prize_door == initial_pick and not switch_door):\n",
    "    print('Win!')\n",
    "    win += 1\n",
    "else:\n",
    "    print('Lose!')\n",
    "    lose += 1"
   ]
  },
  {
   "cell_type": "markdown",
   "id": "f7259635-ff39-4b55-9ad1-61ff67b5a81d",
   "metadata": {},
   "source": [
    "# Run the simulation\n",
    "\n",
    "Combining the logic from the preceeding section into a loop allows a large number of interations to be run to help calculate a probability."
   ]
  },
  {
   "cell_type": "markdown",
   "id": "bbbe08ea-5561-49a7-8523-891969321fc2",
   "metadata": {},
   "source": [
    "## Variables\n",
    "\n",
    "In the cell below set:\n",
    "\n",
    "1. **interations** - the higher the number, the slower the calculation, but the more accurate the final win percentage.\n",
    "2. **switch_door** - set to *True* to always switch the door selection, or *False* to always stick with the inital door pick."
   ]
  },
  {
   "cell_type": "code",
   "execution_count": 52,
   "id": "cc009447-d5be-47a6-aa99-14f9eb0e0624",
   "metadata": {},
   "outputs": [],
   "source": [
    "iterations = 100000\n",
    "switch_door = True"
   ]
  },
  {
   "cell_type": "markdown",
   "id": "42c4ba3f-03b3-4800-8731-0e37d57895c0",
   "metadata": {},
   "source": [
    "## The Calculation\n",
    "\n",
    "Once the Variables have been set in the previous cell, run the cell below to get the win percentage."
   ]
  },
  {
   "cell_type": "code",
   "execution_count": 53,
   "id": "499572b4-ded1-4f02-b944-4cc79dfdc474",
   "metadata": {},
   "outputs": [
    {
     "name": "stdout",
     "output_type": "stream",
     "text": [
      "Win percentage: 66.6%\n"
     ]
    }
   ],
   "source": [
    "doors = np.array(['A','B','C'])\n",
    "win = 0\n",
    "lose = 0\n",
    "\n",
    "for _ in range(iterations):\n",
    "    prize_door = np.random.choice(doors)\n",
    "    initial_pick = np.random.choice(doors)\n",
    "    unselected_doors = np.delete(doors, np.where(doors == initial_pick))\n",
    "    if (prize_door in unselected_doors and switch_door) or (prize_door == initial_pick and not switch_door):\n",
    "        win += 1\n",
    "    else:\n",
    "        lose += 1\n",
    "\n",
    "print(f'Win percentage: {(100.0 * (win / iterations)):.1f}%')"
   ]
  }
 ],
 "metadata": {
  "kernelspec": {
   "display_name": "Python 3 (ipykernel)",
   "language": "python",
   "name": "python3"
  },
  "language_info": {
   "codemirror_mode": {
    "name": "ipython",
    "version": 3
   },
   "file_extension": ".py",
   "mimetype": "text/x-python",
   "name": "python",
   "nbconvert_exporter": "python",
   "pygments_lexer": "ipython3",
   "version": "3.12.5"
  }
 },
 "nbformat": 4,
 "nbformat_minor": 5
}
